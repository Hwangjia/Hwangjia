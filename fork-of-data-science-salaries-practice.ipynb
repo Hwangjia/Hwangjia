{
 "cells": [
  {
   "cell_type": "markdown",
   "id": "7fc6efaf",
   "metadata": {
    "papermill": {
     "duration": 0.014859,
     "end_time": "2022-08-28T09:59:17.049493",
     "exception": false,
     "start_time": "2022-08-28T09:59:17.034634",
     "status": "completed"
    },
    "tags": []
   },
   "source": [
    "# Practicing with Data Science Salaries Dataset\n",
    "#### Assumption is that the data obtained provides (possibly) an accurate representation of the salaries of data scientist.\n",
    "#### The objective of this analysis is to identify whether the salaries of data scientist (or data analytics related jobs) are above the average annual salary relative to the Country in which the employee is situated in.\n",
    "\n",
    "Dataset and description of variables/features can be obtained from: https://salaries.ai-jobs.net/download/"
   ]
  },
  {
   "cell_type": "code",
   "execution_count": 1,
   "id": "6362de21",
   "metadata": {
    "_cell_guid": "b1076dfc-b9ad-4769-8c92-a6c4dae69d19",
    "_uuid": "8f2839f25d086af736a60e9eeb907d3b93b6e0e5",
    "execution": {
     "iopub.execute_input": "2022-08-28T09:59:17.077046Z",
     "iopub.status.busy": "2022-08-28T09:59:17.076587Z",
     "iopub.status.idle": "2022-08-28T09:59:18.703390Z",
     "shell.execute_reply": "2022-08-28T09:59:18.701952Z"
    },
    "papermill": {
     "duration": 1.644501,
     "end_time": "2022-08-28T09:59:18.706844",
     "exception": false,
     "start_time": "2022-08-28T09:59:17.062343",
     "status": "completed"
    },
    "tags": []
   },
   "outputs": [
    {
     "name": "stdout",
     "output_type": "stream",
     "text": [
      "/kaggle/input/iso-country-codes-global/wikipedia-iso-country-codes.csv\n",
      "/kaggle/input/data-science-job-salaries/ds_salaries.csv\n",
      "/kaggle/input/average-annual-wages-by-country-from-oecd/AV_AN_WAGE_24072022124154184.csv\n"
     ]
    }
   ],
   "source": [
    "# This Python 3 environment comes with many helpful analytics libraries installed\n",
    "# It is defined by the kaggle/python Docker image: https://github.com/kaggle/docker-python\n",
    "# For example, here's several helpful packages to load\n",
    "\n",
    "import numpy as np # linear algebra\n",
    "import pandas as pd # data processing, CSV file I/O (e.g. pd.read_csv)\n",
    "import plotly.express as px\n",
    "from plotly.subplots import make_subplots\n",
    "import plotly.graph_objects as go\n",
    "import plotly.io as pio\n",
    "\n",
    "# Input data files are available in the read-only \"../input/\" directory\n",
    "# For example, running this (by clicking run or pressing Shift+Enter) will list all files under the input directory\n",
    "\n",
    "import os\n",
    "for dirname, _, filenames in os.walk('/kaggle/input'):\n",
    "    for filename in filenames:\n",
    "        print(os.path.join(dirname, filename))\n",
    "\n",
    "# You can write up to 20GB to the current directory (/kaggle/working/) that gets preserved as output when you create a version using \"Save & Run All\" \n",
    "# You can also write temporary files to /kaggle/temp/, but they won't be saved outside of the current session"
   ]
  },
  {
   "cell_type": "markdown",
   "id": "ed4735f4",
   "metadata": {
    "papermill": {
     "duration": 0.012689,
     "end_time": "2022-08-28T09:59:18.734436",
     "exception": false,
     "start_time": "2022-08-28T09:59:18.721747",
     "status": "completed"
    },
    "tags": []
   },
   "source": [
    "# Initial Data work and processes"
   ]
  },
  {
   "cell_type": "markdown",
   "id": "be8af677",
   "metadata": {
    "papermill": {
     "duration": 0.013313,
     "end_time": "2022-08-28T09:59:18.760641",
     "exception": false,
     "start_time": "2022-08-28T09:59:18.747328",
     "status": "completed"
    },
    "tags": []
   },
   "source": [
    "### Loading relevant datasets:\n",
    "    1. Data Science Salaries\n",
    "    2. Average Global Salaries\n",
    "    3. Country codes "
   ]
  },
  {
   "cell_type": "code",
   "execution_count": 2,
   "id": "3e4cc5e3",
   "metadata": {
    "execution": {
     "iopub.execute_input": "2022-08-28T09:59:18.789065Z",
     "iopub.status.busy": "2022-08-28T09:59:18.788336Z",
     "iopub.status.idle": "2022-08-28T09:59:18.853343Z",
     "shell.execute_reply": "2022-08-28T09:59:18.852182Z"
    },
    "papermill": {
     "duration": 0.082407,
     "end_time": "2022-08-28T09:59:18.856268",
     "exception": false,
     "start_time": "2022-08-28T09:59:18.773861",
     "status": "completed"
    },
    "tags": []
   },
   "outputs": [],
   "source": [
    "salaries = pd.read_csv('../input/data-science-job-salaries/ds_salaries.csv')\n",
    "average_global_sal = pd.read_csv(\"../input/average-annual-wages-by-country-from-oecd/AV_AN_WAGE_24072022124154184.csv\")\n",
    "country_codes = pd.read_csv(\"../input/iso-country-codes-global/wikipedia-iso-country-codes.csv\")"
   ]
  },
  {
   "cell_type": "markdown",
   "id": "2a694a2f",
   "metadata": {
    "papermill": {
     "duration": 0.012416,
     "end_time": "2022-08-28T09:59:18.881415",
     "exception": false,
     "start_time": "2022-08-28T09:59:18.868999",
     "status": "completed"
    },
    "tags": []
   },
   "source": [
    "### Starting with Data Science Salaries Dataset"
   ]
  },
  {
   "cell_type": "code",
   "execution_count": 3,
   "id": "98d9c3a4",
   "metadata": {
    "execution": {
     "iopub.execute_input": "2022-08-28T09:59:18.909455Z",
     "iopub.status.busy": "2022-08-28T09:59:18.908635Z",
     "iopub.status.idle": "2022-08-28T09:59:18.934439Z",
     "shell.execute_reply": "2022-08-28T09:59:18.933527Z"
    },
    "papermill": {
     "duration": 0.04221,
     "end_time": "2022-08-28T09:59:18.936603",
     "exception": false,
     "start_time": "2022-08-28T09:59:18.894393",
     "status": "completed"
    },
    "tags": []
   },
   "outputs": [
    {
     "data": {
      "text/html": [
       "<div>\n",
       "<style scoped>\n",
       "    .dataframe tbody tr th:only-of-type {\n",
       "        vertical-align: middle;\n",
       "    }\n",
       "\n",
       "    .dataframe tbody tr th {\n",
       "        vertical-align: top;\n",
       "    }\n",
       "\n",
       "    .dataframe thead th {\n",
       "        text-align: right;\n",
       "    }\n",
       "</style>\n",
       "<table border=\"1\" class=\"dataframe\">\n",
       "  <thead>\n",
       "    <tr style=\"text-align: right;\">\n",
       "      <th></th>\n",
       "      <th>Unnamed: 0</th>\n",
       "      <th>work_year</th>\n",
       "      <th>experience_level</th>\n",
       "      <th>employment_type</th>\n",
       "      <th>job_title</th>\n",
       "      <th>salary</th>\n",
       "      <th>salary_currency</th>\n",
       "      <th>salary_in_usd</th>\n",
       "      <th>employee_residence</th>\n",
       "      <th>remote_ratio</th>\n",
       "      <th>company_location</th>\n",
       "      <th>company_size</th>\n",
       "    </tr>\n",
       "  </thead>\n",
       "  <tbody>\n",
       "    <tr>\n",
       "      <th>0</th>\n",
       "      <td>0</td>\n",
       "      <td>2020</td>\n",
       "      <td>MI</td>\n",
       "      <td>FT</td>\n",
       "      <td>Data Scientist</td>\n",
       "      <td>70000</td>\n",
       "      <td>EUR</td>\n",
       "      <td>79833</td>\n",
       "      <td>DE</td>\n",
       "      <td>0</td>\n",
       "      <td>DE</td>\n",
       "      <td>L</td>\n",
       "    </tr>\n",
       "    <tr>\n",
       "      <th>1</th>\n",
       "      <td>1</td>\n",
       "      <td>2020</td>\n",
       "      <td>SE</td>\n",
       "      <td>FT</td>\n",
       "      <td>Machine Learning Scientist</td>\n",
       "      <td>260000</td>\n",
       "      <td>USD</td>\n",
       "      <td>260000</td>\n",
       "      <td>JP</td>\n",
       "      <td>0</td>\n",
       "      <td>JP</td>\n",
       "      <td>S</td>\n",
       "    </tr>\n",
       "    <tr>\n",
       "      <th>2</th>\n",
       "      <td>2</td>\n",
       "      <td>2020</td>\n",
       "      <td>SE</td>\n",
       "      <td>FT</td>\n",
       "      <td>Big Data Engineer</td>\n",
       "      <td>85000</td>\n",
       "      <td>GBP</td>\n",
       "      <td>109024</td>\n",
       "      <td>GB</td>\n",
       "      <td>50</td>\n",
       "      <td>GB</td>\n",
       "      <td>M</td>\n",
       "    </tr>\n",
       "    <tr>\n",
       "      <th>3</th>\n",
       "      <td>3</td>\n",
       "      <td>2020</td>\n",
       "      <td>MI</td>\n",
       "      <td>FT</td>\n",
       "      <td>Product Data Analyst</td>\n",
       "      <td>20000</td>\n",
       "      <td>USD</td>\n",
       "      <td>20000</td>\n",
       "      <td>HN</td>\n",
       "      <td>0</td>\n",
       "      <td>HN</td>\n",
       "      <td>S</td>\n",
       "    </tr>\n",
       "    <tr>\n",
       "      <th>4</th>\n",
       "      <td>4</td>\n",
       "      <td>2020</td>\n",
       "      <td>SE</td>\n",
       "      <td>FT</td>\n",
       "      <td>Machine Learning Engineer</td>\n",
       "      <td>150000</td>\n",
       "      <td>USD</td>\n",
       "      <td>150000</td>\n",
       "      <td>US</td>\n",
       "      <td>50</td>\n",
       "      <td>US</td>\n",
       "      <td>L</td>\n",
       "    </tr>\n",
       "  </tbody>\n",
       "</table>\n",
       "</div>"
      ],
      "text/plain": [
       "   Unnamed: 0  work_year experience_level employment_type  \\\n",
       "0           0       2020               MI              FT   \n",
       "1           1       2020               SE              FT   \n",
       "2           2       2020               SE              FT   \n",
       "3           3       2020               MI              FT   \n",
       "4           4       2020               SE              FT   \n",
       "\n",
       "                    job_title  salary salary_currency  salary_in_usd  \\\n",
       "0              Data Scientist   70000             EUR          79833   \n",
       "1  Machine Learning Scientist  260000             USD         260000   \n",
       "2           Big Data Engineer   85000             GBP         109024   \n",
       "3        Product Data Analyst   20000             USD          20000   \n",
       "4   Machine Learning Engineer  150000             USD         150000   \n",
       "\n",
       "  employee_residence  remote_ratio company_location company_size  \n",
       "0                 DE             0               DE            L  \n",
       "1                 JP             0               JP            S  \n",
       "2                 GB            50               GB            M  \n",
       "3                 HN             0               HN            S  \n",
       "4                 US            50               US            L  "
      ]
     },
     "execution_count": 3,
     "metadata": {},
     "output_type": "execute_result"
    }
   ],
   "source": [
    "salaries.head()"
   ]
  },
  {
   "cell_type": "code",
   "execution_count": 4,
   "id": "4367f3a0",
   "metadata": {
    "execution": {
     "iopub.execute_input": "2022-08-28T09:59:18.965196Z",
     "iopub.status.busy": "2022-08-28T09:59:18.964470Z",
     "iopub.status.idle": "2022-08-28T09:59:19.004085Z",
     "shell.execute_reply": "2022-08-28T09:59:19.002811Z"
    },
    "papermill": {
     "duration": 0.057287,
     "end_time": "2022-08-28T09:59:19.007060",
     "exception": false,
     "start_time": "2022-08-28T09:59:18.949773",
     "status": "completed"
    },
    "tags": []
   },
   "outputs": [
    {
     "data": {
      "text/html": [
       "<div>\n",
       "<style scoped>\n",
       "    .dataframe tbody tr th:only-of-type {\n",
       "        vertical-align: middle;\n",
       "    }\n",
       "\n",
       "    .dataframe tbody tr th {\n",
       "        vertical-align: top;\n",
       "    }\n",
       "\n",
       "    .dataframe thead th {\n",
       "        text-align: right;\n",
       "    }\n",
       "</style>\n",
       "<table border=\"1\" class=\"dataframe\">\n",
       "  <thead>\n",
       "    <tr style=\"text-align: right;\">\n",
       "      <th></th>\n",
       "      <th>Unnamed: 0</th>\n",
       "      <th>work_year</th>\n",
       "      <th>salary</th>\n",
       "      <th>salary_in_usd</th>\n",
       "      <th>remote_ratio</th>\n",
       "    </tr>\n",
       "  </thead>\n",
       "  <tbody>\n",
       "    <tr>\n",
       "      <th>count</th>\n",
       "      <td>607.000000</td>\n",
       "      <td>607.000000</td>\n",
       "      <td>6.070000e+02</td>\n",
       "      <td>607.000000</td>\n",
       "      <td>607.00000</td>\n",
       "    </tr>\n",
       "    <tr>\n",
       "      <th>mean</th>\n",
       "      <td>303.000000</td>\n",
       "      <td>2021.405272</td>\n",
       "      <td>3.240001e+05</td>\n",
       "      <td>112297.869852</td>\n",
       "      <td>70.92257</td>\n",
       "    </tr>\n",
       "    <tr>\n",
       "      <th>std</th>\n",
       "      <td>175.370085</td>\n",
       "      <td>0.692133</td>\n",
       "      <td>1.544357e+06</td>\n",
       "      <td>70957.259411</td>\n",
       "      <td>40.70913</td>\n",
       "    </tr>\n",
       "    <tr>\n",
       "      <th>min</th>\n",
       "      <td>0.000000</td>\n",
       "      <td>2020.000000</td>\n",
       "      <td>4.000000e+03</td>\n",
       "      <td>2859.000000</td>\n",
       "      <td>0.00000</td>\n",
       "    </tr>\n",
       "    <tr>\n",
       "      <th>25%</th>\n",
       "      <td>151.500000</td>\n",
       "      <td>2021.000000</td>\n",
       "      <td>7.000000e+04</td>\n",
       "      <td>62726.000000</td>\n",
       "      <td>50.00000</td>\n",
       "    </tr>\n",
       "    <tr>\n",
       "      <th>50%</th>\n",
       "      <td>303.000000</td>\n",
       "      <td>2022.000000</td>\n",
       "      <td>1.150000e+05</td>\n",
       "      <td>101570.000000</td>\n",
       "      <td>100.00000</td>\n",
       "    </tr>\n",
       "    <tr>\n",
       "      <th>75%</th>\n",
       "      <td>454.500000</td>\n",
       "      <td>2022.000000</td>\n",
       "      <td>1.650000e+05</td>\n",
       "      <td>150000.000000</td>\n",
       "      <td>100.00000</td>\n",
       "    </tr>\n",
       "    <tr>\n",
       "      <th>max</th>\n",
       "      <td>606.000000</td>\n",
       "      <td>2022.000000</td>\n",
       "      <td>3.040000e+07</td>\n",
       "      <td>600000.000000</td>\n",
       "      <td>100.00000</td>\n",
       "    </tr>\n",
       "  </tbody>\n",
       "</table>\n",
       "</div>"
      ],
      "text/plain": [
       "       Unnamed: 0    work_year        salary  salary_in_usd  remote_ratio\n",
       "count  607.000000   607.000000  6.070000e+02     607.000000     607.00000\n",
       "mean   303.000000  2021.405272  3.240001e+05  112297.869852      70.92257\n",
       "std    175.370085     0.692133  1.544357e+06   70957.259411      40.70913\n",
       "min      0.000000  2020.000000  4.000000e+03    2859.000000       0.00000\n",
       "25%    151.500000  2021.000000  7.000000e+04   62726.000000      50.00000\n",
       "50%    303.000000  2022.000000  1.150000e+05  101570.000000     100.00000\n",
       "75%    454.500000  2022.000000  1.650000e+05  150000.000000     100.00000\n",
       "max    606.000000  2022.000000  3.040000e+07  600000.000000     100.00000"
      ]
     },
     "execution_count": 4,
     "metadata": {},
     "output_type": "execute_result"
    }
   ],
   "source": [
    "salaries.describe()"
   ]
  },
  {
   "cell_type": "code",
   "execution_count": 5,
   "id": "a0d99699",
   "metadata": {
    "execution": {
     "iopub.execute_input": "2022-08-28T09:59:19.036942Z",
     "iopub.status.busy": "2022-08-28T09:59:19.036140Z",
     "iopub.status.idle": "2022-08-28T09:59:19.053086Z",
     "shell.execute_reply": "2022-08-28T09:59:19.051775Z"
    },
    "papermill": {
     "duration": 0.034471,
     "end_time": "2022-08-28T09:59:19.055384",
     "exception": false,
     "start_time": "2022-08-28T09:59:19.020913",
     "status": "completed"
    },
    "tags": []
   },
   "outputs": [
    {
     "name": "stdout",
     "output_type": "stream",
     "text": [
      "<class 'pandas.core.frame.DataFrame'>\n",
      "RangeIndex: 607 entries, 0 to 606\n",
      "Data columns (total 12 columns):\n",
      " #   Column              Non-Null Count  Dtype \n",
      "---  ------              --------------  ----- \n",
      " 0   Unnamed: 0          607 non-null    int64 \n",
      " 1   work_year           607 non-null    int64 \n",
      " 2   experience_level    607 non-null    object\n",
      " 3   employment_type     607 non-null    object\n",
      " 4   job_title           607 non-null    object\n",
      " 5   salary              607 non-null    int64 \n",
      " 6   salary_currency     607 non-null    object\n",
      " 7   salary_in_usd       607 non-null    int64 \n",
      " 8   employee_residence  607 non-null    object\n",
      " 9   remote_ratio        607 non-null    int64 \n",
      " 10  company_location    607 non-null    object\n",
      " 11  company_size        607 non-null    object\n",
      "dtypes: int64(5), object(7)\n",
      "memory usage: 57.0+ KB\n"
     ]
    }
   ],
   "source": [
    "salaries.info() #No NA values"
   ]
  },
  {
   "cell_type": "code",
   "execution_count": 6,
   "id": "8b4ff781",
   "metadata": {
    "execution": {
     "iopub.execute_input": "2022-08-28T09:59:19.083944Z",
     "iopub.status.busy": "2022-08-28T09:59:19.083179Z",
     "iopub.status.idle": "2022-08-28T09:59:19.094048Z",
     "shell.execute_reply": "2022-08-28T09:59:19.093046Z"
    },
    "papermill": {
     "duration": 0.028184,
     "end_time": "2022-08-28T09:59:19.096713",
     "exception": false,
     "start_time": "2022-08-28T09:59:19.068529",
     "status": "completed"
    },
    "tags": []
   },
   "outputs": [
    {
     "data": {
      "text/plain": [
       "Unnamed: 0            607\n",
       "work_year               3\n",
       "experience_level        4\n",
       "employment_type         4\n",
       "job_title              50\n",
       "salary                272\n",
       "salary_currency        17\n",
       "salary_in_usd         369\n",
       "employee_residence     57\n",
       "remote_ratio            3\n",
       "company_location       50\n",
       "company_size            3\n",
       "dtype: int64"
      ]
     },
     "execution_count": 6,
     "metadata": {},
     "output_type": "execute_result"
    }
   ],
   "source": [
    "salaries.nunique()"
   ]
  },
  {
   "cell_type": "markdown",
   "id": "496c1bc1",
   "metadata": {
    "papermill": {
     "duration": 0.013027,
     "end_time": "2022-08-28T09:59:19.123208",
     "exception": false,
     "start_time": "2022-08-28T09:59:19.110181",
     "status": "completed"
    },
    "tags": []
   },
   "source": [
    "Each observation for \"Unnamed: 0\" column is unique, would not provide much useful information."
   ]
  },
  {
   "cell_type": "code",
   "execution_count": 7,
   "id": "c6ca9d13",
   "metadata": {
    "execution": {
     "iopub.execute_input": "2022-08-28T09:59:19.152267Z",
     "iopub.status.busy": "2022-08-28T09:59:19.151832Z",
     "iopub.status.idle": "2022-08-28T09:59:19.158292Z",
     "shell.execute_reply": "2022-08-28T09:59:19.157040Z"
    },
    "papermill": {
     "duration": 0.024403,
     "end_time": "2022-08-28T09:59:19.160974",
     "exception": false,
     "start_time": "2022-08-28T09:59:19.136571",
     "status": "completed"
    },
    "tags": []
   },
   "outputs": [],
   "source": [
    "salaries.drop(\"Unnamed: 0\", axis = 1, inplace = True)"
   ]
  },
  {
   "cell_type": "code",
   "execution_count": 8,
   "id": "fe566460",
   "metadata": {
    "execution": {
     "iopub.execute_input": "2022-08-28T09:59:19.190992Z",
     "iopub.status.busy": "2022-08-28T09:59:19.190197Z",
     "iopub.status.idle": "2022-08-28T09:59:19.199285Z",
     "shell.execute_reply": "2022-08-28T09:59:19.198141Z"
    },
    "papermill": {
     "duration": 0.026661,
     "end_time": "2022-08-28T09:59:19.201733",
     "exception": false,
     "start_time": "2022-08-28T09:59:19.175072",
     "status": "completed"
    },
    "tags": []
   },
   "outputs": [
    {
     "data": {
      "text/plain": [
       "work_year              int64\n",
       "experience_level      object\n",
       "employment_type       object\n",
       "job_title             object\n",
       "salary                 int64\n",
       "salary_currency       object\n",
       "salary_in_usd          int64\n",
       "employee_residence    object\n",
       "remote_ratio           int64\n",
       "company_location      object\n",
       "company_size          object\n",
       "dtype: object"
      ]
     },
     "execution_count": 8,
     "metadata": {},
     "output_type": "execute_result"
    }
   ],
   "source": [
    "salaries.dtypes"
   ]
  },
  {
   "cell_type": "markdown",
   "id": "90eb8807",
   "metadata": {
    "execution": {
     "iopub.execute_input": "2022-08-27T16:15:35.495416Z",
     "iopub.status.busy": "2022-08-27T16:15:35.494698Z",
     "iopub.status.idle": "2022-08-27T16:15:35.508853Z",
     "shell.execute_reply": "2022-08-27T16:15:35.507531Z",
     "shell.execute_reply.started": "2022-08-27T16:15:35.495377Z"
    },
    "papermill": {
     "duration": 0.013262,
     "end_time": "2022-08-28T09:59:19.228506",
     "exception": false,
     "start_time": "2022-08-28T09:59:19.215244",
     "status": "completed"
    },
    "tags": []
   },
   "source": [
    "#### Identifying and changing object type columns into categorical."
   ]
  },
  {
   "cell_type": "code",
   "execution_count": 9,
   "id": "05d10e25",
   "metadata": {
    "execution": {
     "iopub.execute_input": "2022-08-28T09:59:19.258818Z",
     "iopub.status.busy": "2022-08-28T09:59:19.258038Z",
     "iopub.status.idle": "2022-08-28T09:59:19.269554Z",
     "shell.execute_reply": "2022-08-28T09:59:19.268435Z"
    },
    "papermill": {
     "duration": 0.029644,
     "end_time": "2022-08-28T09:59:19.272021",
     "exception": false,
     "start_time": "2022-08-28T09:59:19.242377",
     "status": "completed"
    },
    "tags": []
   },
   "outputs": [
    {
     "data": {
      "text/plain": [
       "experience_level       4\n",
       "employment_type        4\n",
       "job_title             50\n",
       "salary_currency       17\n",
       "employee_residence    57\n",
       "company_location      50\n",
       "company_size           3\n",
       "dtype: int64"
      ]
     },
     "execution_count": 9,
     "metadata": {},
     "output_type": "execute_result"
    }
   ],
   "source": [
    "salaries.select_dtypes(include = \"object\").nunique()"
   ]
  },
  {
   "cell_type": "code",
   "execution_count": 10,
   "id": "2e88613e",
   "metadata": {
    "execution": {
     "iopub.execute_input": "2022-08-28T09:59:19.302332Z",
     "iopub.status.busy": "2022-08-28T09:59:19.301658Z",
     "iopub.status.idle": "2022-08-28T09:59:19.309310Z",
     "shell.execute_reply": "2022-08-28T09:59:19.308244Z"
    },
    "papermill": {
     "duration": 0.025742,
     "end_time": "2022-08-28T09:59:19.311983",
     "exception": false,
     "start_time": "2022-08-28T09:59:19.286241",
     "status": "completed"
    },
    "tags": []
   },
   "outputs": [],
   "source": [
    "cols_to_cat = salaries.select_dtypes(include = \"object\").filter(items = [\"experience_level\", \"employment_type\", \"company_size\"]).columns\n"
   ]
  },
  {
   "cell_type": "code",
   "execution_count": 11,
   "id": "ca1fb70d",
   "metadata": {
    "execution": {
     "iopub.execute_input": "2022-08-28T09:59:19.341242Z",
     "iopub.status.busy": "2022-08-28T09:59:19.340823Z",
     "iopub.status.idle": "2022-08-28T09:59:19.348273Z",
     "shell.execute_reply": "2022-08-28T09:59:19.346802Z"
    },
    "papermill": {
     "duration": 0.024925,
     "end_time": "2022-08-28T09:59:19.350535",
     "exception": false,
     "start_time": "2022-08-28T09:59:19.325610",
     "status": "completed"
    },
    "tags": []
   },
   "outputs": [
    {
     "name": "stdout",
     "output_type": "stream",
     "text": [
      "experience_level\n",
      "['MI' 'SE' 'EN' 'EX']\n",
      "employment_type\n",
      "['FT' 'CT' 'PT' 'FL']\n",
      "company_size\n",
      "['L' 'S' 'M']\n"
     ]
    }
   ],
   "source": [
    "#Checking the unique values in each object type variable in the dataset\n",
    "for i in cols_to_cat:\n",
    "    print(i)\n",
    "    print(salaries[i].unique())"
   ]
  },
  {
   "cell_type": "code",
   "execution_count": 12,
   "id": "f536e606",
   "metadata": {
    "execution": {
     "iopub.execute_input": "2022-08-28T09:59:19.380895Z",
     "iopub.status.busy": "2022-08-28T09:59:19.380238Z",
     "iopub.status.idle": "2022-08-28T09:59:19.392541Z",
     "shell.execute_reply": "2022-08-28T09:59:19.391577Z"
    },
    "papermill": {
     "duration": 0.030294,
     "end_time": "2022-08-28T09:59:19.395025",
     "exception": false,
     "start_time": "2022-08-28T09:59:19.364731",
     "status": "completed"
    },
    "tags": []
   },
   "outputs": [],
   "source": [
    "#Changing the value names into their exact names listed on the website for easier reading\n",
    "salaries[\"experience_level\"].replace([\"EN\", \"MI\", \"SE\",\"EX\"],\n",
    "                                     [\"Entry-level / Junior\", \"Mid-level / Intermediate\", \"Senior-level / Expert\", \"Executive-level / Director\"],\n",
    "                                    inplace = True)\n",
    "salaries[\"employment_type\"].replace(['PT', 'FT', 'CT', 'FL'], [\"Part-time\", \"Full-time\", \"Contract\", \"Freelance\"],\n",
    "                                    inplace = True)\n",
    "salaries[\"company_size\"].replace(['S', 'M', 'L'], [\"Small\", \"Medium\", \"Large\"],\n",
    "                                    inplace = True)\n",
    "salaries[\"remote_ratio\"].replace([0, 50, 100], [\"No Remote\", \"Partially Remote\", \"Fully Remote\"],\n",
    "                                    inplace = True)"
   ]
  },
  {
   "cell_type": "code",
   "execution_count": 13,
   "id": "f2a4e196",
   "metadata": {
    "execution": {
     "iopub.execute_input": "2022-08-28T09:59:19.424694Z",
     "iopub.status.busy": "2022-08-28T09:59:19.424060Z",
     "iopub.status.idle": "2022-08-28T09:59:20.779819Z",
     "shell.execute_reply": "2022-08-28T09:59:20.778670Z"
    },
    "papermill": {
     "duration": 1.373565,
     "end_time": "2022-08-28T09:59:20.782440",
     "exception": false,
     "start_time": "2022-08-28T09:59:19.408875",
     "status": "completed"
    },
    "tags": []
   },
   "outputs": [
    {
     "data": {
      "text/html": [
       "        <script type=\"text/javascript\">\n",
       "        window.PlotlyConfig = {MathJaxConfig: 'local'};\n",
       "        if (window.MathJax && window.MathJax.Hub && window.MathJax.Hub.Config) {window.MathJax.Hub.Config({SVG: {font: \"STIX-Web\"}});}\n",
       "        if (typeof require !== 'undefined') {\n",
       "        require.undef(\"plotly\");\n",
       "        requirejs.config({\n",
       "            paths: {\n",
       "                'plotly': ['https://cdn.plot.ly/plotly-2.12.1.min']\n",
       "            }\n",
       "        });\n",
       "        require(['plotly'], function(Plotly) {\n",
       "            window._Plotly = Plotly;\n",
       "        });\n",
       "        }\n",
       "        </script>\n",
       "        "
      ]
     },
     "metadata": {},
     "output_type": "display_data"
    },
    {
     "data": {
      "text/html": [
       "<div>                            <div id=\"c6a462d2-1ac7-45e7-8613-4165ba03bf07\" class=\"plotly-graph-div\" style=\"height:525px; width:100%;\"></div>            <script type=\"text/javascript\">                require([\"plotly\"], function(Plotly) {                    window.PLOTLYENV=window.PLOTLYENV || {};                                    if (document.getElementById(\"c6a462d2-1ac7-45e7-8613-4165ba03bf07\")) {                    Plotly.newPlot(                        \"c6a462d2-1ac7-45e7-8613-4165ba03bf07\",                        [{\"alignmentgroup\":\"True\",\"bingroup\":\"x\",\"hovertemplate\":\"company_location=DE<br>work_year=%{x}<br>count=%{y}<extra></extra>\",\"legendgroup\":\"DE\",\"marker\":{\"color\":\"#636efa\",\"opacity\":0.5,\"pattern\":{\"shape\":\"\"}},\"name\":\"DE\",\"offsetgroup\":\"DE\",\"orientation\":\"v\",\"showlegend\":true,\"x\":[2020,2020,2020,2020,2020,2020,2020,2021,2021,2021,2021,2021,2021,2021,2021,2021,2021,2021,2021,2021,2021,2021,2021,2022,2022,2022,2022,2022],\"xaxis\":\"x\",\"yaxis\":\"y\",\"type\":\"histogram\"},{\"alignmentgroup\":\"True\",\"bingroup\":\"x\",\"hovertemplate\":\"company_location=JP<br>work_year=%{x}<br>count=%{y}<extra></extra>\",\"legendgroup\":\"JP\",\"marker\":{\"color\":\"#EF553B\",\"opacity\":0.5,\"pattern\":{\"shape\":\"\"}},\"name\":\"JP\",\"offsetgroup\":\"JP\",\"orientation\":\"v\",\"showlegend\":true,\"x\":[2020,2020,2021,2021,2021,2021],\"xaxis\":\"x\",\"yaxis\":\"y\",\"type\":\"histogram\"},{\"alignmentgroup\":\"True\",\"bingroup\":\"x\",\"hovertemplate\":\"company_location=GB<br>work_year=%{x}<br>count=%{y}<extra></extra>\",\"legendgroup\":\"GB\",\"marker\":{\"color\":\"#00cc96\",\"opacity\":0.5,\"pattern\":{\"shape\":\"\"}},\"name\":\"GB\",\"offsetgroup\":\"GB\",\"orientation\":\"v\",\"showlegend\":true,\"x\":[2020,2020,2020,2020,2021,2021,2021,2021,2021,2021,2021,2021,2021,2021,2021,2021,2021,2021,2022,2022,2022,2022,2022,2022,2022,2022,2022,2022,2022,2022,2022,2022,2022,2022,2022,2022,2022,2022,2022,2022,2022,2022,2022,2022,2022,2022,2022],\"xaxis\":\"x\",\"yaxis\":\"y\",\"type\":\"histogram\"},{\"alignmentgroup\":\"True\",\"bingroup\":\"x\",\"hovertemplate\":\"company_location=HN<br>work_year=%{x}<br>count=%{y}<extra></extra>\",\"legendgroup\":\"HN\",\"marker\":{\"color\":\"#ab63fa\",\"opacity\":0.5,\"pattern\":{\"shape\":\"\"}},\"name\":\"HN\",\"offsetgroup\":\"HN\",\"orientation\":\"v\",\"showlegend\":true,\"x\":[2020],\"xaxis\":\"x\",\"yaxis\":\"y\",\"type\":\"histogram\"},{\"alignmentgroup\":\"True\",\"bingroup\":\"x\",\"hovertemplate\":\"company_location=US<br>work_year=%{x}<br>count=%{y}<extra></extra>\",\"legendgroup\":\"US\",\"marker\":{\"color\":\"#FFA15A\",\"opacity\":0.5,\"pattern\":{\"shape\":\"\"}},\"name\":\"US\",\"offsetgroup\":\"US\",\"orientation\":\"v\",\"showlegend\":true,\"x\":[2020,2020,2020,2020,2020,2020,2020,2020,2020,2020,2020,2020,2020,2020,2020,2020,2020,2020,2020,2020,2020,2020,2020,2020,2020,2020,2020,2020,2020,2020,2021,2021,2021,2021,2021,2021,2021,2021,2021,2021,2021,2021,2021,2021,2021,2021,2021,2021,2021,2021,2021,2021,2021,2021,2021,2021,2021,2021,2021,2021,2021,2021,2021,2021,2021,2021,2021,2021,2021,2021,2021,2021,2021,2021,2021,2021,2021,2021,2021,2021,2021,2021,2021,2021,2021,2021,2021,2021,2021,2021,2021,2021,2021,2021,2021,2021,2021,2021,2021,2021,2021,2021,2021,2021,2021,2021,2021,2021,2021,2021,2021,2021,2021,2021,2021,2021,2021,2021,2021,2021,2021,2021,2021,2021,2021,2021,2021,2021,2021,2022,2022,2022,2022,2022,2022,2022,2022,2022,2022,2022,2022,2022,2022,2022,2022,2022,2022,2022,2022,2022,2022,2022,2022,2022,2022,2022,2022,2022,2022,2022,2022,2022,2022,2022,2022,2022,2022,2022,2022,2022,2022,2022,2022,2022,2022,2022,2022,2022,2022,2022,2022,2022,2022,2022,2022,2022,2022,2022,2022,2022,2022,2022,2022,2022,2022,2022,2022,2022,2022,2022,2022,2022,2022,2022,2022,2022,2022,2022,2022,2022,2022,2022,2022,2022,2022,2022,2022,2022,2022,2022,2022,2022,2022,2022,2022,2022,2022,2022,2022,2022,2022,2022,2022,2022,2022,2022,2022,2022,2022,2022,2022,2022,2022,2022,2022,2022,2022,2022,2022,2022,2022,2022,2022,2022,2022,2022,2022,2022,2022,2022,2022,2022,2022,2022,2022,2022,2022,2022,2022,2022,2022,2022,2022,2022,2022,2022,2022,2022,2022,2022,2022,2022,2022,2022,2022,2022,2022,2022,2022,2022,2022,2022,2022,2022,2022,2022,2022,2022,2022,2022,2022,2022,2022,2022,2022,2022,2022,2022,2022,2022,2022,2022,2022,2022,2022,2022,2022,2022,2022,2022,2022,2022,2022,2022,2022,2022,2022,2022,2022,2022,2022,2022,2022,2022,2022,2022,2022,2022,2022,2022,2022,2022,2022,2022,2022,2022,2022,2022,2022,2022,2022,2022,2022,2022,2022],\"xaxis\":\"x\",\"yaxis\":\"y\",\"type\":\"histogram\"},{\"alignmentgroup\":\"True\",\"bingroup\":\"x\",\"hovertemplate\":\"company_location=HU<br>work_year=%{x}<br>count=%{y}<extra></extra>\",\"legendgroup\":\"HU\",\"marker\":{\"color\":\"#19d3f3\",\"opacity\":0.5,\"pattern\":{\"shape\":\"\"}},\"name\":\"HU\",\"offsetgroup\":\"HU\",\"orientation\":\"v\",\"showlegend\":true,\"x\":[2020],\"xaxis\":\"x\",\"yaxis\":\"y\",\"type\":\"histogram\"},{\"alignmentgroup\":\"True\",\"bingroup\":\"x\",\"hovertemplate\":\"company_location=NZ<br>work_year=%{x}<br>count=%{y}<extra></extra>\",\"legendgroup\":\"NZ\",\"marker\":{\"color\":\"#FF6692\",\"opacity\":0.5,\"pattern\":{\"shape\":\"\"}},\"name\":\"NZ\",\"offsetgroup\":\"NZ\",\"orientation\":\"v\",\"showlegend\":true,\"x\":[2020],\"xaxis\":\"x\",\"yaxis\":\"y\",\"type\":\"histogram\"},{\"alignmentgroup\":\"True\",\"bingroup\":\"x\",\"hovertemplate\":\"company_location=FR<br>work_year=%{x}<br>count=%{y}<extra></extra>\",\"legendgroup\":\"FR\",\"marker\":{\"color\":\"#B6E880\",\"opacity\":0.5,\"pattern\":{\"shape\":\"\"}},\"name\":\"FR\",\"offsetgroup\":\"FR\",\"orientation\":\"v\",\"showlegend\":true,\"x\":[2020,2020,2020,2020,2020,2021,2021,2021,2021,2021,2021,2021,2021,2022,2022],\"xaxis\":\"x\",\"yaxis\":\"y\",\"type\":\"histogram\"},{\"alignmentgroup\":\"True\",\"bingroup\":\"x\",\"hovertemplate\":\"company_location=IN<br>work_year=%{x}<br>count=%{y}<extra></extra>\",\"legendgroup\":\"IN\",\"marker\":{\"color\":\"#FF97FF\",\"opacity\":0.5,\"pattern\":{\"shape\":\"\"}},\"name\":\"IN\",\"offsetgroup\":\"IN\",\"orientation\":\"v\",\"showlegend\":true,\"x\":[2020,2020,2020,2020,2021,2021,2021,2021,2021,2021,2021,2021,2021,2021,2021,2021,2021,2021,2021,2021,2022,2022,2022,2022],\"xaxis\":\"x\",\"yaxis\":\"y\",\"type\":\"histogram\"},{\"alignmentgroup\":\"True\",\"bingroup\":\"x\",\"hovertemplate\":\"company_location=PK<br>work_year=%{x}<br>count=%{y}<extra></extra>\",\"legendgroup\":\"PK\",\"marker\":{\"color\":\"#FECB52\",\"opacity\":0.5,\"pattern\":{\"shape\":\"\"}},\"name\":\"PK\",\"offsetgroup\":\"PK\",\"orientation\":\"v\",\"showlegend\":true,\"x\":[2020,2021,2022],\"xaxis\":\"x\",\"yaxis\":\"y\",\"type\":\"histogram\"},{\"alignmentgroup\":\"True\",\"bingroup\":\"x\",\"hovertemplate\":\"company_location=CN<br>work_year=%{x}<br>count=%{y}<extra></extra>\",\"legendgroup\":\"CN\",\"marker\":{\"color\":\"#636efa\",\"opacity\":0.5,\"pattern\":{\"shape\":\"\"}},\"name\":\"CN\",\"offsetgroup\":\"CN\",\"orientation\":\"v\",\"showlegend\":true,\"x\":[2020,2021],\"xaxis\":\"x\",\"yaxis\":\"y\",\"type\":\"histogram\"},{\"alignmentgroup\":\"True\",\"bingroup\":\"x\",\"hovertemplate\":\"company_location=GR<br>work_year=%{x}<br>count=%{y}<extra></extra>\",\"legendgroup\":\"GR\",\"marker\":{\"color\":\"#EF553B\",\"opacity\":0.5,\"pattern\":{\"shape\":\"\"}},\"name\":\"GR\",\"offsetgroup\":\"GR\",\"orientation\":\"v\",\"showlegend\":true,\"x\":[2020,2021,2022,2022,2022,2022,2022,2022,2022,2022,2022],\"xaxis\":\"x\",\"yaxis\":\"y\",\"type\":\"histogram\"},{\"alignmentgroup\":\"True\",\"bingroup\":\"x\",\"hovertemplate\":\"company_location=AE<br>work_year=%{x}<br>count=%{y}<extra></extra>\",\"legendgroup\":\"AE\",\"marker\":{\"color\":\"#00cc96\",\"opacity\":0.5,\"pattern\":{\"shape\":\"\"}},\"name\":\"AE\",\"offsetgroup\":\"AE\",\"orientation\":\"v\",\"showlegend\":true,\"x\":[2020,2022,2022],\"xaxis\":\"x\",\"yaxis\":\"y\",\"type\":\"histogram\"},{\"alignmentgroup\":\"True\",\"bingroup\":\"x\",\"hovertemplate\":\"company_location=NL<br>work_year=%{x}<br>count=%{y}<extra></extra>\",\"legendgroup\":\"NL\",\"marker\":{\"color\":\"#ab63fa\",\"opacity\":0.5,\"pattern\":{\"shape\":\"\"}},\"name\":\"NL\",\"offsetgroup\":\"NL\",\"orientation\":\"v\",\"showlegend\":true,\"x\":[2020,2021,2021,2022],\"xaxis\":\"x\",\"yaxis\":\"y\",\"type\":\"histogram\"},{\"alignmentgroup\":\"True\",\"bingroup\":\"x\",\"hovertemplate\":\"company_location=MX<br>work_year=%{x}<br>count=%{y}<extra></extra>\",\"legendgroup\":\"MX\",\"marker\":{\"color\":\"#FFA15A\",\"opacity\":0.5,\"pattern\":{\"shape\":\"\"}},\"name\":\"MX\",\"offsetgroup\":\"MX\",\"orientation\":\"v\",\"showlegend\":true,\"x\":[2020,2021,2022],\"xaxis\":\"x\",\"yaxis\":\"y\",\"type\":\"histogram\"},{\"alignmentgroup\":\"True\",\"bingroup\":\"x\",\"hovertemplate\":\"company_location=CA<br>work_year=%{x}<br>count=%{y}<extra></extra>\",\"legendgroup\":\"CA\",\"marker\":{\"color\":\"#19d3f3\",\"opacity\":0.5,\"pattern\":{\"shape\":\"\"}},\"name\":\"CA\",\"offsetgroup\":\"CA\",\"orientation\":\"v\",\"showlegend\":true,\"x\":[2020,2021,2021,2021,2021,2021,2021,2021,2021,2021,2021,2021,2022,2022,2022,2022,2022,2022,2022,2022,2022,2022,2022,2022,2022,2022,2022,2022,2022,2022],\"xaxis\":\"x\",\"yaxis\":\"y\",\"type\":\"histogram\"},{\"alignmentgroup\":\"True\",\"bingroup\":\"x\",\"hovertemplate\":\"company_location=AT<br>work_year=%{x}<br>count=%{y}<extra></extra>\",\"legendgroup\":\"AT\",\"marker\":{\"color\":\"#FF6692\",\"opacity\":0.5,\"pattern\":{\"shape\":\"\"}},\"name\":\"AT\",\"offsetgroup\":\"AT\",\"orientation\":\"v\",\"showlegend\":true,\"x\":[2020,2020,2021,2022],\"xaxis\":\"x\",\"yaxis\":\"y\",\"type\":\"histogram\"},{\"alignmentgroup\":\"True\",\"bingroup\":\"x\",\"hovertemplate\":\"company_location=NG<br>work_year=%{x}<br>count=%{y}<extra></extra>\",\"legendgroup\":\"NG\",\"marker\":{\"color\":\"#B6E880\",\"opacity\":0.5,\"pattern\":{\"shape\":\"\"}},\"name\":\"NG\",\"offsetgroup\":\"NG\",\"orientation\":\"v\",\"showlegend\":true,\"x\":[2020,2021],\"xaxis\":\"x\",\"yaxis\":\"y\",\"type\":\"histogram\"},{\"alignmentgroup\":\"True\",\"bingroup\":\"x\",\"hovertemplate\":\"company_location=ES<br>work_year=%{x}<br>count=%{y}<extra></extra>\",\"legendgroup\":\"ES\",\"marker\":{\"color\":\"#FF97FF\",\"opacity\":0.5,\"pattern\":{\"shape\":\"\"}},\"name\":\"ES\",\"offsetgroup\":\"ES\",\"orientation\":\"v\",\"showlegend\":true,\"x\":[2020,2020,2021,2021,2021,2021,2021,2021,2022,2022,2022,2022,2022,2022],\"xaxis\":\"x\",\"yaxis\":\"y\",\"type\":\"histogram\"},{\"alignmentgroup\":\"True\",\"bingroup\":\"x\",\"hovertemplate\":\"company_location=PT<br>work_year=%{x}<br>count=%{y}<extra></extra>\",\"legendgroup\":\"PT\",\"marker\":{\"color\":\"#FECB52\",\"opacity\":0.5,\"pattern\":{\"shape\":\"\"}},\"name\":\"PT\",\"offsetgroup\":\"PT\",\"orientation\":\"v\",\"showlegend\":true,\"x\":[2020,2021,2022,2022],\"xaxis\":\"x\",\"yaxis\":\"y\",\"type\":\"histogram\"},{\"alignmentgroup\":\"True\",\"bingroup\":\"x\",\"hovertemplate\":\"company_location=DK<br>work_year=%{x}<br>count=%{y}<extra></extra>\",\"legendgroup\":\"DK\",\"marker\":{\"color\":\"#636efa\",\"opacity\":0.5,\"pattern\":{\"shape\":\"\"}},\"name\":\"DK\",\"offsetgroup\":\"DK\",\"orientation\":\"v\",\"showlegend\":true,\"x\":[2020,2021,2021],\"xaxis\":\"x\",\"yaxis\":\"y\",\"type\":\"histogram\"},{\"alignmentgroup\":\"True\",\"bingroup\":\"x\",\"hovertemplate\":\"company_location=IT<br>work_year=%{x}<br>count=%{y}<extra></extra>\",\"legendgroup\":\"IT\",\"marker\":{\"color\":\"#EF553B\",\"opacity\":0.5,\"pattern\":{\"shape\":\"\"}},\"name\":\"IT\",\"offsetgroup\":\"IT\",\"orientation\":\"v\",\"showlegend\":true,\"x\":[2020,2021],\"xaxis\":\"x\",\"yaxis\":\"y\",\"type\":\"histogram\"},{\"alignmentgroup\":\"True\",\"bingroup\":\"x\",\"hovertemplate\":\"company_location=HR<br>work_year=%{x}<br>count=%{y}<extra></extra>\",\"legendgroup\":\"HR\",\"marker\":{\"color\":\"#00cc96\",\"opacity\":0.5,\"pattern\":{\"shape\":\"\"}},\"name\":\"HR\",\"offsetgroup\":\"HR\",\"orientation\":\"v\",\"showlegend\":true,\"x\":[2020],\"xaxis\":\"x\",\"yaxis\":\"y\",\"type\":\"histogram\"},{\"alignmentgroup\":\"True\",\"bingroup\":\"x\",\"hovertemplate\":\"company_location=LU<br>work_year=%{x}<br>count=%{y}<extra></extra>\",\"legendgroup\":\"LU\",\"marker\":{\"color\":\"#ab63fa\",\"opacity\":0.5,\"pattern\":{\"shape\":\"\"}},\"name\":\"LU\",\"offsetgroup\":\"LU\",\"orientation\":\"v\",\"showlegend\":true,\"x\":[2020,2021,2022],\"xaxis\":\"x\",\"yaxis\":\"y\",\"type\":\"histogram\"},{\"alignmentgroup\":\"True\",\"bingroup\":\"x\",\"hovertemplate\":\"company_location=PL<br>work_year=%{x}<br>count=%{y}<extra></extra>\",\"legendgroup\":\"PL\",\"marker\":{\"color\":\"#FFA15A\",\"opacity\":0.5,\"pattern\":{\"shape\":\"\"}},\"name\":\"PL\",\"offsetgroup\":\"PL\",\"orientation\":\"v\",\"showlegend\":true,\"x\":[2021,2021,2021,2022],\"xaxis\":\"x\",\"yaxis\":\"y\",\"type\":\"histogram\"},{\"alignmentgroup\":\"True\",\"bingroup\":\"x\",\"hovertemplate\":\"company_location=SG<br>work_year=%{x}<br>count=%{y}<extra></extra>\",\"legendgroup\":\"SG\",\"marker\":{\"color\":\"#19d3f3\",\"opacity\":0.5,\"pattern\":{\"shape\":\"\"}},\"name\":\"SG\",\"offsetgroup\":\"SG\",\"orientation\":\"v\",\"showlegend\":true,\"x\":[2021],\"xaxis\":\"x\",\"yaxis\":\"y\",\"type\":\"histogram\"},{\"alignmentgroup\":\"True\",\"bingroup\":\"x\",\"hovertemplate\":\"company_location=RO<br>work_year=%{x}<br>count=%{y}<extra></extra>\",\"legendgroup\":\"RO\",\"marker\":{\"color\":\"#FF6692\",\"opacity\":0.5,\"pattern\":{\"shape\":\"\"}},\"name\":\"RO\",\"offsetgroup\":\"RO\",\"orientation\":\"v\",\"showlegend\":true,\"x\":[2021],\"xaxis\":\"x\",\"yaxis\":\"y\",\"type\":\"histogram\"},{\"alignmentgroup\":\"True\",\"bingroup\":\"x\",\"hovertemplate\":\"company_location=IQ<br>work_year=%{x}<br>count=%{y}<extra></extra>\",\"legendgroup\":\"IQ\",\"marker\":{\"color\":\"#B6E880\",\"opacity\":0.5,\"pattern\":{\"shape\":\"\"}},\"name\":\"IQ\",\"offsetgroup\":\"IQ\",\"orientation\":\"v\",\"showlegend\":true,\"x\":[2021],\"xaxis\":\"x\",\"yaxis\":\"y\",\"type\":\"histogram\"},{\"alignmentgroup\":\"True\",\"bingroup\":\"x\",\"hovertemplate\":\"company_location=BR<br>work_year=%{x}<br>count=%{y}<extra></extra>\",\"legendgroup\":\"BR\",\"marker\":{\"color\":\"#FF97FF\",\"opacity\":0.5,\"pattern\":{\"shape\":\"\"}},\"name\":\"BR\",\"offsetgroup\":\"BR\",\"orientation\":\"v\",\"showlegend\":true,\"x\":[2021,2021,2021],\"xaxis\":\"x\",\"yaxis\":\"y\",\"type\":\"histogram\"},{\"alignmentgroup\":\"True\",\"bingroup\":\"x\",\"hovertemplate\":\"company_location=BE<br>work_year=%{x}<br>count=%{y}<extra></extra>\",\"legendgroup\":\"BE\",\"marker\":{\"color\":\"#FECB52\",\"opacity\":0.5,\"pattern\":{\"shape\":\"\"}},\"name\":\"BE\",\"offsetgroup\":\"BE\",\"orientation\":\"v\",\"showlegend\":true,\"x\":[2021,2021],\"xaxis\":\"x\",\"yaxis\":\"y\",\"type\":\"histogram\"},{\"alignmentgroup\":\"True\",\"bingroup\":\"x\",\"hovertemplate\":\"company_location=UA<br>work_year=%{x}<br>count=%{y}<extra></extra>\",\"legendgroup\":\"UA\",\"marker\":{\"color\":\"#636efa\",\"opacity\":0.5,\"pattern\":{\"shape\":\"\"}},\"name\":\"UA\",\"offsetgroup\":\"UA\",\"orientation\":\"v\",\"showlegend\":true,\"x\":[2021],\"xaxis\":\"x\",\"yaxis\":\"y\",\"type\":\"histogram\"},{\"alignmentgroup\":\"True\",\"bingroup\":\"x\",\"hovertemplate\":\"company_location=IL<br>work_year=%{x}<br>count=%{y}<extra></extra>\",\"legendgroup\":\"IL\",\"marker\":{\"color\":\"#EF553B\",\"opacity\":0.5,\"pattern\":{\"shape\":\"\"}},\"name\":\"IL\",\"offsetgroup\":\"IL\",\"orientation\":\"v\",\"showlegend\":true,\"x\":[2021],\"xaxis\":\"x\",\"yaxis\":\"y\",\"type\":\"histogram\"},{\"alignmentgroup\":\"True\",\"bingroup\":\"x\",\"hovertemplate\":\"company_location=RU<br>work_year=%{x}<br>count=%{y}<extra></extra>\",\"legendgroup\":\"RU\",\"marker\":{\"color\":\"#00cc96\",\"opacity\":0.5,\"pattern\":{\"shape\":\"\"}},\"name\":\"RU\",\"offsetgroup\":\"RU\",\"orientation\":\"v\",\"showlegend\":true,\"x\":[2021,2021],\"xaxis\":\"x\",\"yaxis\":\"y\",\"type\":\"histogram\"},{\"alignmentgroup\":\"True\",\"bingroup\":\"x\",\"hovertemplate\":\"company_location=MT<br>work_year=%{x}<br>count=%{y}<extra></extra>\",\"legendgroup\":\"MT\",\"marker\":{\"color\":\"#ab63fa\",\"opacity\":0.5,\"pattern\":{\"shape\":\"\"}},\"name\":\"MT\",\"offsetgroup\":\"MT\",\"orientation\":\"v\",\"showlegend\":true,\"x\":[2021],\"xaxis\":\"x\",\"yaxis\":\"y\",\"type\":\"histogram\"},{\"alignmentgroup\":\"True\",\"bingroup\":\"x\",\"hovertemplate\":\"company_location=CL<br>work_year=%{x}<br>count=%{y}<extra></extra>\",\"legendgroup\":\"CL\",\"marker\":{\"color\":\"#FFA15A\",\"opacity\":0.5,\"pattern\":{\"shape\":\"\"}},\"name\":\"CL\",\"offsetgroup\":\"CL\",\"orientation\":\"v\",\"showlegend\":true,\"x\":[2021],\"xaxis\":\"x\",\"yaxis\":\"y\",\"type\":\"histogram\"},{\"alignmentgroup\":\"True\",\"bingroup\":\"x\",\"hovertemplate\":\"company_location=IR<br>work_year=%{x}<br>count=%{y}<extra></extra>\",\"legendgroup\":\"IR\",\"marker\":{\"color\":\"#19d3f3\",\"opacity\":0.5,\"pattern\":{\"shape\":\"\"}},\"name\":\"IR\",\"offsetgroup\":\"IR\",\"orientation\":\"v\",\"showlegend\":true,\"x\":[2021],\"xaxis\":\"x\",\"yaxis\":\"y\",\"type\":\"histogram\"},{\"alignmentgroup\":\"True\",\"bingroup\":\"x\",\"hovertemplate\":\"company_location=CO<br>work_year=%{x}<br>count=%{y}<extra></extra>\",\"legendgroup\":\"CO\",\"marker\":{\"color\":\"#FF6692\",\"opacity\":0.5,\"pattern\":{\"shape\":\"\"}},\"name\":\"CO\",\"offsetgroup\":\"CO\",\"orientation\":\"v\",\"showlegend\":true,\"x\":[2021],\"xaxis\":\"x\",\"yaxis\":\"y\",\"type\":\"histogram\"},{\"alignmentgroup\":\"True\",\"bingroup\":\"x\",\"hovertemplate\":\"company_location=MD<br>work_year=%{x}<br>count=%{y}<extra></extra>\",\"legendgroup\":\"MD\",\"marker\":{\"color\":\"#B6E880\",\"opacity\":0.5,\"pattern\":{\"shape\":\"\"}},\"name\":\"MD\",\"offsetgroup\":\"MD\",\"orientation\":\"v\",\"showlegend\":true,\"x\":[2021],\"xaxis\":\"x\",\"yaxis\":\"y\",\"type\":\"histogram\"},{\"alignmentgroup\":\"True\",\"bingroup\":\"x\",\"hovertemplate\":\"company_location=KE<br>work_year=%{x}<br>count=%{y}<extra></extra>\",\"legendgroup\":\"KE\",\"marker\":{\"color\":\"#FF97FF\",\"opacity\":0.5,\"pattern\":{\"shape\":\"\"}},\"name\":\"KE\",\"offsetgroup\":\"KE\",\"orientation\":\"v\",\"showlegend\":true,\"x\":[2021],\"xaxis\":\"x\",\"yaxis\":\"y\",\"type\":\"histogram\"},{\"alignmentgroup\":\"True\",\"bingroup\":\"x\",\"hovertemplate\":\"company_location=SI<br>work_year=%{x}<br>count=%{y}<extra></extra>\",\"legendgroup\":\"SI\",\"marker\":{\"color\":\"#FECB52\",\"opacity\":0.5,\"pattern\":{\"shape\":\"\"}},\"name\":\"SI\",\"offsetgroup\":\"SI\",\"orientation\":\"v\",\"showlegend\":true,\"x\":[2021,2021],\"xaxis\":\"x\",\"yaxis\":\"y\",\"type\":\"histogram\"},{\"alignmentgroup\":\"True\",\"bingroup\":\"x\",\"hovertemplate\":\"company_location=CH<br>work_year=%{x}<br>count=%{y}<extra></extra>\",\"legendgroup\":\"CH\",\"marker\":{\"color\":\"#636efa\",\"opacity\":0.5,\"pattern\":{\"shape\":\"\"}},\"name\":\"CH\",\"offsetgroup\":\"CH\",\"orientation\":\"v\",\"showlegend\":true,\"x\":[2021,2022],\"xaxis\":\"x\",\"yaxis\":\"y\",\"type\":\"histogram\"},{\"alignmentgroup\":\"True\",\"bingroup\":\"x\",\"hovertemplate\":\"company_location=VN<br>work_year=%{x}<br>count=%{y}<extra></extra>\",\"legendgroup\":\"VN\",\"marker\":{\"color\":\"#EF553B\",\"opacity\":0.5,\"pattern\":{\"shape\":\"\"}},\"name\":\"VN\",\"offsetgroup\":\"VN\",\"orientation\":\"v\",\"showlegend\":true,\"x\":[2021],\"xaxis\":\"x\",\"yaxis\":\"y\",\"type\":\"histogram\"},{\"alignmentgroup\":\"True\",\"bingroup\":\"x\",\"hovertemplate\":\"company_location=AS<br>work_year=%{x}<br>count=%{y}<extra></extra>\",\"legendgroup\":\"AS\",\"marker\":{\"color\":\"#00cc96\",\"opacity\":0.5,\"pattern\":{\"shape\":\"\"}},\"name\":\"AS\",\"offsetgroup\":\"AS\",\"orientation\":\"v\",\"showlegend\":true,\"x\":[2021],\"xaxis\":\"x\",\"yaxis\":\"y\",\"type\":\"histogram\"},{\"alignmentgroup\":\"True\",\"bingroup\":\"x\",\"hovertemplate\":\"company_location=TR<br>work_year=%{x}<br>count=%{y}<extra></extra>\",\"legendgroup\":\"TR\",\"marker\":{\"color\":\"#ab63fa\",\"opacity\":0.5,\"pattern\":{\"shape\":\"\"}},\"name\":\"TR\",\"offsetgroup\":\"TR\",\"orientation\":\"v\",\"showlegend\":true,\"x\":[2021,2021,2021],\"xaxis\":\"x\",\"yaxis\":\"y\",\"type\":\"histogram\"},{\"alignmentgroup\":\"True\",\"bingroup\":\"x\",\"hovertemplate\":\"company_location=CZ<br>work_year=%{x}<br>count=%{y}<extra></extra>\",\"legendgroup\":\"CZ\",\"marker\":{\"color\":\"#FFA15A\",\"opacity\":0.5,\"pattern\":{\"shape\":\"\"}},\"name\":\"CZ\",\"offsetgroup\":\"CZ\",\"orientation\":\"v\",\"showlegend\":true,\"x\":[2021,2022],\"xaxis\":\"x\",\"yaxis\":\"y\",\"type\":\"histogram\"},{\"alignmentgroup\":\"True\",\"bingroup\":\"x\",\"hovertemplate\":\"company_location=DZ<br>work_year=%{x}<br>count=%{y}<extra></extra>\",\"legendgroup\":\"DZ\",\"marker\":{\"color\":\"#19d3f3\",\"opacity\":0.5,\"pattern\":{\"shape\":\"\"}},\"name\":\"DZ\",\"offsetgroup\":\"DZ\",\"orientation\":\"v\",\"showlegend\":true,\"x\":[2022],\"xaxis\":\"x\",\"yaxis\":\"y\",\"type\":\"histogram\"},{\"alignmentgroup\":\"True\",\"bingroup\":\"x\",\"hovertemplate\":\"company_location=EE<br>work_year=%{x}<br>count=%{y}<extra></extra>\",\"legendgroup\":\"EE\",\"marker\":{\"color\":\"#FF6692\",\"opacity\":0.5,\"pattern\":{\"shape\":\"\"}},\"name\":\"EE\",\"offsetgroup\":\"EE\",\"orientation\":\"v\",\"showlegend\":true,\"x\":[2022],\"xaxis\":\"x\",\"yaxis\":\"y\",\"type\":\"histogram\"},{\"alignmentgroup\":\"True\",\"bingroup\":\"x\",\"hovertemplate\":\"company_location=MY<br>work_year=%{x}<br>count=%{y}<extra></extra>\",\"legendgroup\":\"MY\",\"marker\":{\"color\":\"#B6E880\",\"opacity\":0.5,\"pattern\":{\"shape\":\"\"}},\"name\":\"MY\",\"offsetgroup\":\"MY\",\"orientation\":\"v\",\"showlegend\":true,\"x\":[2022],\"xaxis\":\"x\",\"yaxis\":\"y\",\"type\":\"histogram\"},{\"alignmentgroup\":\"True\",\"bingroup\":\"x\",\"hovertemplate\":\"company_location=AU<br>work_year=%{x}<br>count=%{y}<extra></extra>\",\"legendgroup\":\"AU\",\"marker\":{\"color\":\"#FF97FF\",\"opacity\":0.5,\"pattern\":{\"shape\":\"\"}},\"name\":\"AU\",\"offsetgroup\":\"AU\",\"orientation\":\"v\",\"showlegend\":true,\"x\":[2022,2022,2022],\"xaxis\":\"x\",\"yaxis\":\"y\",\"type\":\"histogram\"},{\"alignmentgroup\":\"True\",\"bingroup\":\"x\",\"hovertemplate\":\"company_location=IE<br>work_year=%{x}<br>count=%{y}<extra></extra>\",\"legendgroup\":\"IE\",\"marker\":{\"color\":\"#FECB52\",\"opacity\":0.5,\"pattern\":{\"shape\":\"\"}},\"name\":\"IE\",\"offsetgroup\":\"IE\",\"orientation\":\"v\",\"showlegend\":true,\"x\":[2022],\"xaxis\":\"x\",\"yaxis\":\"y\",\"type\":\"histogram\"}],                        {\"template\":{\"data\":{\"barpolar\":[{\"marker\":{\"line\":{\"color\":\"white\",\"width\":0.5},\"pattern\":{\"fillmode\":\"overlay\",\"size\":10,\"solidity\":0.2}},\"type\":\"barpolar\"}],\"bar\":[{\"error_x\":{\"color\":\"#2a3f5f\"},\"error_y\":{\"color\":\"#2a3f5f\"},\"marker\":{\"line\":{\"color\":\"white\",\"width\":0.5},\"pattern\":{\"fillmode\":\"overlay\",\"size\":10,\"solidity\":0.2}},\"type\":\"bar\"}],\"carpet\":[{\"aaxis\":{\"endlinecolor\":\"#2a3f5f\",\"gridcolor\":\"#C8D4E3\",\"linecolor\":\"#C8D4E3\",\"minorgridcolor\":\"#C8D4E3\",\"startlinecolor\":\"#2a3f5f\"},\"baxis\":{\"endlinecolor\":\"#2a3f5f\",\"gridcolor\":\"#C8D4E3\",\"linecolor\":\"#C8D4E3\",\"minorgridcolor\":\"#C8D4E3\",\"startlinecolor\":\"#2a3f5f\"},\"type\":\"carpet\"}],\"choropleth\":[{\"colorbar\":{\"outlinewidth\":0,\"ticks\":\"\"},\"type\":\"choropleth\"}],\"contourcarpet\":[{\"colorbar\":{\"outlinewidth\":0,\"ticks\":\"\"},\"type\":\"contourcarpet\"}],\"contour\":[{\"colorbar\":{\"outlinewidth\":0,\"ticks\":\"\"},\"colorscale\":[[0.0,\"#0d0887\"],[0.1111111111111111,\"#46039f\"],[0.2222222222222222,\"#7201a8\"],[0.3333333333333333,\"#9c179e\"],[0.4444444444444444,\"#bd3786\"],[0.5555555555555556,\"#d8576b\"],[0.6666666666666666,\"#ed7953\"],[0.7777777777777778,\"#fb9f3a\"],[0.8888888888888888,\"#fdca26\"],[1.0,\"#f0f921\"]],\"type\":\"contour\"}],\"heatmapgl\":[{\"colorbar\":{\"outlinewidth\":0,\"ticks\":\"\"},\"colorscale\":[[0.0,\"#0d0887\"],[0.1111111111111111,\"#46039f\"],[0.2222222222222222,\"#7201a8\"],[0.3333333333333333,\"#9c179e\"],[0.4444444444444444,\"#bd3786\"],[0.5555555555555556,\"#d8576b\"],[0.6666666666666666,\"#ed7953\"],[0.7777777777777778,\"#fb9f3a\"],[0.8888888888888888,\"#fdca26\"],[1.0,\"#f0f921\"]],\"type\":\"heatmapgl\"}],\"heatmap\":[{\"colorbar\":{\"outlinewidth\":0,\"ticks\":\"\"},\"colorscale\":[[0.0,\"#0d0887\"],[0.1111111111111111,\"#46039f\"],[0.2222222222222222,\"#7201a8\"],[0.3333333333333333,\"#9c179e\"],[0.4444444444444444,\"#bd3786\"],[0.5555555555555556,\"#d8576b\"],[0.6666666666666666,\"#ed7953\"],[0.7777777777777778,\"#fb9f3a\"],[0.8888888888888888,\"#fdca26\"],[1.0,\"#f0f921\"]],\"type\":\"heatmap\"}],\"histogram2dcontour\":[{\"colorbar\":{\"outlinewidth\":0,\"ticks\":\"\"},\"colorscale\":[[0.0,\"#0d0887\"],[0.1111111111111111,\"#46039f\"],[0.2222222222222222,\"#7201a8\"],[0.3333333333333333,\"#9c179e\"],[0.4444444444444444,\"#bd3786\"],[0.5555555555555556,\"#d8576b\"],[0.6666666666666666,\"#ed7953\"],[0.7777777777777778,\"#fb9f3a\"],[0.8888888888888888,\"#fdca26\"],[1.0,\"#f0f921\"]],\"type\":\"histogram2dcontour\"}],\"histogram2d\":[{\"colorbar\":{\"outlinewidth\":0,\"ticks\":\"\"},\"colorscale\":[[0.0,\"#0d0887\"],[0.1111111111111111,\"#46039f\"],[0.2222222222222222,\"#7201a8\"],[0.3333333333333333,\"#9c179e\"],[0.4444444444444444,\"#bd3786\"],[0.5555555555555556,\"#d8576b\"],[0.6666666666666666,\"#ed7953\"],[0.7777777777777778,\"#fb9f3a\"],[0.8888888888888888,\"#fdca26\"],[1.0,\"#f0f921\"]],\"type\":\"histogram2d\"}],\"histogram\":[{\"marker\":{\"pattern\":{\"fillmode\":\"overlay\",\"size\":10,\"solidity\":0.2}},\"type\":\"histogram\"}],\"mesh3d\":[{\"colorbar\":{\"outlinewidth\":0,\"ticks\":\"\"},\"type\":\"mesh3d\"}],\"parcoords\":[{\"line\":{\"colorbar\":{\"outlinewidth\":0,\"ticks\":\"\"}},\"type\":\"parcoords\"}],\"pie\":[{\"automargin\":true,\"type\":\"pie\"}],\"scatter3d\":[{\"line\":{\"colorbar\":{\"outlinewidth\":0,\"ticks\":\"\"}},\"marker\":{\"colorbar\":{\"outlinewidth\":0,\"ticks\":\"\"}},\"type\":\"scatter3d\"}],\"scattercarpet\":[{\"marker\":{\"colorbar\":{\"outlinewidth\":0,\"ticks\":\"\"}},\"type\":\"scattercarpet\"}],\"scattergeo\":[{\"marker\":{\"colorbar\":{\"outlinewidth\":0,\"ticks\":\"\"}},\"type\":\"scattergeo\"}],\"scattergl\":[{\"marker\":{\"colorbar\":{\"outlinewidth\":0,\"ticks\":\"\"}},\"type\":\"scattergl\"}],\"scattermapbox\":[{\"marker\":{\"colorbar\":{\"outlinewidth\":0,\"ticks\":\"\"}},\"type\":\"scattermapbox\"}],\"scatterpolargl\":[{\"marker\":{\"colorbar\":{\"outlinewidth\":0,\"ticks\":\"\"}},\"type\":\"scatterpolargl\"}],\"scatterpolar\":[{\"marker\":{\"colorbar\":{\"outlinewidth\":0,\"ticks\":\"\"}},\"type\":\"scatterpolar\"}],\"scatter\":[{\"fillpattern\":{\"fillmode\":\"overlay\",\"size\":10,\"solidity\":0.2},\"type\":\"scatter\"}],\"scatterternary\":[{\"marker\":{\"colorbar\":{\"outlinewidth\":0,\"ticks\":\"\"}},\"type\":\"scatterternary\"}],\"surface\":[{\"colorbar\":{\"outlinewidth\":0,\"ticks\":\"\"},\"colorscale\":[[0.0,\"#0d0887\"],[0.1111111111111111,\"#46039f\"],[0.2222222222222222,\"#7201a8\"],[0.3333333333333333,\"#9c179e\"],[0.4444444444444444,\"#bd3786\"],[0.5555555555555556,\"#d8576b\"],[0.6666666666666666,\"#ed7953\"],[0.7777777777777778,\"#fb9f3a\"],[0.8888888888888888,\"#fdca26\"],[1.0,\"#f0f921\"]],\"type\":\"surface\"}],\"table\":[{\"cells\":{\"fill\":{\"color\":\"#EBF0F8\"},\"line\":{\"color\":\"white\"}},\"header\":{\"fill\":{\"color\":\"#C8D4E3\"},\"line\":{\"color\":\"white\"}},\"type\":\"table\"}]},\"layout\":{\"annotationdefaults\":{\"arrowcolor\":\"#2a3f5f\",\"arrowhead\":0,\"arrowwidth\":1},\"autotypenumbers\":\"strict\",\"coloraxis\":{\"colorbar\":{\"outlinewidth\":0,\"ticks\":\"\"}},\"colorscale\":{\"diverging\":[[0,\"#8e0152\"],[0.1,\"#c51b7d\"],[0.2,\"#de77ae\"],[0.3,\"#f1b6da\"],[0.4,\"#fde0ef\"],[0.5,\"#f7f7f7\"],[0.6,\"#e6f5d0\"],[0.7,\"#b8e186\"],[0.8,\"#7fbc41\"],[0.9,\"#4d9221\"],[1,\"#276419\"]],\"sequential\":[[0.0,\"#0d0887\"],[0.1111111111111111,\"#46039f\"],[0.2222222222222222,\"#7201a8\"],[0.3333333333333333,\"#9c179e\"],[0.4444444444444444,\"#bd3786\"],[0.5555555555555556,\"#d8576b\"],[0.6666666666666666,\"#ed7953\"],[0.7777777777777778,\"#fb9f3a\"],[0.8888888888888888,\"#fdca26\"],[1.0,\"#f0f921\"]],\"sequentialminus\":[[0.0,\"#0d0887\"],[0.1111111111111111,\"#46039f\"],[0.2222222222222222,\"#7201a8\"],[0.3333333333333333,\"#9c179e\"],[0.4444444444444444,\"#bd3786\"],[0.5555555555555556,\"#d8576b\"],[0.6666666666666666,\"#ed7953\"],[0.7777777777777778,\"#fb9f3a\"],[0.8888888888888888,\"#fdca26\"],[1.0,\"#f0f921\"]]},\"colorway\":[\"#636efa\",\"#EF553B\",\"#00cc96\",\"#ab63fa\",\"#FFA15A\",\"#19d3f3\",\"#FF6692\",\"#B6E880\",\"#FF97FF\",\"#FECB52\"],\"font\":{\"color\":\"#2a3f5f\"},\"geo\":{\"bgcolor\":\"white\",\"lakecolor\":\"white\",\"landcolor\":\"white\",\"showlakes\":true,\"showland\":true,\"subunitcolor\":\"#C8D4E3\"},\"hoverlabel\":{\"align\":\"left\"},\"hovermode\":\"closest\",\"mapbox\":{\"style\":\"light\"},\"paper_bgcolor\":\"white\",\"plot_bgcolor\":\"white\",\"polar\":{\"angularaxis\":{\"gridcolor\":\"#EBF0F8\",\"linecolor\":\"#EBF0F8\",\"ticks\":\"\"},\"bgcolor\":\"white\",\"radialaxis\":{\"gridcolor\":\"#EBF0F8\",\"linecolor\":\"#EBF0F8\",\"ticks\":\"\"}},\"scene\":{\"xaxis\":{\"backgroundcolor\":\"white\",\"gridcolor\":\"#DFE8F3\",\"gridwidth\":2,\"linecolor\":\"#EBF0F8\",\"showbackground\":true,\"ticks\":\"\",\"zerolinecolor\":\"#EBF0F8\"},\"yaxis\":{\"backgroundcolor\":\"white\",\"gridcolor\":\"#DFE8F3\",\"gridwidth\":2,\"linecolor\":\"#EBF0F8\",\"showbackground\":true,\"ticks\":\"\",\"zerolinecolor\":\"#EBF0F8\"},\"zaxis\":{\"backgroundcolor\":\"white\",\"gridcolor\":\"#DFE8F3\",\"gridwidth\":2,\"linecolor\":\"#EBF0F8\",\"showbackground\":true,\"ticks\":\"\",\"zerolinecolor\":\"#EBF0F8\"}},\"shapedefaults\":{\"line\":{\"color\":\"#2a3f5f\"}},\"ternary\":{\"aaxis\":{\"gridcolor\":\"#DFE8F3\",\"linecolor\":\"#A2B1C6\",\"ticks\":\"\"},\"baxis\":{\"gridcolor\":\"#DFE8F3\",\"linecolor\":\"#A2B1C6\",\"ticks\":\"\"},\"bgcolor\":\"white\",\"caxis\":{\"gridcolor\":\"#DFE8F3\",\"linecolor\":\"#A2B1C6\",\"ticks\":\"\"}},\"title\":{\"x\":0.05},\"xaxis\":{\"automargin\":true,\"gridcolor\":\"#EBF0F8\",\"linecolor\":\"#EBF0F8\",\"ticks\":\"\",\"title\":{\"standoff\":15},\"zerolinecolor\":\"#EBF0F8\",\"zerolinewidth\":2},\"yaxis\":{\"automargin\":true,\"gridcolor\":\"#EBF0F8\",\"linecolor\":\"#EBF0F8\",\"ticks\":\"\",\"title\":{\"standoff\":15},\"zerolinecolor\":\"#EBF0F8\",\"zerolinewidth\":2}}},\"xaxis\":{\"anchor\":\"y\",\"domain\":[0.0,1.0],\"title\":{\"text\":\"Year\"},\"type\":\"category\"},\"yaxis\":{\"anchor\":\"x\",\"domain\":[0.0,1.0],\"title\":{\"text\":\"No. of Observations\"}},\"legend\":{\"title\":{\"text\":\"company_location\"},\"tracegroupgap\":0},\"title\":{\"text\":\"Observations Based on Years\"},\"barmode\":\"overlay\",\"hovermode\":\"x\",\"showlegend\":false},                        {\"responsive\": true}                    ).then(function(){\n",
       "                            \n",
       "var gd = document.getElementById('c6a462d2-1ac7-45e7-8613-4165ba03bf07');\n",
       "var x = new MutationObserver(function (mutations, observer) {{\n",
       "        var display = window.getComputedStyle(gd).display;\n",
       "        if (!display || display === 'none') {{\n",
       "            console.log([gd, 'removed!']);\n",
       "            Plotly.purge(gd);\n",
       "            observer.disconnect();\n",
       "        }}\n",
       "}});\n",
       "\n",
       "// Listen for the removal of the full notebook cells\n",
       "var notebookContainer = gd.closest('#notebook-container');\n",
       "if (notebookContainer) {{\n",
       "    x.observe(notebookContainer, {childList: true});\n",
       "}}\n",
       "\n",
       "// Listen for the clearing of the current output cell\n",
       "var outputEl = gd.closest('.output');\n",
       "if (outputEl) {{\n",
       "    x.observe(outputEl, {childList: true});\n",
       "}}\n",
       "\n",
       "                        })                };                });            </script>        </div>"
      ]
     },
     "metadata": {},
     "output_type": "display_data"
    }
   ],
   "source": [
    "# ['stack', 'group', 'overlay', 'relative']\n",
    "fig1 = px.histogram(salaries, x = \"work_year\",\n",
    "                    template = \"plotly_white\",\n",
    "                    color = \"company_location\",\n",
    "                    barmode = \"overlay\",\n",
    "                    title = \"Observations Based on Years\")\n",
    "\n",
    "fig1.update_xaxes(type='category')\n",
    "\n",
    "fig1.update_layout(hovermode = \"x\",\n",
    "                  yaxis_title = \"No. of Observations\",\n",
    "                  xaxis_title = \"Year\",\n",
    "                  showlegend = False)\n",
    "fig1.show()"
   ]
  },
  {
   "cell_type": "markdown",
   "id": "bcdb4b7c",
   "metadata": {
    "papermill": {
     "duration": 0.013996,
     "end_time": "2022-08-28T09:59:20.810909",
     "exception": false,
     "start_time": "2022-08-28T09:59:20.796913",
     "status": "completed"
    },
    "tags": []
   },
   "source": [
    "## Observation Distributions Based On Experience Level, Employment Type and Remote Work "
   ]
  },
  {
   "cell_type": "code",
   "execution_count": 14,
   "id": "1db2ac20",
   "metadata": {
    "execution": {
     "iopub.execute_input": "2022-08-28T09:59:20.842142Z",
     "iopub.status.busy": "2022-08-28T09:59:20.841520Z",
     "iopub.status.idle": "2022-08-28T09:59:21.008033Z",
     "shell.execute_reply": "2022-08-28T09:59:21.006884Z"
    },
    "papermill": {
     "duration": 0.185751,
     "end_time": "2022-08-28T09:59:21.011328",
     "exception": false,
     "start_time": "2022-08-28T09:59:20.825577",
     "status": "completed"
    },
    "tags": []
   },
   "outputs": [
    {
     "data": {
      "text/html": [
       "<div>                            <div id=\"59f01443-04b9-43f6-81f7-f95309ba9330\" class=\"plotly-graph-div\" style=\"height:525px; width:100%;\"></div>            <script type=\"text/javascript\">                require([\"plotly\"], function(Plotly) {                    window.PLOTLYENV=window.PLOTLYENV || {};                                    if (document.getElementById(\"59f01443-04b9-43f6-81f7-f95309ba9330\")) {                    Plotly.newPlot(                        \"59f01443-04b9-43f6-81f7-f95309ba9330\",                        [{\"hovertemplate\":\"No. of observations: %{y}<br>Position: %{x}\",\"name\":\"Experience\",\"x\":[\"Mid-level / Intermediate\",\"Senior-level / Expert\",\"Senior-level / Expert\",\"Mid-level / Intermediate\",\"Senior-level / Expert\",\"Entry-level / Junior\",\"Senior-level / Expert\",\"Mid-level / Intermediate\",\"Mid-level / Intermediate\",\"Senior-level / Expert\",\"Entry-level / Junior\",\"Mid-level / Intermediate\",\"Entry-level / Junior\",\"Mid-level / Intermediate\",\"Mid-level / Intermediate\",\"Mid-level / Intermediate\",\"Entry-level / Junior\",\"Senior-level / Expert\",\"Entry-level / Junior\",\"Mid-level / Intermediate\",\"Mid-level / Intermediate\",\"Mid-level / Intermediate\",\"Senior-level / Expert\",\"Mid-level / Intermediate\",\"Mid-level / Intermediate\",\"Executive-level / Director\",\"Entry-level / Junior\",\"Senior-level / Expert\",\"Entry-level / Junior\",\"Senior-level / Expert\",\"Mid-level / Intermediate\",\"Entry-level / Junior\",\"Senior-level / Expert\",\"Mid-level / Intermediate\",\"Mid-level / Intermediate\",\"Mid-level / Intermediate\",\"Mid-level / Intermediate\",\"Entry-level / Junior\",\"Entry-level / Junior\",\"Entry-level / Junior\",\"Mid-level / Intermediate\",\"Executive-level / Director\",\"Mid-level / Intermediate\",\"Mid-level / Intermediate\",\"Mid-level / Intermediate\",\"Entry-level / Junior\",\"Mid-level / Intermediate\",\"Senior-level / Expert\",\"Mid-level / Intermediate\",\"Mid-level / Intermediate\",\"Entry-level / Junior\",\"Entry-level / Junior\",\"Entry-level / Junior\",\"Entry-level / Junior\",\"Senior-level / Expert\",\"Senior-level / Expert\",\"Mid-level / Intermediate\",\"Mid-level / Intermediate\",\"Senior-level / Expert\",\"Mid-level / Intermediate\",\"Mid-level / Intermediate\",\"Mid-level / Intermediate\",\"Entry-level / Junior\",\"Senior-level / Expert\",\"Senior-level / Expert\",\"Entry-level / Junior\",\"Entry-level / Junior\",\"Senior-level / Expert\",\"Entry-level / Junior\",\"Senior-level / Expert\",\"Mid-level / Intermediate\",\"Mid-level / Intermediate\",\"Entry-level / Junior\",\"Executive-level / Director\",\"Executive-level / Director\",\"Senior-level / Expert\",\"Mid-level / Intermediate\",\"Mid-level / Intermediate\",\"Mid-level / Intermediate\",\"Entry-level / Junior\",\"Senior-level / Expert\",\"Mid-level / Intermediate\",\"Mid-level / Intermediate\",\"Mid-level / Intermediate\",\"Executive-level / Director\",\"Mid-level / Intermediate\",\"Entry-level / Junior\",\"Mid-level / Intermediate\",\"Senior-level / Expert\",\"Senior-level / Expert\",\"Senior-level / Expert\",\"Entry-level / Junior\",\"Mid-level / Intermediate\",\"Senior-level / Expert\",\"Entry-level / Junior\",\"Mid-level / Intermediate\",\"Entry-level / Junior\",\"Mid-level / Intermediate\",\"Entry-level / Junior\",\"Mid-level / Intermediate\",\"Mid-level / Intermediate\",\"Senior-level / Expert\",\"Mid-level / Intermediate\",\"Mid-level / Intermediate\",\"Mid-level / Intermediate\",\"Mid-level / Intermediate\",\"Mid-level / Intermediate\",\"Senior-level / Expert\",\"Senior-level / Expert\",\"Entry-level / Junior\",\"Senior-level / Expert\",\"Senior-level / Expert\",\"Senior-level / Expert\",\"Entry-level / Junior\",\"Mid-level / Intermediate\",\"Entry-level / Junior\",\"Mid-level / Intermediate\",\"Mid-level / Intermediate\",\"Entry-level / Junior\",\"Mid-level / Intermediate\",\"Mid-level / Intermediate\",\"Senior-level / Expert\",\"Entry-level / Junior\",\"Entry-level / Junior\",\"Entry-level / Junior\",\"Mid-level / Intermediate\",\"Senior-level / Expert\",\"Mid-level / Intermediate\",\"Entry-level / Junior\",\"Senior-level / Expert\",\"Entry-level / Junior\",\"Entry-level / Junior\",\"Mid-level / Intermediate\",\"Senior-level / Expert\",\"Entry-level / Junior\",\"Mid-level / Intermediate\",\"Mid-level / Intermediate\",\"Mid-level / Intermediate\",\"Senior-level / Expert\",\"Entry-level / Junior\",\"Mid-level / Intermediate\",\"Senior-level / Expert\",\"Senior-level / Expert\",\"Mid-level / Intermediate\",\"Mid-level / Intermediate\",\"Senior-level / Expert\",\"Mid-level / Intermediate\",\"Mid-level / Intermediate\",\"Senior-level / Expert\",\"Senior-level / Expert\",\"Senior-level / Expert\",\"Mid-level / Intermediate\",\"Mid-level / Intermediate\",\"Entry-level / Junior\",\"Senior-level / Expert\",\"Senior-level / Expert\",\"Mid-level / Intermediate\",\"Mid-level / Intermediate\",\"Senior-level / Expert\",\"Entry-level / Junior\",\"Executive-level / Director\",\"Executive-level / Director\",\"Mid-level / Intermediate\",\"Entry-level / Junior\",\"Executive-level / Director\",\"Senior-level / Expert\",\"Entry-level / Junior\",\"Executive-level / Director\",\"Entry-level / Junior\",\"Mid-level / Intermediate\",\"Mid-level / Intermediate\",\"Mid-level / Intermediate\",\"Entry-level / Junior\",\"Senior-level / Expert\",\"Senior-level / Expert\",\"Senior-level / Expert\",\"Mid-level / Intermediate\",\"Mid-level / Intermediate\",\"Entry-level / Junior\",\"Mid-level / Intermediate\",\"Mid-level / Intermediate\",\"Mid-level / Intermediate\",\"Mid-level / Intermediate\",\"Senior-level / Expert\",\"Mid-level / Intermediate\",\"Mid-level / Intermediate\",\"Senior-level / Expert\",\"Executive-level / Director\",\"Senior-level / Expert\",\"Mid-level / Intermediate\",\"Senior-level / Expert\",\"Entry-level / Junior\",\"Mid-level / Intermediate\",\"Senior-level / Expert\",\"Senior-level / Expert\",\"Mid-level / Intermediate\",\"Entry-level / Junior\",\"Senior-level / Expert\",\"Senior-level / Expert\",\"Entry-level / Junior\",\"Mid-level / Intermediate\",\"Senior-level / Expert\",\"Mid-level / Intermediate\",\"Senior-level / Expert\",\"Mid-level / Intermediate\",\"Mid-level / Intermediate\",\"Senior-level / Expert\",\"Senior-level / Expert\",\"Mid-level / Intermediate\",\"Senior-level / Expert\",\"Mid-level / Intermediate\",\"Mid-level / Intermediate\",\"Mid-level / Intermediate\",\"Entry-level / Junior\",\"Entry-level / Junior\",\"Senior-level / Expert\",\"Entry-level / Junior\",\"Mid-level / Intermediate\",\"Mid-level / Intermediate\",\"Senior-level / Expert\",\"Mid-level / Intermediate\",\"Mid-level / Intermediate\",\"Mid-level / Intermediate\",\"Mid-level / Intermediate\",\"Senior-level / Expert\",\"Executive-level / Director\",\"Senior-level / Expert\",\"Mid-level / Intermediate\",\"Senior-level / Expert\",\"Senior-level / Expert\",\"Entry-level / Junior\",\"Senior-level / Expert\",\"Senior-level / Expert\",\"Senior-level / Expert\",\"Mid-level / Intermediate\",\"Mid-level / Intermediate\",\"Mid-level / Intermediate\",\"Mid-level / Intermediate\",\"Entry-level / Junior\",\"Entry-level / Junior\",\"Senior-level / Expert\",\"Mid-level / Intermediate\",\"Mid-level / Intermediate\",\"Senior-level / Expert\",\"Entry-level / Junior\",\"Mid-level / Intermediate\",\"Entry-level / Junior\",\"Mid-level / Intermediate\",\"Senior-level / Expert\",\"Senior-level / Expert\",\"Mid-level / Intermediate\",\"Entry-level / Junior\",\"Executive-level / Director\",\"Entry-level / Junior\",\"Mid-level / Intermediate\",\"Senior-level / Expert\",\"Mid-level / Intermediate\",\"Senior-level / Expert\",\"Senior-level / Expert\",\"Executive-level / Director\",\"Mid-level / Intermediate\",\"Senior-level / Expert\",\"Mid-level / Intermediate\",\"Senior-level / Expert\",\"Mid-level / Intermediate\",\"Senior-level / Expert\",\"Mid-level / Intermediate\",\"Mid-level / Intermediate\",\"Mid-level / Intermediate\",\"Entry-level / Junior\",\"Entry-level / Junior\",\"Senior-level / Expert\",\"Entry-level / Junior\",\"Entry-level / Junior\",\"Senior-level / Expert\",\"Entry-level / Junior\",\"Entry-level / Junior\",\"Senior-level / Expert\",\"Senior-level / Expert\",\"Entry-level / Junior\",\"Mid-level / Intermediate\",\"Entry-level / Junior\",\"Mid-level / Intermediate\",\"Senior-level / Expert\",\"Mid-level / Intermediate\",\"Senior-level / Expert\",\"Senior-level / Expert\",\"Mid-level / Intermediate\",\"Mid-level / Intermediate\",\"Senior-level / Expert\",\"Senior-level / Expert\",\"Senior-level / Expert\",\"Mid-level / Intermediate\",\"Mid-level / Intermediate\",\"Mid-level / Intermediate\",\"Mid-level / Intermediate\",\"Senior-level / Expert\",\"Senior-level / Expert\",\"Senior-level / Expert\",\"Senior-level / Expert\",\"Senior-level / Expert\",\"Senior-level / Expert\",\"Senior-level / Expert\",\"Senior-level / Expert\",\"Entry-level / Junior\",\"Senior-level / Expert\",\"Senior-level / Expert\",\"Mid-level / Intermediate\",\"Mid-level / Intermediate\",\"Executive-level / Director\",\"Executive-level / Director\",\"Mid-level / Intermediate\",\"Mid-level / Intermediate\",\"Mid-level / Intermediate\",\"Mid-level / Intermediate\",\"Senior-level / Expert\",\"Entry-level / Junior\",\"Senior-level / Expert\",\"Senior-level / Expert\",\"Senior-level / Expert\",\"Senior-level / Expert\",\"Senior-level / Expert\",\"Senior-level / Expert\",\"Senior-level / Expert\",\"Senior-level / Expert\",\"Senior-level / Expert\",\"Executive-level / Director\",\"Executive-level / Director\",\"Senior-level / Expert\",\"Mid-level / Intermediate\",\"Senior-level / Expert\",\"Senior-level / Expert\",\"Senior-level / Expert\",\"Senior-level / Expert\",\"Senior-level / Expert\",\"Senior-level / Expert\",\"Mid-level / Intermediate\",\"Senior-level / Expert\",\"Senior-level / Expert\",\"Senior-level / Expert\",\"Senior-level / Expert\",\"Senior-level / Expert\",\"Executive-level / Director\",\"Executive-level / Director\",\"Executive-level / Director\",\"Senior-level / Expert\",\"Senior-level / Expert\",\"Senior-level / Expert\",\"Senior-level / Expert\",\"Senior-level / Expert\",\"Senior-level / Expert\",\"Senior-level / Expert\",\"Senior-level / Expert\",\"Senior-level / Expert\",\"Senior-level / Expert\",\"Senior-level / Expert\",\"Senior-level / Expert\",\"Senior-level / Expert\",\"Senior-level / Expert\",\"Senior-level / Expert\",\"Senior-level / Expert\",\"Senior-level / Expert\",\"Senior-level / Expert\",\"Senior-level / Expert\",\"Senior-level / Expert\",\"Senior-level / Expert\",\"Senior-level / Expert\",\"Mid-level / Intermediate\",\"Executive-level / Director\",\"Senior-level / Expert\",\"Senior-level / Expert\",\"Senior-level / Expert\",\"Senior-level / Expert\",\"Mid-level / Intermediate\",\"Mid-level / Intermediate\",\"Executive-level / Director\",\"Senior-level / Expert\",\"Senior-level / Expert\",\"Senior-level / Expert\",\"Senior-level / Expert\",\"Senior-level / Expert\",\"Senior-level / Expert\",\"Senior-level / Expert\",\"Senior-level / Expert\",\"Executive-level / Director\",\"Senior-level / Expert\",\"Entry-level / Junior\",\"Senior-level / Expert\",\"Senior-level / Expert\",\"Mid-level / Intermediate\",\"Mid-level / Intermediate\",\"Mid-level / Intermediate\",\"Senior-level / Expert\",\"Senior-level / Expert\",\"Senior-level / Expert\",\"Senior-level / Expert\",\"Mid-level / Intermediate\",\"Mid-level / Intermediate\",\"Senior-level / Expert\",\"Senior-level / Expert\",\"Senior-level / Expert\",\"Senior-level / Expert\",\"Senior-level / Expert\",\"Senior-level / Expert\",\"Senior-level / Expert\",\"Mid-level / Intermediate\",\"Mid-level / Intermediate\",\"Senior-level / Expert\",\"Mid-level / Intermediate\",\"Senior-level / Expert\",\"Mid-level / Intermediate\",\"Mid-level / Intermediate\",\"Mid-level / Intermediate\",\"Mid-level / Intermediate\",\"Mid-level / Intermediate\",\"Mid-level / Intermediate\",\"Senior-level / Expert\",\"Senior-level / Expert\",\"Mid-level / Intermediate\",\"Mid-level / Intermediate\",\"Mid-level / Intermediate\",\"Mid-level / Intermediate\",\"Mid-level / Intermediate\",\"Senior-level / Expert\",\"Senior-level / Expert\",\"Mid-level / Intermediate\",\"Senior-level / Expert\",\"Mid-level / Intermediate\",\"Senior-level / Expert\",\"Mid-level / Intermediate\",\"Mid-level / Intermediate\",\"Mid-level / Intermediate\",\"Mid-level / Intermediate\",\"Mid-level / Intermediate\",\"Mid-level / Intermediate\",\"Mid-level / Intermediate\",\"Mid-level / Intermediate\",\"Mid-level / Intermediate\",\"Senior-level / Expert\",\"Senior-level / Expert\",\"Mid-level / Intermediate\",\"Mid-level / Intermediate\",\"Mid-level / Intermediate\",\"Mid-level / Intermediate\",\"Senior-level / Expert\",\"Mid-level / Intermediate\",\"Senior-level / Expert\",\"Senior-level / Expert\",\"Senior-level / Expert\",\"Entry-level / Junior\",\"Senior-level / Expert\",\"Mid-level / Intermediate\",\"Executive-level / Director\",\"Mid-level / Intermediate\",\"Entry-level / Junior\",\"Mid-level / Intermediate\",\"Senior-level / Expert\",\"Senior-level / Expert\",\"Mid-level / Intermediate\",\"Mid-level / Intermediate\",\"Mid-level / Intermediate\",\"Entry-level / Junior\",\"Mid-level / Intermediate\",\"Entry-level / Junior\",\"Senior-level / Expert\",\"Entry-level / Junior\",\"Senior-level / Expert\",\"Senior-level / Expert\",\"Senior-level / Expert\",\"Senior-level / Expert\",\"Mid-level / Intermediate\",\"Mid-level / Intermediate\",\"Senior-level / Expert\",\"Senior-level / Expert\",\"Mid-level / Intermediate\",\"Mid-level / Intermediate\",\"Senior-level / Expert\",\"Senior-level / Expert\",\"Mid-level / Intermediate\",\"Mid-level / Intermediate\",\"Senior-level / Expert\",\"Senior-level / Expert\",\"Executive-level / Director\",\"Executive-level / Director\",\"Senior-level / Expert\",\"Senior-level / Expert\",\"Senior-level / Expert\",\"Entry-level / Junior\",\"Mid-level / Intermediate\",\"Entry-level / Junior\",\"Senior-level / Expert\",\"Mid-level / Intermediate\",\"Mid-level / Intermediate\",\"Senior-level / Expert\",\"Senior-level / Expert\",\"Mid-level / Intermediate\",\"Entry-level / Junior\",\"Senior-level / Expert\",\"Senior-level / Expert\",\"Entry-level / Junior\",\"Senior-level / Expert\",\"Mid-level / Intermediate\",\"Entry-level / Junior\",\"Mid-level / Intermediate\",\"Senior-level / Expert\",\"Entry-level / Junior\",\"Mid-level / Intermediate\",\"Mid-level / Intermediate\",\"Entry-level / Junior\",\"Mid-level / Intermediate\",\"Entry-level / Junior\",\"Mid-level / Intermediate\",\"Entry-level / Junior\",\"Senior-level / Expert\",\"Entry-level / Junior\",\"Mid-level / Intermediate\",\"Senior-level / Expert\",\"Mid-level / Intermediate\",\"Mid-level / Intermediate\",\"Senior-level / Expert\",\"Mid-level / Intermediate\",\"Entry-level / Junior\",\"Mid-level / Intermediate\",\"Senior-level / Expert\",\"Mid-level / Intermediate\",\"Senior-level / Expert\",\"Mid-level / Intermediate\",\"Senior-level / Expert\",\"Senior-level / Expert\",\"Senior-level / Expert\",\"Mid-level / Intermediate\",\"Mid-level / Intermediate\",\"Senior-level / Expert\",\"Senior-level / Expert\",\"Senior-level / Expert\",\"Senior-level / Expert\",\"Senior-level / Expert\",\"Senior-level / Expert\",\"Mid-level / Intermediate\",\"Mid-level / Intermediate\",\"Senior-level / Expert\",\"Senior-level / Expert\",\"Mid-level / Intermediate\",\"Mid-level / Intermediate\",\"Senior-level / Expert\",\"Senior-level / Expert\",\"Senior-level / Expert\",\"Senior-level / Expert\",\"Senior-level / Expert\",\"Senior-level / Expert\",\"Senior-level / Expert\",\"Senior-level / Expert\",\"Senior-level / Expert\",\"Senior-level / Expert\",\"Senior-level / Expert\",\"Senior-level / Expert\",\"Senior-level / Expert\",\"Senior-level / Expert\",\"Senior-level / Expert\",\"Senior-level / Expert\",\"Senior-level / Expert\",\"Senior-level / Expert\",\"Senior-level / Expert\",\"Senior-level / Expert\",\"Senior-level / Expert\",\"Senior-level / Expert\",\"Senior-level / Expert\",\"Mid-level / Intermediate\",\"Senior-level / Expert\",\"Senior-level / Expert\",\"Senior-level / Expert\",\"Senior-level / Expert\",\"Senior-level / Expert\",\"Senior-level / Expert\",\"Senior-level / Expert\",\"Senior-level / Expert\",\"Senior-level / Expert\",\"Senior-level / Expert\",\"Senior-level / Expert\",\"Senior-level / Expert\",\"Senior-level / Expert\",\"Senior-level / Expert\",\"Senior-level / Expert\",\"Senior-level / Expert\",\"Senior-level / Expert\",\"Senior-level / Expert\",\"Mid-level / Intermediate\",\"Senior-level / Expert\",\"Senior-level / Expert\",\"Senior-level / Expert\",\"Senior-level / Expert\",\"Senior-level / Expert\",\"Senior-level / Expert\",\"Senior-level / Expert\",\"Senior-level / Expert\",\"Senior-level / Expert\",\"Senior-level / Expert\",\"Senior-level / Expert\",\"Mid-level / Intermediate\",\"Mid-level / Intermediate\",\"Entry-level / Junior\",\"Entry-level / Junior\",\"Senior-level / Expert\",\"Senior-level / Expert\",\"Senior-level / Expert\",\"Senior-level / Expert\",\"Mid-level / Intermediate\"],\"type\":\"histogram\",\"xaxis\":\"x\",\"yaxis\":\"y\",\"showlegend\":false},{\"hovertemplate\":\"No. of observations: %{y}<br>Employment Type: %{x}\",\"name\":\"Employment\",\"x\":[\"Full-time\",\"Full-time\",\"Full-time\",\"Full-time\",\"Full-time\",\"Full-time\",\"Full-time\",\"Full-time\",\"Full-time\",\"Full-time\",\"Full-time\",\"Full-time\",\"Full-time\",\"Full-time\",\"Full-time\",\"Full-time\",\"Full-time\",\"Full-time\",\"Full-time\",\"Full-time\",\"Full-time\",\"Full-time\",\"Full-time\",\"Full-time\",\"Full-time\",\"Full-time\",\"Full-time\",\"Full-time\",\"Contract\",\"Full-time\",\"Full-time\",\"Full-time\",\"Full-time\",\"Full-time\",\"Full-time\",\"Full-time\",\"Full-time\",\"Full-time\",\"Full-time\",\"Full-time\",\"Full-time\",\"Full-time\",\"Full-time\",\"Full-time\",\"Full-time\",\"Part-time\",\"Full-time\",\"Full-time\",\"Full-time\",\"Full-time\",\"Full-time\",\"Full-time\",\"Full-time\",\"Full-time\",\"Freelance\",\"Full-time\",\"Full-time\",\"Full-time\",\"Full-time\",\"Full-time\",\"Full-time\",\"Full-time\",\"Part-time\",\"Full-time\",\"Full-time\",\"Full-time\",\"Full-time\",\"Full-time\",\"Full-time\",\"Full-time\",\"Full-time\",\"Full-time\",\"Full-time\",\"Full-time\",\"Full-time\",\"Full-time\",\"Full-time\",\"Part-time\",\"Contract\",\"Full-time\",\"Full-time\",\"Full-time\",\"Full-time\",\"Full-time\",\"Full-time\",\"Full-time\",\"Full-time\",\"Full-time\",\"Full-time\",\"Full-time\",\"Full-time\",\"Full-time\",\"Full-time\",\"Full-time\",\"Full-time\",\"Full-time\",\"Part-time\",\"Full-time\",\"Full-time\",\"Full-time\",\"Full-time\",\"Full-time\",\"Full-time\",\"Full-time\",\"Full-time\",\"Full-time\",\"Full-time\",\"Full-time\",\"Full-time\",\"Full-time\",\"Full-time\",\"Full-time\",\"Full-time\",\"Part-time\",\"Full-time\",\"Full-time\",\"Full-time\",\"Full-time\",\"Full-time\",\"Full-time\",\"Full-time\",\"Full-time\",\"Full-time\",\"Full-time\",\"Part-time\",\"Full-time\",\"Full-time\",\"Full-time\",\"Full-time\",\"Full-time\",\"Full-time\",\"Full-time\",\"Full-time\",\"Full-time\",\"Full-time\",\"Full-time\",\"Full-time\",\"Full-time\",\"Full-time\",\"Full-time\",\"Full-time\",\"Full-time\",\"Full-time\",\"Full-time\",\"Full-time\",\"Full-time\",\"Full-time\",\"Full-time\",\"Full-time\",\"Full-time\",\"Full-time\",\"Full-time\",\"Full-time\",\"Full-time\",\"Full-time\",\"Full-time\",\"Full-time\",\"Full-time\",\"Full-time\",\"Full-time\",\"Full-time\",\"Full-time\",\"Full-time\",\"Full-time\",\"Full-time\",\"Full-time\",\"Full-time\",\"Full-time\",\"Full-time\",\"Full-time\",\"Full-time\",\"Full-time\",\"Full-time\",\"Full-time\",\"Full-time\",\"Full-time\",\"Full-time\",\"Full-time\",\"Full-time\",\"Full-time\",\"Full-time\",\"Full-time\",\"Full-time\",\"Full-time\",\"Freelance\",\"Full-time\",\"Full-time\",\"Full-time\",\"Full-time\",\"Full-time\",\"Full-time\",\"Full-time\",\"Full-time\",\"Full-time\",\"Full-time\",\"Full-time\",\"Full-time\",\"Full-time\",\"Full-time\",\"Full-time\",\"Full-time\",\"Full-time\",\"Full-time\",\"Full-time\",\"Full-time\",\"Full-time\",\"Full-time\",\"Full-time\",\"Freelance\",\"Full-time\",\"Full-time\",\"Full-time\",\"Full-time\",\"Full-time\",\"Full-time\",\"Full-time\",\"Part-time\",\"Full-time\",\"Full-time\",\"Full-time\",\"Full-time\",\"Full-time\",\"Full-time\",\"Full-time\",\"Full-time\",\"Contract\",\"Full-time\",\"Full-time\",\"Full-time\",\"Full-time\",\"Full-time\",\"Full-time\",\"Full-time\",\"Full-time\",\"Full-time\",\"Full-time\",\"Full-time\",\"Full-time\",\"Full-time\",\"Full-time\",\"Full-time\",\"Full-time\",\"Full-time\",\"Full-time\",\"Full-time\",\"Full-time\",\"Full-time\",\"Full-time\",\"Full-time\",\"Full-time\",\"Full-time\",\"Full-time\",\"Full-time\",\"Full-time\",\"Full-time\",\"Full-time\",\"Full-time\",\"Full-time\",\"Full-time\",\"Full-time\",\"Full-time\",\"Full-time\",\"Full-time\",\"Full-time\",\"Full-time\",\"Full-time\",\"Full-time\",\"Full-time\",\"Full-time\",\"Full-time\",\"Full-time\",\"Full-time\",\"Full-time\",\"Full-time\",\"Full-time\",\"Full-time\",\"Full-time\",\"Full-time\",\"Full-time\",\"Full-time\",\"Full-time\",\"Full-time\",\"Part-time\",\"Contract\",\"Full-time\",\"Full-time\",\"Full-time\",\"Full-time\",\"Full-time\",\"Full-time\",\"Full-time\",\"Full-time\",\"Full-time\",\"Full-time\",\"Full-time\",\"Full-time\",\"Full-time\",\"Full-time\",\"Full-time\",\"Full-time\",\"Full-time\",\"Full-time\",\"Full-time\",\"Full-time\",\"Full-time\",\"Full-time\",\"Full-time\",\"Full-time\",\"Full-time\",\"Full-time\",\"Full-time\",\"Full-time\",\"Full-time\",\"Full-time\",\"Full-time\",\"Full-time\",\"Full-time\",\"Full-time\",\"Full-time\",\"Full-time\",\"Full-time\",\"Full-time\",\"Full-time\",\"Full-time\",\"Full-time\",\"Full-time\",\"Full-time\",\"Full-time\",\"Full-time\",\"Full-time\",\"Full-time\",\"Full-time\",\"Full-time\",\"Full-time\",\"Full-time\",\"Full-time\",\"Full-time\",\"Full-time\",\"Full-time\",\"Full-time\",\"Full-time\",\"Full-time\",\"Full-time\",\"Full-time\",\"Full-time\",\"Full-time\",\"Full-time\",\"Full-time\",\"Full-time\",\"Full-time\",\"Full-time\",\"Full-time\",\"Full-time\",\"Full-time\",\"Full-time\",\"Full-time\",\"Full-time\",\"Full-time\",\"Full-time\",\"Full-time\",\"Full-time\",\"Full-time\",\"Full-time\",\"Full-time\",\"Full-time\",\"Full-time\",\"Full-time\",\"Full-time\",\"Full-time\",\"Full-time\",\"Full-time\",\"Full-time\",\"Full-time\",\"Full-time\",\"Full-time\",\"Full-time\",\"Full-time\",\"Full-time\",\"Full-time\",\"Full-time\",\"Full-time\",\"Full-time\",\"Full-time\",\"Full-time\",\"Full-time\",\"Full-time\",\"Full-time\",\"Full-time\",\"Full-time\",\"Full-time\",\"Full-time\",\"Full-time\",\"Full-time\",\"Full-time\",\"Full-time\",\"Full-time\",\"Full-time\",\"Full-time\",\"Full-time\",\"Full-time\",\"Full-time\",\"Full-time\",\"Full-time\",\"Full-time\",\"Full-time\",\"Full-time\",\"Full-time\",\"Full-time\",\"Full-time\",\"Full-time\",\"Full-time\",\"Full-time\",\"Full-time\",\"Full-time\",\"Full-time\",\"Full-time\",\"Full-time\",\"Full-time\",\"Full-time\",\"Full-time\",\"Full-time\",\"Full-time\",\"Full-time\",\"Full-time\",\"Full-time\",\"Full-time\",\"Full-time\",\"Full-time\",\"Full-time\",\"Full-time\",\"Full-time\",\"Full-time\",\"Full-time\",\"Full-time\",\"Full-time\",\"Full-time\",\"Full-time\",\"Full-time\",\"Full-time\",\"Full-time\",\"Full-time\",\"Full-time\",\"Full-time\",\"Full-time\",\"Full-time\",\"Full-time\",\"Full-time\",\"Full-time\",\"Full-time\",\"Full-time\",\"Full-time\",\"Full-time\",\"Full-time\",\"Full-time\",\"Full-time\",\"Full-time\",\"Full-time\",\"Full-time\",\"Full-time\",\"Full-time\",\"Full-time\",\"Full-time\",\"Part-time\",\"Full-time\",\"Full-time\",\"Full-time\",\"Full-time\",\"Full-time\",\"Full-time\",\"Full-time\",\"Full-time\",\"Full-time\",\"Full-time\",\"Full-time\",\"Full-time\",\"Full-time\",\"Full-time\",\"Full-time\",\"Full-time\",\"Full-time\",\"Full-time\",\"Full-time\",\"Full-time\",\"Full-time\",\"Full-time\",\"Full-time\",\"Full-time\",\"Part-time\",\"Freelance\",\"Contract\",\"Full-time\",\"Full-time\",\"Full-time\",\"Full-time\",\"Full-time\",\"Full-time\",\"Full-time\",\"Full-time\",\"Full-time\",\"Full-time\",\"Full-time\",\"Full-time\",\"Full-time\",\"Full-time\",\"Full-time\",\"Full-time\",\"Full-time\",\"Full-time\",\"Full-time\",\"Full-time\",\"Full-time\",\"Full-time\",\"Full-time\",\"Full-time\",\"Full-time\",\"Full-time\",\"Full-time\",\"Full-time\",\"Full-time\",\"Full-time\",\"Full-time\",\"Full-time\",\"Full-time\",\"Full-time\",\"Full-time\",\"Full-time\",\"Full-time\",\"Full-time\",\"Full-time\",\"Full-time\",\"Full-time\",\"Full-time\",\"Full-time\",\"Full-time\",\"Full-time\",\"Full-time\",\"Full-time\",\"Full-time\",\"Full-time\",\"Full-time\",\"Full-time\",\"Full-time\",\"Full-time\",\"Full-time\",\"Full-time\",\"Full-time\",\"Full-time\",\"Full-time\",\"Full-time\",\"Full-time\",\"Full-time\",\"Full-time\",\"Full-time\",\"Full-time\",\"Full-time\",\"Full-time\",\"Full-time\",\"Full-time\",\"Full-time\",\"Full-time\",\"Full-time\",\"Full-time\",\"Full-time\",\"Full-time\",\"Full-time\",\"Full-time\",\"Full-time\",\"Full-time\",\"Full-time\",\"Full-time\",\"Full-time\",\"Full-time\",\"Full-time\",\"Full-time\",\"Full-time\",\"Full-time\",\"Full-time\",\"Full-time\",\"Full-time\",\"Full-time\",\"Full-time\",\"Full-time\",\"Full-time\",\"Full-time\",\"Full-time\",\"Full-time\",\"Full-time\",\"Full-time\",\"Full-time\",\"Full-time\",\"Full-time\",\"Full-time\",\"Full-time\",\"Full-time\",\"Full-time\",\"Full-time\",\"Full-time\",\"Full-time\",\"Full-time\",\"Full-time\",\"Full-time\",\"Full-time\",\"Full-time\",\"Full-time\",\"Full-time\",\"Full-time\",\"Full-time\"],\"type\":\"histogram\",\"xaxis\":\"x2\",\"yaxis\":\"y2\",\"showlegend\":false},{\"name\":\"Remote Work\",\"x\":[\"No Remote\",\"No Remote\",\"Partially Remote\",\"No Remote\",\"Partially Remote\",\"Fully Remote\",\"Fully Remote\",\"Partially Remote\",\"Fully Remote\",\"Partially Remote\",\"No Remote\",\"No Remote\",\"No Remote\",\"Fully Remote\",\"Fully Remote\",\"Partially Remote\",\"Fully Remote\",\"Fully Remote\",\"Partially Remote\",\"Fully Remote\",\"No Remote\",\"Fully Remote\",\"Partially Remote\",\"No Remote\",\"No Remote\",\"Fully Remote\",\"Partially Remote\",\"No Remote\",\"Fully Remote\",\"Partially Remote\",\"Fully Remote\",\"Fully Remote\",\"Fully Remote\",\"No Remote\",\"Partially Remote\",\"Partially Remote\",\"Fully Remote\",\"Partially Remote\",\"Fully Remote\",\"Fully Remote\",\"Fully Remote\",\"Partially Remote\",\"No Remote\",\"Fully Remote\",\"Partially Remote\",\"Fully Remote\",\"Fully Remote\",\"Fully Remote\",\"Fully Remote\",\"Partially Remote\",\"No Remote\",\"Fully Remote\",\"Partially Remote\",\"Fully Remote\",\"Fully Remote\",\"Fully Remote\",\"Fully Remote\",\"Fully Remote\",\"Partially Remote\",\"Fully Remote\",\"Fully Remote\",\"Fully Remote\",\"Partially Remote\",\"Fully Remote\",\"Fully Remote\",\"Partially Remote\",\"No Remote\",\"Fully Remote\",\"Fully Remote\",\"No Remote\",\"Partially Remote\",\"Partially Remote\",\"Partially Remote\",\"Fully Remote\",\"Fully Remote\",\"Partially Remote\",\"Fully Remote\",\"Partially Remote\",\"Fully Remote\",\"Fully Remote\",\"Fully Remote\",\"Fully Remote\",\"Partially Remote\",\"Fully Remote\",\"Fully Remote\",\"Fully Remote\",\"Partially Remote\",\"Fully Remote\",\"Fully Remote\",\"Fully Remote\",\"Fully Remote\",\"Fully Remote\",\"Fully Remote\",\"No Remote\",\"Partially Remote\",\"Partially Remote\",\"Fully Remote\",\"Fully Remote\",\"Fully Remote\",\"Fully Remote\",\"No Remote\",\"Fully Remote\",\"Partially Remote\",\"No Remote\",\"No Remote\",\"Partially Remote\",\"Fully Remote\",\"Fully Remote\",\"Fully Remote\",\"Fully Remote\",\"Partially Remote\",\"Fully Remote\",\"Fully Remote\",\"Fully Remote\",\"Fully Remote\",\"Fully Remote\",\"Fully Remote\",\"Fully Remote\",\"Fully Remote\",\"Fully Remote\",\"Partially Remote\",\"Fully Remote\",\"Fully Remote\",\"No Remote\",\"Partially Remote\",\"Fully Remote\",\"Partially Remote\",\"No Remote\",\"Fully Remote\",\"Partially Remote\",\"Partially Remote\",\"Partially Remote\",\"Fully Remote\",\"Fully Remote\",\"No Remote\",\"Fully Remote\",\"Partially Remote\",\"Partially Remote\",\"No Remote\",\"Fully Remote\",\"Fully Remote\",\"No Remote\",\"No Remote\",\"Fully Remote\",\"Fully Remote\",\"Partially Remote\",\"Partially Remote\",\"Fully Remote\",\"Fully Remote\",\"Fully Remote\",\"No Remote\",\"Fully Remote\",\"Fully Remote\",\"Fully Remote\",\"Fully Remote\",\"Partially Remote\",\"Fully Remote\",\"Partially Remote\",\"Fully Remote\",\"Fully Remote\",\"Partially Remote\",\"No Remote\",\"Partially Remote\",\"Partially Remote\",\"Partially Remote\",\"Fully Remote\",\"Fully Remote\",\"No Remote\",\"Partially Remote\",\"Fully Remote\",\"Fully Remote\",\"Fully Remote\",\"Fully Remote\",\"Fully Remote\",\"Partially Remote\",\"Fully Remote\",\"No Remote\",\"Fully Remote\",\"Partially Remote\",\"Fully Remote\",\"No Remote\",\"Partially Remote\",\"No Remote\",\"Partially Remote\",\"Partially Remote\",\"Fully Remote\",\"Fully Remote\",\"Fully Remote\",\"Partially Remote\",\"Partially Remote\",\"Fully Remote\",\"Partially Remote\",\"No Remote\",\"Fully Remote\",\"Partially Remote\",\"Partially Remote\",\"Fully Remote\",\"Fully Remote\",\"Partially Remote\",\"Fully Remote\",\"Partially Remote\",\"Fully Remote\",\"Fully Remote\",\"Fully Remote\",\"Fully Remote\",\"No Remote\",\"Fully Remote\",\"No Remote\",\"No Remote\",\"No Remote\",\"Partially Remote\",\"Partially Remote\",\"Partially Remote\",\"No Remote\",\"Partially Remote\",\"Fully Remote\",\"Partially Remote\",\"Partially Remote\",\"Fully Remote\",\"Fully Remote\",\"Fully Remote\",\"Partially Remote\",\"No Remote\",\"Partially Remote\",\"Fully Remote\",\"Fully Remote\",\"Fully Remote\",\"Partially Remote\",\"No Remote\",\"Fully Remote\",\"Fully Remote\",\"Fully Remote\",\"Fully Remote\",\"Fully Remote\",\"Fully Remote\",\"No Remote\",\"Fully Remote\",\"Fully Remote\",\"No Remote\",\"Partially Remote\",\"Fully Remote\",\"Fully Remote\",\"Fully Remote\",\"Fully Remote\",\"Fully Remote\",\"Partially Remote\",\"Partially Remote\",\"No Remote\",\"Partially Remote\",\"Fully Remote\",\"Partially Remote\",\"Fully Remote\",\"Fully Remote\",\"Fully Remote\",\"Fully Remote\",\"Partially Remote\",\"Fully Remote\",\"Fully Remote\",\"Partially Remote\",\"No Remote\",\"Partially Remote\",\"Partially Remote\",\"Fully Remote\",\"No Remote\",\"Fully Remote\",\"Partially Remote\",\"No Remote\",\"No Remote\",\"Fully Remote\",\"Partially Remote\",\"Fully Remote\",\"No Remote\",\"No Remote\",\"Fully Remote\",\"Partially Remote\",\"Fully Remote\",\"Partially Remote\",\"Fully Remote\",\"Partially Remote\",\"Fully Remote\",\"Fully Remote\",\"No Remote\",\"Fully Remote\",\"Fully Remote\",\"Partially Remote\",\"Partially Remote\",\"Fully Remote\",\"Partially Remote\",\"Partially Remote\",\"Fully Remote\",\"Fully Remote\",\"Fully Remote\",\"No Remote\",\"No Remote\",\"Fully Remote\",\"Fully Remote\",\"Fully Remote\",\"Fully Remote\",\"Fully Remote\",\"Fully Remote\",\"No Remote\",\"No Remote\",\"Fully Remote\",\"Fully Remote\",\"Fully Remote\",\"No Remote\",\"No Remote\",\"No Remote\",\"No Remote\",\"Fully Remote\",\"Fully Remote\",\"No Remote\",\"No Remote\",\"No Remote\",\"No Remote\",\"Fully Remote\",\"Fully Remote\",\"Fully Remote\",\"Fully Remote\",\"No Remote\",\"No Remote\",\"No Remote\",\"No Remote\",\"No Remote\",\"No Remote\",\"Fully Remote\",\"Fully Remote\",\"Fully Remote\",\"Fully Remote\",\"Fully Remote\",\"Fully Remote\",\"Fully Remote\",\"Fully Remote\",\"Fully Remote\",\"Fully Remote\",\"Fully Remote\",\"Fully Remote\",\"Fully Remote\",\"Fully Remote\",\"Fully Remote\",\"Fully Remote\",\"Fully Remote\",\"Fully Remote\",\"Fully Remote\",\"Fully Remote\",\"Fully Remote\",\"No Remote\",\"No Remote\",\"No Remote\",\"Fully Remote\",\"Fully Remote\",\"Fully Remote\",\"Fully Remote\",\"Fully Remote\",\"No Remote\",\"No Remote\",\"No Remote\",\"Fully Remote\",\"Fully Remote\",\"Fully Remote\",\"Fully Remote\",\"Fully Remote\",\"Fully Remote\",\"Fully Remote\",\"No Remote\",\"Fully Remote\",\"No Remote\",\"No Remote\",\"Fully Remote\",\"Fully Remote\",\"Fully Remote\",\"No Remote\",\"No Remote\",\"No Remote\",\"No Remote\",\"Fully Remote\",\"No Remote\",\"Fully Remote\",\"Fully Remote\",\"Fully Remote\",\"Fully Remote\",\"Fully Remote\",\"Fully Remote\",\"Fully Remote\",\"Partially Remote\",\"Fully Remote\",\"Fully Remote\",\"No Remote\",\"Fully Remote\",\"No Remote\",\"No Remote\",\"No Remote\",\"Fully Remote\",\"Fully Remote\",\"Fully Remote\",\"Fully Remote\",\"Fully Remote\",\"No Remote\",\"Fully Remote\",\"Fully Remote\",\"Fully Remote\",\"Fully Remote\",\"No Remote\",\"No Remote\",\"Fully Remote\",\"No Remote\",\"No Remote\",\"Fully Remote\",\"Fully Remote\",\"Fully Remote\",\"No Remote\",\"No Remote\",\"Fully Remote\",\"Fully Remote\",\"Fully Remote\",\"Fully Remote\",\"Fully Remote\",\"Fully Remote\",\"No Remote\",\"Fully Remote\",\"Fully Remote\",\"Fully Remote\",\"Fully Remote\",\"No Remote\",\"No Remote\",\"No Remote\",\"Fully Remote\",\"Fully Remote\",\"No Remote\",\"Fully Remote\",\"Fully Remote\",\"Fully Remote\",\"Fully Remote\",\"Fully Remote\",\"Fully Remote\",\"Fully Remote\",\"Fully Remote\",\"Fully Remote\",\"No Remote\",\"No Remote\",\"Fully Remote\",\"Fully Remote\",\"Fully Remote\",\"Fully Remote\",\"No Remote\",\"Fully Remote\",\"Fully Remote\",\"Fully Remote\",\"Fully Remote\",\"Fully Remote\",\"Fully Remote\",\"Fully Remote\",\"Partially Remote\",\"Fully Remote\",\"No Remote\",\"Partially Remote\",\"Fully Remote\",\"No Remote\",\"Fully Remote\",\"Fully Remote\",\"Partially Remote\",\"Partially Remote\",\"Partially Remote\",\"Fully Remote\",\"Fully Remote\",\"Fully Remote\",\"Partially Remote\",\"Fully Remote\",\"Fully Remote\",\"Fully Remote\",\"Fully Remote\",\"Fully Remote\",\"Fully Remote\",\"Fully Remote\",\"No Remote\",\"No Remote\",\"Fully Remote\",\"Fully Remote\",\"Fully Remote\",\"Fully Remote\",\"Fully Remote\",\"Fully Remote\",\"Fully Remote\",\"Fully Remote\",\"Fully Remote\",\"Fully Remote\",\"Fully Remote\",\"Partially Remote\",\"Fully Remote\",\"Fully Remote\",\"Fully Remote\",\"Fully Remote\",\"Fully Remote\",\"Fully Remote\",\"Fully Remote\",\"Partially Remote\",\"Fully Remote\",\"Fully Remote\",\"Partially Remote\",\"Fully Remote\",\"Fully Remote\",\"Fully Remote\",\"Fully Remote\",\"Fully Remote\",\"Fully Remote\",\"Partially Remote\",\"Fully Remote\",\"No Remote\",\"Fully Remote\",\"Fully Remote\",\"Fully Remote\",\"Partially Remote\",\"Fully Remote\",\"Fully Remote\",\"No Remote\",\"Fully Remote\",\"Fully Remote\",\"Fully Remote\",\"No Remote\",\"Fully Remote\",\"Fully Remote\",\"Fully Remote\",\"Fully Remote\",\"Fully Remote\",\"Fully Remote\",\"Fully Remote\",\"Fully Remote\",\"Fully Remote\",\"Fully Remote\",\"Fully Remote\",\"No Remote\",\"No Remote\",\"Fully Remote\",\"Fully Remote\",\"Fully Remote\",\"Fully Remote\",\"Fully Remote\",\"Fully Remote\",\"No Remote\",\"No Remote\",\"Fully Remote\",\"Fully Remote\",\"No Remote\",\"No Remote\",\"Fully Remote\",\"Fully Remote\",\"Fully Remote\",\"Fully Remote\",\"Fully Remote\",\"Fully Remote\",\"No Remote\",\"No Remote\",\"Fully Remote\",\"Fully Remote\",\"Fully Remote\",\"Fully Remote\",\"Fully Remote\",\"No Remote\",\"No Remote\",\"No Remote\",\"No Remote\",\"No Remote\",\"Fully Remote\",\"Fully Remote\",\"Fully Remote\",\"No Remote\",\"Fully Remote\",\"No Remote\",\"Fully Remote\",\"Fully Remote\",\"Fully Remote\",\"Fully Remote\",\"Fully Remote\",\"Fully Remote\",\"Fully Remote\",\"Fully Remote\",\"Fully Remote\",\"Fully Remote\",\"Fully Remote\",\"Fully Remote\",\"Fully Remote\",\"Fully Remote\",\"Fully Remote\",\"Fully Remote\",\"Fully Remote\",\"Fully Remote\",\"No Remote\",\"Fully Remote\",\"No Remote\",\"Fully Remote\",\"Fully Remote\",\"Fully Remote\",\"Fully Remote\",\"Fully Remote\",\"Fully Remote\",\"Fully Remote\",\"Fully Remote\",\"Fully Remote\",\"Fully Remote\",\"Fully Remote\",\"No Remote\",\"No Remote\",\"Fully Remote\",\"Fully Remote\",\"No Remote\",\"Fully Remote\",\"Fully Remote\"],\"type\":\"histogram\",\"xaxis\":\"x3\",\"yaxis\":\"y3\",\"showlegend\":false}],                        {\"template\":{\"data\":{\"barpolar\":[{\"marker\":{\"line\":{\"color\":\"rgb(237,237,237)\",\"width\":0.5},\"pattern\":{\"fillmode\":\"overlay\",\"size\":10,\"solidity\":0.2}},\"type\":\"barpolar\"}],\"bar\":[{\"error_x\":{\"color\":\"rgb(51,51,51)\"},\"error_y\":{\"color\":\"rgb(51,51,51)\"},\"marker\":{\"line\":{\"color\":\"rgb(237,237,237)\",\"width\":0.5},\"pattern\":{\"fillmode\":\"overlay\",\"size\":10,\"solidity\":0.2}},\"type\":\"bar\"}],\"carpet\":[{\"aaxis\":{\"endlinecolor\":\"rgb(51,51,51)\",\"gridcolor\":\"white\",\"linecolor\":\"white\",\"minorgridcolor\":\"white\",\"startlinecolor\":\"rgb(51,51,51)\"},\"baxis\":{\"endlinecolor\":\"rgb(51,51,51)\",\"gridcolor\":\"white\",\"linecolor\":\"white\",\"minorgridcolor\":\"white\",\"startlinecolor\":\"rgb(51,51,51)\"},\"type\":\"carpet\"}],\"choropleth\":[{\"colorbar\":{\"outlinewidth\":0,\"tickcolor\":\"rgb(237,237,237)\",\"ticklen\":6,\"ticks\":\"inside\"},\"type\":\"choropleth\"}],\"contourcarpet\":[{\"colorbar\":{\"outlinewidth\":0,\"tickcolor\":\"rgb(237,237,237)\",\"ticklen\":6,\"ticks\":\"inside\"},\"type\":\"contourcarpet\"}],\"contour\":[{\"colorbar\":{\"outlinewidth\":0,\"tickcolor\":\"rgb(237,237,237)\",\"ticklen\":6,\"ticks\":\"inside\"},\"colorscale\":[[0,\"rgb(20,44,66)\"],[1,\"rgb(90,179,244)\"]],\"type\":\"contour\"}],\"heatmapgl\":[{\"colorbar\":{\"outlinewidth\":0,\"tickcolor\":\"rgb(237,237,237)\",\"ticklen\":6,\"ticks\":\"inside\"},\"colorscale\":[[0,\"rgb(20,44,66)\"],[1,\"rgb(90,179,244)\"]],\"type\":\"heatmapgl\"}],\"heatmap\":[{\"colorbar\":{\"outlinewidth\":0,\"tickcolor\":\"rgb(237,237,237)\",\"ticklen\":6,\"ticks\":\"inside\"},\"colorscale\":[[0,\"rgb(20,44,66)\"],[1,\"rgb(90,179,244)\"]],\"type\":\"heatmap\"}],\"histogram2dcontour\":[{\"colorbar\":{\"outlinewidth\":0,\"tickcolor\":\"rgb(237,237,237)\",\"ticklen\":6,\"ticks\":\"inside\"},\"colorscale\":[[0,\"rgb(20,44,66)\"],[1,\"rgb(90,179,244)\"]],\"type\":\"histogram2dcontour\"}],\"histogram2d\":[{\"colorbar\":{\"outlinewidth\":0,\"tickcolor\":\"rgb(237,237,237)\",\"ticklen\":6,\"ticks\":\"inside\"},\"colorscale\":[[0,\"rgb(20,44,66)\"],[1,\"rgb(90,179,244)\"]],\"type\":\"histogram2d\"}],\"histogram\":[{\"marker\":{\"pattern\":{\"fillmode\":\"overlay\",\"size\":10,\"solidity\":0.2}},\"type\":\"histogram\"}],\"mesh3d\":[{\"colorbar\":{\"outlinewidth\":0,\"tickcolor\":\"rgb(237,237,237)\",\"ticklen\":6,\"ticks\":\"inside\"},\"type\":\"mesh3d\"}],\"parcoords\":[{\"line\":{\"colorbar\":{\"outlinewidth\":0,\"tickcolor\":\"rgb(237,237,237)\",\"ticklen\":6,\"ticks\":\"inside\"}},\"type\":\"parcoords\"}],\"pie\":[{\"automargin\":true,\"type\":\"pie\"}],\"scatter3d\":[{\"line\":{\"colorbar\":{\"outlinewidth\":0,\"tickcolor\":\"rgb(237,237,237)\",\"ticklen\":6,\"ticks\":\"inside\"}},\"marker\":{\"colorbar\":{\"outlinewidth\":0,\"tickcolor\":\"rgb(237,237,237)\",\"ticklen\":6,\"ticks\":\"inside\"}},\"type\":\"scatter3d\"}],\"scattercarpet\":[{\"marker\":{\"colorbar\":{\"outlinewidth\":0,\"tickcolor\":\"rgb(237,237,237)\",\"ticklen\":6,\"ticks\":\"inside\"}},\"type\":\"scattercarpet\"}],\"scattergeo\":[{\"marker\":{\"colorbar\":{\"outlinewidth\":0,\"tickcolor\":\"rgb(237,237,237)\",\"ticklen\":6,\"ticks\":\"inside\"}},\"type\":\"scattergeo\"}],\"scattergl\":[{\"marker\":{\"colorbar\":{\"outlinewidth\":0,\"tickcolor\":\"rgb(237,237,237)\",\"ticklen\":6,\"ticks\":\"inside\"}},\"type\":\"scattergl\"}],\"scattermapbox\":[{\"marker\":{\"colorbar\":{\"outlinewidth\":0,\"tickcolor\":\"rgb(237,237,237)\",\"ticklen\":6,\"ticks\":\"inside\"}},\"type\":\"scattermapbox\"}],\"scatterpolargl\":[{\"marker\":{\"colorbar\":{\"outlinewidth\":0,\"tickcolor\":\"rgb(237,237,237)\",\"ticklen\":6,\"ticks\":\"inside\"}},\"type\":\"scatterpolargl\"}],\"scatterpolar\":[{\"marker\":{\"colorbar\":{\"outlinewidth\":0,\"tickcolor\":\"rgb(237,237,237)\",\"ticklen\":6,\"ticks\":\"inside\"}},\"type\":\"scatterpolar\"}],\"scatter\":[{\"fillpattern\":{\"fillmode\":\"overlay\",\"size\":10,\"solidity\":0.2},\"type\":\"scatter\"}],\"scatterternary\":[{\"marker\":{\"colorbar\":{\"outlinewidth\":0,\"tickcolor\":\"rgb(237,237,237)\",\"ticklen\":6,\"ticks\":\"inside\"}},\"type\":\"scatterternary\"}],\"surface\":[{\"colorbar\":{\"outlinewidth\":0,\"tickcolor\":\"rgb(237,237,237)\",\"ticklen\":6,\"ticks\":\"inside\"},\"colorscale\":[[0,\"rgb(20,44,66)\"],[1,\"rgb(90,179,244)\"]],\"type\":\"surface\"}],\"table\":[{\"cells\":{\"fill\":{\"color\":\"rgb(237,237,237)\"},\"line\":{\"color\":\"white\"}},\"header\":{\"fill\":{\"color\":\"rgb(217,217,217)\"},\"line\":{\"color\":\"white\"}},\"type\":\"table\"}]},\"layout\":{\"annotationdefaults\":{\"arrowhead\":0,\"arrowwidth\":1},\"autotypenumbers\":\"strict\",\"coloraxis\":{\"colorbar\":{\"outlinewidth\":0,\"tickcolor\":\"rgb(237,237,237)\",\"ticklen\":6,\"ticks\":\"inside\"}},\"colorscale\":{\"sequential\":[[0,\"rgb(20,44,66)\"],[1,\"rgb(90,179,244)\"]],\"sequentialminus\":[[0,\"rgb(20,44,66)\"],[1,\"rgb(90,179,244)\"]]},\"colorway\":[\"#F8766D\",\"#A3A500\",\"#00BF7D\",\"#00B0F6\",\"#E76BF3\"],\"font\":{\"color\":\"rgb(51,51,51)\"},\"geo\":{\"bgcolor\":\"white\",\"lakecolor\":\"white\",\"landcolor\":\"rgb(237,237,237)\",\"showlakes\":true,\"showland\":true,\"subunitcolor\":\"white\"},\"hoverlabel\":{\"align\":\"left\"},\"hovermode\":\"closest\",\"paper_bgcolor\":\"white\",\"plot_bgcolor\":\"rgb(237,237,237)\",\"polar\":{\"angularaxis\":{\"gridcolor\":\"white\",\"linecolor\":\"white\",\"showgrid\":true,\"tickcolor\":\"rgb(51,51,51)\",\"ticks\":\"outside\"},\"bgcolor\":\"rgb(237,237,237)\",\"radialaxis\":{\"gridcolor\":\"white\",\"linecolor\":\"white\",\"showgrid\":true,\"tickcolor\":\"rgb(51,51,51)\",\"ticks\":\"outside\"}},\"scene\":{\"xaxis\":{\"backgroundcolor\":\"rgb(237,237,237)\",\"gridcolor\":\"white\",\"gridwidth\":2,\"linecolor\":\"white\",\"showbackground\":true,\"showgrid\":true,\"tickcolor\":\"rgb(51,51,51)\",\"ticks\":\"outside\",\"zerolinecolor\":\"white\"},\"yaxis\":{\"backgroundcolor\":\"rgb(237,237,237)\",\"gridcolor\":\"white\",\"gridwidth\":2,\"linecolor\":\"white\",\"showbackground\":true,\"showgrid\":true,\"tickcolor\":\"rgb(51,51,51)\",\"ticks\":\"outside\",\"zerolinecolor\":\"white\"},\"zaxis\":{\"backgroundcolor\":\"rgb(237,237,237)\",\"gridcolor\":\"white\",\"gridwidth\":2,\"linecolor\":\"white\",\"showbackground\":true,\"showgrid\":true,\"tickcolor\":\"rgb(51,51,51)\",\"ticks\":\"outside\",\"zerolinecolor\":\"white\"}},\"shapedefaults\":{\"fillcolor\":\"black\",\"line\":{\"width\":0},\"opacity\":0.3},\"ternary\":{\"aaxis\":{\"gridcolor\":\"white\",\"linecolor\":\"white\",\"showgrid\":true,\"tickcolor\":\"rgb(51,51,51)\",\"ticks\":\"outside\"},\"baxis\":{\"gridcolor\":\"white\",\"linecolor\":\"white\",\"showgrid\":true,\"tickcolor\":\"rgb(51,51,51)\",\"ticks\":\"outside\"},\"bgcolor\":\"rgb(237,237,237)\",\"caxis\":{\"gridcolor\":\"white\",\"linecolor\":\"white\",\"showgrid\":true,\"tickcolor\":\"rgb(51,51,51)\",\"ticks\":\"outside\"}},\"xaxis\":{\"automargin\":true,\"gridcolor\":\"white\",\"linecolor\":\"white\",\"showgrid\":true,\"tickcolor\":\"rgb(51,51,51)\",\"ticks\":\"outside\",\"title\":{\"standoff\":15},\"zerolinecolor\":\"white\"},\"yaxis\":{\"automargin\":true,\"gridcolor\":\"white\",\"linecolor\":\"white\",\"showgrid\":true,\"tickcolor\":\"rgb(51,51,51)\",\"ticks\":\"outside\",\"title\":{\"standoff\":15},\"zerolinecolor\":\"white\"}}},\"xaxis\":{\"anchor\":\"y\",\"domain\":[0.0,0.2888888888888889],\"categoryorder\":\"category ascending\"},\"yaxis\":{\"anchor\":\"x\",\"domain\":[0.0,1.0],\"showspikes\":true},\"xaxis2\":{\"anchor\":\"y2\",\"domain\":[0.35555555555555557,0.6444444444444445],\"categoryorder\":\"category ascending\"},\"yaxis2\":{\"anchor\":\"x2\",\"domain\":[0.0,1.0],\"matches\":\"y\",\"showticklabels\":false,\"showspikes\":true},\"xaxis3\":{\"anchor\":\"y3\",\"domain\":[0.7111111111111111,1.0],\"categoryorder\":\"category ascending\"},\"yaxis3\":{\"anchor\":\"x3\",\"domain\":[0.0,1.0],\"matches\":\"y\",\"showticklabels\":false,\"showspikes\":true},\"annotations\":[{\"font\":{\"size\":16},\"showarrow\":false,\"text\":\"Experience Level Distribution\",\"x\":0.14444444444444446,\"xanchor\":\"center\",\"xref\":\"paper\",\"y\":1.0,\"yanchor\":\"bottom\",\"yref\":\"paper\"},{\"font\":{\"size\":16},\"showarrow\":false,\"text\":\"Employment Type Distribution\",\"x\":0.5,\"xanchor\":\"center\",\"xref\":\"paper\",\"y\":1.0,\"yanchor\":\"bottom\",\"yref\":\"paper\"},{\"font\":{\"size\":16},\"showarrow\":false,\"text\":\"Remote Work Distribution\",\"x\":0.8555555555555556,\"xanchor\":\"center\",\"xref\":\"paper\",\"y\":1.0,\"yanchor\":\"bottom\",\"yref\":\"paper\"}],\"hovermode\":\"x\"},                        {\"responsive\": true}                    ).then(function(){\n",
       "                            \n",
       "var gd = document.getElementById('59f01443-04b9-43f6-81f7-f95309ba9330');\n",
       "var x = new MutationObserver(function (mutations, observer) {{\n",
       "        var display = window.getComputedStyle(gd).display;\n",
       "        if (!display || display === 'none') {{\n",
       "            console.log([gd, 'removed!']);\n",
       "            Plotly.purge(gd);\n",
       "            observer.disconnect();\n",
       "        }}\n",
       "}});\n",
       "\n",
       "// Listen for the removal of the full notebook cells\n",
       "var notebookContainer = gd.closest('#notebook-container');\n",
       "if (notebookContainer) {{\n",
       "    x.observe(notebookContainer, {childList: true});\n",
       "}}\n",
       "\n",
       "// Listen for the clearing of the current output cell\n",
       "var outputEl = gd.closest('.output');\n",
       "if (outputEl) {{\n",
       "    x.observe(outputEl, {childList: true});\n",
       "}}\n",
       "\n",
       "                        })                };                });            </script>        </div>"
      ]
     },
     "metadata": {},
     "output_type": "display_data"
    }
   ],
   "source": [
    "fig2 = make_subplots(rows=1, shared_yaxes = True, cols=3,column_titles= [\"Experience Level Distribution\", \"Employment Type Distribution\", \"Remote Work Distribution\"])\n",
    "\n",
    "fig2.add_trace(go.Histogram(x=salaries[cols_to_cat[0]],\n",
    "                           hovertemplate = '<br>'.join([\n",
    "                               'No. of observations: %{y}',\n",
    "                               'Position: %{x}'                               \n",
    "            ]), name = \"Experience\"), 1,1)\n",
    "fig2.add_trace(go.Histogram(x=salaries[cols_to_cat[1]], \n",
    "                           name = \"Employment\",\n",
    "                           hovertemplate = '<br>'.join([\n",
    "                               'No. of observations: %{y}',\n",
    "                               'Employment Type: %{x}'\n",
    "    \n",
    "            ])),\n",
    "              1,2)\n",
    "fig2.add_trace(go.Histogram(x=salaries[\"remote_ratio\"], name = \"Remote Work\"),\n",
    "               1,3)\n",
    "\n",
    "\n",
    "fig2.update_xaxes(categoryorder=\"category ascending\")\n",
    "fig2.update_yaxes(showspikes = True)\n",
    "fig2.update_layout(template = \"ggplot2\",hovermode = \"x\")\n",
    "fig2.update_traces(showlegend = False)\n",
    "fig2.show()\n"
   ]
  },
  {
   "cell_type": "markdown",
   "id": "07d7af5f",
   "metadata": {
    "papermill": {
     "duration": 0.014996,
     "end_time": "2022-08-28T09:59:21.042027",
     "exception": false,
     "start_time": "2022-08-28T09:59:21.027031",
     "status": "completed"
    },
    "tags": []
   },
   "source": [
    "The Distributions are rather imbalanced based on the current number of observations, most notably in the Employment Type variable. The large imbalanced in the Employment Type variable may possibly be due to the increase in demand for Data Scientist and Data Analytics related professionals to help automate or improve efficiencies within an enterprise. Additionally, other Employment Types may vary significantly depending on the type of projects and industries that they are involved in.\n",
    "\n",
    "The Experience Level variable will be further expanded upon in the next section. Where we will look at the salary distribution in terms of different Experience Levels and Company Size."
   ]
  },
  {
   "cell_type": "code",
   "execution_count": 15,
   "id": "4d6a1c6c",
   "metadata": {
    "execution": {
     "iopub.execute_input": "2022-08-28T09:59:21.074343Z",
     "iopub.status.busy": "2022-08-28T09:59:21.073911Z",
     "iopub.status.idle": "2022-08-28T09:59:21.202432Z",
     "shell.execute_reply": "2022-08-28T09:59:21.201225Z"
    },
    "papermill": {
     "duration": 0.147569,
     "end_time": "2022-08-28T09:59:21.204933",
     "exception": false,
     "start_time": "2022-08-28T09:59:21.057364",
     "status": "completed"
    },
    "tags": []
   },
   "outputs": [
    {
     "data": {
      "text/html": [
       "<div>                            <div id=\"77937a4f-5048-4c2b-95cb-6437ceffbd0d\" class=\"plotly-graph-div\" style=\"height:525px; width:100%;\"></div>            <script type=\"text/javascript\">                require([\"plotly\"], function(Plotly) {                    window.PLOTLYENV=window.PLOTLYENV || {};                                    if (document.getElementById(\"77937a4f-5048-4c2b-95cb-6437ceffbd0d\")) {                    Plotly.newPlot(                        \"77937a4f-5048-4c2b-95cb-6437ceffbd0d\",                        [{\"alignmentgroup\":\"True\",\"hovertemplate\":\"Salary: %{y}\",\"legendgroup\":\"Large\",\"marker\":{\"color\":\"#636efa\",\"pattern\":{\"shape\":\"\"}},\"name\":\"Large\",\"offsetgroup\":\"Large\",\"orientation\":\"v\",\"showlegend\":true,\"textposition\":\"outside\",\"texttemplate\":\"%{y:.2s}\",\"x\":[\"Entry-level / Junior\",\"Executive-level / Director\",\"Mid-level / Intermediate\",\"Senior-level / Expert\"],\"xaxis\":\"x\",\"y\":[72813.24137931035,221942.18181818182,98030.37209302325,147591.01388888888],\"yaxis\":\"y\",\"type\":\"bar\"},{\"alignmentgroup\":\"True\",\"hovertemplate\":\"Salary: %{y}\",\"legendgroup\":\"Medium\",\"marker\":{\"color\":\"#EF553B\",\"pattern\":{\"shape\":\"\"}},\"name\":\"Medium\",\"offsetgroup\":\"Medium\",\"orientation\":\"v\",\"showlegend\":true,\"textposition\":\"outside\",\"texttemplate\":\"%{y:.2s}\",\"x\":[\"Entry-level / Junior\",\"Executive-level / Director\",\"Mid-level / Intermediate\",\"Senior-level / Expert\"],\"xaxis\":\"x\",\"y\":[50321.8,178241.75,90091.08163265306,137815.59677419355],\"yaxis\":\"y\",\"type\":\"bar\"},{\"alignmentgroup\":\"True\",\"hovertemplate\":\"Salary: %{y}\",\"legendgroup\":\"Small\",\"marker\":{\"color\":\"#00cc96\",\"pattern\":{\"shape\":\"\"}},\"name\":\"Small\",\"offsetgroup\":\"Small\",\"orientation\":\"v\",\"showlegend\":true,\"textposition\":\"outside\",\"texttemplate\":\"%{y:.2s}\",\"x\":[\"Entry-level / Junior\",\"Executive-level / Director\",\"Mid-level / Intermediate\",\"Senior-level / Expert\"],\"xaxis\":\"x\",\"y\":[62185.31034482759,201309.33333333334,51159.379310344826,116026.72727272728],\"yaxis\":\"y\",\"type\":\"bar\"}],                        {\"template\":{\"data\":{\"barpolar\":[{\"marker\":{\"line\":{\"color\":\"rgb(237,237,237)\",\"width\":0.5},\"pattern\":{\"fillmode\":\"overlay\",\"size\":10,\"solidity\":0.2}},\"type\":\"barpolar\"}],\"bar\":[{\"error_x\":{\"color\":\"rgb(51,51,51)\"},\"error_y\":{\"color\":\"rgb(51,51,51)\"},\"marker\":{\"line\":{\"color\":\"rgb(237,237,237)\",\"width\":0.5},\"pattern\":{\"fillmode\":\"overlay\",\"size\":10,\"solidity\":0.2}},\"type\":\"bar\"}],\"carpet\":[{\"aaxis\":{\"endlinecolor\":\"rgb(51,51,51)\",\"gridcolor\":\"white\",\"linecolor\":\"white\",\"minorgridcolor\":\"white\",\"startlinecolor\":\"rgb(51,51,51)\"},\"baxis\":{\"endlinecolor\":\"rgb(51,51,51)\",\"gridcolor\":\"white\",\"linecolor\":\"white\",\"minorgridcolor\":\"white\",\"startlinecolor\":\"rgb(51,51,51)\"},\"type\":\"carpet\"}],\"choropleth\":[{\"colorbar\":{\"outlinewidth\":0,\"tickcolor\":\"rgb(237,237,237)\",\"ticklen\":6,\"ticks\":\"inside\"},\"type\":\"choropleth\"}],\"contourcarpet\":[{\"colorbar\":{\"outlinewidth\":0,\"tickcolor\":\"rgb(237,237,237)\",\"ticklen\":6,\"ticks\":\"inside\"},\"type\":\"contourcarpet\"}],\"contour\":[{\"colorbar\":{\"outlinewidth\":0,\"tickcolor\":\"rgb(237,237,237)\",\"ticklen\":6,\"ticks\":\"inside\"},\"colorscale\":[[0,\"rgb(20,44,66)\"],[1,\"rgb(90,179,244)\"]],\"type\":\"contour\"}],\"heatmapgl\":[{\"colorbar\":{\"outlinewidth\":0,\"tickcolor\":\"rgb(237,237,237)\",\"ticklen\":6,\"ticks\":\"inside\"},\"colorscale\":[[0,\"rgb(20,44,66)\"],[1,\"rgb(90,179,244)\"]],\"type\":\"heatmapgl\"}],\"heatmap\":[{\"colorbar\":{\"outlinewidth\":0,\"tickcolor\":\"rgb(237,237,237)\",\"ticklen\":6,\"ticks\":\"inside\"},\"colorscale\":[[0,\"rgb(20,44,66)\"],[1,\"rgb(90,179,244)\"]],\"type\":\"heatmap\"}],\"histogram2dcontour\":[{\"colorbar\":{\"outlinewidth\":0,\"tickcolor\":\"rgb(237,237,237)\",\"ticklen\":6,\"ticks\":\"inside\"},\"colorscale\":[[0,\"rgb(20,44,66)\"],[1,\"rgb(90,179,244)\"]],\"type\":\"histogram2dcontour\"}],\"histogram2d\":[{\"colorbar\":{\"outlinewidth\":0,\"tickcolor\":\"rgb(237,237,237)\",\"ticklen\":6,\"ticks\":\"inside\"},\"colorscale\":[[0,\"rgb(20,44,66)\"],[1,\"rgb(90,179,244)\"]],\"type\":\"histogram2d\"}],\"histogram\":[{\"marker\":{\"pattern\":{\"fillmode\":\"overlay\",\"size\":10,\"solidity\":0.2}},\"type\":\"histogram\"}],\"mesh3d\":[{\"colorbar\":{\"outlinewidth\":0,\"tickcolor\":\"rgb(237,237,237)\",\"ticklen\":6,\"ticks\":\"inside\"},\"type\":\"mesh3d\"}],\"parcoords\":[{\"line\":{\"colorbar\":{\"outlinewidth\":0,\"tickcolor\":\"rgb(237,237,237)\",\"ticklen\":6,\"ticks\":\"inside\"}},\"type\":\"parcoords\"}],\"pie\":[{\"automargin\":true,\"type\":\"pie\"}],\"scatter3d\":[{\"line\":{\"colorbar\":{\"outlinewidth\":0,\"tickcolor\":\"rgb(237,237,237)\",\"ticklen\":6,\"ticks\":\"inside\"}},\"marker\":{\"colorbar\":{\"outlinewidth\":0,\"tickcolor\":\"rgb(237,237,237)\",\"ticklen\":6,\"ticks\":\"inside\"}},\"type\":\"scatter3d\"}],\"scattercarpet\":[{\"marker\":{\"colorbar\":{\"outlinewidth\":0,\"tickcolor\":\"rgb(237,237,237)\",\"ticklen\":6,\"ticks\":\"inside\"}},\"type\":\"scattercarpet\"}],\"scattergeo\":[{\"marker\":{\"colorbar\":{\"outlinewidth\":0,\"tickcolor\":\"rgb(237,237,237)\",\"ticklen\":6,\"ticks\":\"inside\"}},\"type\":\"scattergeo\"}],\"scattergl\":[{\"marker\":{\"colorbar\":{\"outlinewidth\":0,\"tickcolor\":\"rgb(237,237,237)\",\"ticklen\":6,\"ticks\":\"inside\"}},\"type\":\"scattergl\"}],\"scattermapbox\":[{\"marker\":{\"colorbar\":{\"outlinewidth\":0,\"tickcolor\":\"rgb(237,237,237)\",\"ticklen\":6,\"ticks\":\"inside\"}},\"type\":\"scattermapbox\"}],\"scatterpolargl\":[{\"marker\":{\"colorbar\":{\"outlinewidth\":0,\"tickcolor\":\"rgb(237,237,237)\",\"ticklen\":6,\"ticks\":\"inside\"}},\"type\":\"scatterpolargl\"}],\"scatterpolar\":[{\"marker\":{\"colorbar\":{\"outlinewidth\":0,\"tickcolor\":\"rgb(237,237,237)\",\"ticklen\":6,\"ticks\":\"inside\"}},\"type\":\"scatterpolar\"}],\"scatter\":[{\"fillpattern\":{\"fillmode\":\"overlay\",\"size\":10,\"solidity\":0.2},\"type\":\"scatter\"}],\"scatterternary\":[{\"marker\":{\"colorbar\":{\"outlinewidth\":0,\"tickcolor\":\"rgb(237,237,237)\",\"ticklen\":6,\"ticks\":\"inside\"}},\"type\":\"scatterternary\"}],\"surface\":[{\"colorbar\":{\"outlinewidth\":0,\"tickcolor\":\"rgb(237,237,237)\",\"ticklen\":6,\"ticks\":\"inside\"},\"colorscale\":[[0,\"rgb(20,44,66)\"],[1,\"rgb(90,179,244)\"]],\"type\":\"surface\"}],\"table\":[{\"cells\":{\"fill\":{\"color\":\"rgb(237,237,237)\"},\"line\":{\"color\":\"white\"}},\"header\":{\"fill\":{\"color\":\"rgb(217,217,217)\"},\"line\":{\"color\":\"white\"}},\"type\":\"table\"}]},\"layout\":{\"annotationdefaults\":{\"arrowhead\":0,\"arrowwidth\":1},\"autotypenumbers\":\"strict\",\"coloraxis\":{\"colorbar\":{\"outlinewidth\":0,\"tickcolor\":\"rgb(237,237,237)\",\"ticklen\":6,\"ticks\":\"inside\"}},\"colorscale\":{\"sequential\":[[0,\"rgb(20,44,66)\"],[1,\"rgb(90,179,244)\"]],\"sequentialminus\":[[0,\"rgb(20,44,66)\"],[1,\"rgb(90,179,244)\"]]},\"colorway\":[\"#F8766D\",\"#A3A500\",\"#00BF7D\",\"#00B0F6\",\"#E76BF3\"],\"font\":{\"color\":\"rgb(51,51,51)\"},\"geo\":{\"bgcolor\":\"white\",\"lakecolor\":\"white\",\"landcolor\":\"rgb(237,237,237)\",\"showlakes\":true,\"showland\":true,\"subunitcolor\":\"white\"},\"hoverlabel\":{\"align\":\"left\"},\"hovermode\":\"closest\",\"paper_bgcolor\":\"white\",\"plot_bgcolor\":\"rgb(237,237,237)\",\"polar\":{\"angularaxis\":{\"gridcolor\":\"white\",\"linecolor\":\"white\",\"showgrid\":true,\"tickcolor\":\"rgb(51,51,51)\",\"ticks\":\"outside\"},\"bgcolor\":\"rgb(237,237,237)\",\"radialaxis\":{\"gridcolor\":\"white\",\"linecolor\":\"white\",\"showgrid\":true,\"tickcolor\":\"rgb(51,51,51)\",\"ticks\":\"outside\"}},\"scene\":{\"xaxis\":{\"backgroundcolor\":\"rgb(237,237,237)\",\"gridcolor\":\"white\",\"gridwidth\":2,\"linecolor\":\"white\",\"showbackground\":true,\"showgrid\":true,\"tickcolor\":\"rgb(51,51,51)\",\"ticks\":\"outside\",\"zerolinecolor\":\"white\"},\"yaxis\":{\"backgroundcolor\":\"rgb(237,237,237)\",\"gridcolor\":\"white\",\"gridwidth\":2,\"linecolor\":\"white\",\"showbackground\":true,\"showgrid\":true,\"tickcolor\":\"rgb(51,51,51)\",\"ticks\":\"outside\",\"zerolinecolor\":\"white\"},\"zaxis\":{\"backgroundcolor\":\"rgb(237,237,237)\",\"gridcolor\":\"white\",\"gridwidth\":2,\"linecolor\":\"white\",\"showbackground\":true,\"showgrid\":true,\"tickcolor\":\"rgb(51,51,51)\",\"ticks\":\"outside\",\"zerolinecolor\":\"white\"}},\"shapedefaults\":{\"fillcolor\":\"black\",\"line\":{\"width\":0},\"opacity\":0.3},\"ternary\":{\"aaxis\":{\"gridcolor\":\"white\",\"linecolor\":\"white\",\"showgrid\":true,\"tickcolor\":\"rgb(51,51,51)\",\"ticks\":\"outside\"},\"baxis\":{\"gridcolor\":\"white\",\"linecolor\":\"white\",\"showgrid\":true,\"tickcolor\":\"rgb(51,51,51)\",\"ticks\":\"outside\"},\"bgcolor\":\"rgb(237,237,237)\",\"caxis\":{\"gridcolor\":\"white\",\"linecolor\":\"white\",\"showgrid\":true,\"tickcolor\":\"rgb(51,51,51)\",\"ticks\":\"outside\"}},\"xaxis\":{\"automargin\":true,\"gridcolor\":\"white\",\"linecolor\":\"white\",\"showgrid\":true,\"tickcolor\":\"rgb(51,51,51)\",\"ticks\":\"outside\",\"title\":{\"standoff\":15},\"zerolinecolor\":\"white\"},\"yaxis\":{\"automargin\":true,\"gridcolor\":\"white\",\"linecolor\":\"white\",\"showgrid\":true,\"tickcolor\":\"rgb(51,51,51)\",\"ticks\":\"outside\",\"title\":{\"standoff\":15},\"zerolinecolor\":\"white\"}}},\"xaxis\":{\"anchor\":\"y\",\"domain\":[0.0,1.0],\"title\":{\"text\":\"Experience Level\"},\"categoryorder\":\"array\",\"categoryarray\":[\"Entry-level / Junior\",\"Mid-level / Intermediate\",\"Senior-level / Expert\",\"Executive-level / Director\"]},\"yaxis\":{\"anchor\":\"x\",\"domain\":[0.0,1.0],\"title\":{\"text\":\"Salary (USD)\"}},\"legend\":{\"title\":{\"text\":\"Company Sizes\"},\"tracegroupgap\":0,\"traceorder\":\"reversed\"},\"title\":{\"text\":\"Global Average Salary (USD) Based on Experience Level & Company Size\",\"font\":{\"color\":\"#085CB0\"}},\"barmode\":\"group\",\"font\":{\"color\":\"#085CB0\"},\"hovermode\":\"x\"},                        {\"responsive\": true}                    ).then(function(){\n",
       "                            \n",
       "var gd = document.getElementById('77937a4f-5048-4c2b-95cb-6437ceffbd0d');\n",
       "var x = new MutationObserver(function (mutations, observer) {{\n",
       "        var display = window.getComputedStyle(gd).display;\n",
       "        if (!display || display === 'none') {{\n",
       "            console.log([gd, 'removed!']);\n",
       "            Plotly.purge(gd);\n",
       "            observer.disconnect();\n",
       "        }}\n",
       "}});\n",
       "\n",
       "// Listen for the removal of the full notebook cells\n",
       "var notebookContainer = gd.closest('#notebook-container');\n",
       "if (notebookContainer) {{\n",
       "    x.observe(notebookContainer, {childList: true});\n",
       "}}\n",
       "\n",
       "// Listen for the clearing of the current output cell\n",
       "var outputEl = gd.closest('.output');\n",
       "if (outputEl) {{\n",
       "    x.observe(outputEl, {childList: true});\n",
       "}}\n",
       "\n",
       "                        })                };                });            </script>        </div>"
      ]
     },
     "metadata": {},
     "output_type": "display_data"
    }
   ],
   "source": [
    "fig3 = px.bar(salaries.groupby([\"company_size\", \"experience_level\"]).mean().reset_index(),    \n",
    "               x = \"experience_level\",\n",
    "               y = \"salary_in_usd\",\n",
    "              color = \"company_size\",\n",
    "              text_auto='.2s',              \n",
    "              title = \"Global Average Salary (USD) Based on Experience Level & Company Size\")\n",
    "\n",
    "fig3.update_traces(textposition = \"outside\",\n",
    "                   hovertemplate = '<br>'.join([\n",
    "                       'Salary: %{y}'\n",
    "                   ]))\n",
    "fig3.update_layout(barmode = 'group',\n",
    "#                    xaxis = {'categoryorder' :'array','categoryarray' :['Small','Medium','Large']},\n",
    "                   title_font_color=\"#085CB0\",\n",
    "                   font_color=\"#085CB0\",\n",
    "                   yaxis_title=\"Salary (USD)\",\n",
    "                   xaxis_title=\"Experience Level\",\n",
    "                   legend_title = \"Company Sizes\",\n",
    "                   hovermode = \"x\",\n",
    "                   template = \"ggplot2\",\n",
    "                   legend_traceorder=\"reversed\")\n",
    "\n",
    "\n",
    "                   \n",
    "fig3.update_xaxes(categoryorder='array', \n",
    "                  categoryarray= [\"Entry-level / Junior\", \"Mid-level / Intermediate\", \"Senior-level / Expert\", \"Executive-level / Director\"])\n",
    "fig3.show()"
   ]
  },
  {
   "cell_type": "code",
   "execution_count": 16,
   "id": "2392cdf6",
   "metadata": {
    "execution": {
     "iopub.execute_input": "2022-08-28T09:59:21.238456Z",
     "iopub.status.busy": "2022-08-28T09:59:21.237656Z",
     "iopub.status.idle": "2022-08-28T09:59:21.383091Z",
     "shell.execute_reply": "2022-08-28T09:59:21.381868Z"
    },
    "papermill": {
     "duration": 0.165489,
     "end_time": "2022-08-28T09:59:21.385985",
     "exception": false,
     "start_time": "2022-08-28T09:59:21.220496",
     "status": "completed"
    },
    "tags": []
   },
   "outputs": [
    {
     "data": {
      "text/html": [
       "<div>                            <div id=\"e46118f8-86b7-410f-92ff-4cb83994e178\" class=\"plotly-graph-div\" style=\"height:525px; width:100%;\"></div>            <script type=\"text/javascript\">                require([\"plotly\"], function(Plotly) {                    window.PLOTLYENV=window.PLOTLYENV || {};                                    if (document.getElementById(\"e46118f8-86b7-410f-92ff-4cb83994e178\")) {                    Plotly.newPlot(                        \"e46118f8-86b7-410f-92ff-4cb83994e178\",                        [{\"hovertemplate\":\"company_size=Large<br>salary_in_usd=%{marker.size}<br>experience_level=%{y}<extra></extra>\",\"legendgroup\":\"Large\",\"marker\":{\"color\":\"rgb(76,114,176)\",\"size\":[79833,150000,72000,35735,135000,40481,87000,85000,8000,6072,47899,115000,325000,42000,100000,117104,70000,68428,46759,74130,103000,250000,79833,106000,112872,188000,105000,70139,91000,54742,120000,110000,412000,82528,150000,235000,53192,270000,79197,140000,54238,153667,28476,110000,170000,88654,19609,276000,29751,89294,450000,75000,150000,36259,62000,73000,51519,187442,30428,94564,45391,225000,50000,200000,110037,151000,40570,220000,135000,240000,150000,100000,90000,153000,75774,13400,144000,127221,423000,230000,28369,63831,165000,80000,250000,150000,170000,82528,235000,60757,174000,40038,22611,90734,26005,61896,152000,174000,96113,147000,24342,54094,37825,160000,200000,20000,120000,24823,5882,185000,90734,140000,46597,116914,56256,225000,88654,135000,16228,200000,200000,180000,103691,80000,110000,165000,72212,36643,96282,115000,600000,93000,200000,185000,141846,130000,63831,66265,72500,76833,58000,55000,20171,59102,112000,100000,69741,69999,94665,102839,109000,51064,180000,120000,113000,160000,79039,37300,215300,158200,209100,154600,183600,60000,160000,112300,100800,140400,215300,209100,154600,21983,196979,37236,31615,58255,100000,54957,144000,35590,93427,52396,62651,40000,87425,75000,64849,120000,157000,70912,122346,380000,405000,135000,177000,205300,140400,200000],\"sizemode\":\"area\",\"sizeref\":1500.0,\"symbol\":\"circle\"},\"mode\":\"markers\",\"name\":\"Large\",\"orientation\":\"h\",\"showlegend\":true,\"x\":[79833,150000,72000,35735,135000,40481,87000,85000,8000,6072,47899,115000,325000,42000,100000,117104,70000,68428,46759,74130,103000,250000,79833,106000,112872,188000,105000,70139,91000,54742,120000,110000,412000,82528,150000,235000,53192,270000,79197,140000,54238,153667,28476,110000,170000,88654,19609,276000,29751,89294,450000,75000,150000,36259,62000,73000,51519,187442,30428,94564,45391,225000,50000,200000,110037,151000,40570,220000,135000,240000,150000,100000,90000,153000,75774,13400,144000,127221,423000,230000,28369,63831,165000,80000,250000,150000,170000,82528,235000,60757,174000,40038,22611,90734,26005,61896,152000,174000,96113,147000,24342,54094,37825,160000,200000,20000,120000,24823,5882,185000,90734,140000,46597,116914,56256,225000,88654,135000,16228,200000,200000,180000,103691,80000,110000,165000,72212,36643,96282,115000,600000,93000,200000,185000,141846,130000,63831,66265,72500,76833,58000,55000,20171,59102,112000,100000,69741,69999,94665,102839,109000,51064,180000,120000,113000,160000,79039,37300,215300,158200,209100,154600,183600,60000,160000,112300,100800,140400,215300,209100,154600,21983,196979,37236,31615,58255,100000,54957,144000,35590,93427,52396,62651,40000,87425,75000,64849,120000,157000,70912,122346,380000,405000,135000,177000,205300,140400,200000],\"xaxis\":\"x\",\"y\":[\"Mid-level / Intermediate\",\"Senior-level / Expert\",\"Entry-level / Junior\",\"Mid-level / Intermediate\",\"Mid-level / Intermediate\",\"Mid-level / Intermediate\",\"Mid-level / Intermediate\",\"Mid-level / Intermediate\",\"Mid-level / Intermediate\",\"Mid-level / Intermediate\",\"Senior-level / Expert\",\"Mid-level / Intermediate\",\"Executive-level / Director\",\"Entry-level / Junior\",\"Entry-level / Junior\",\"Senior-level / Expert\",\"Entry-level / Junior\",\"Senior-level / Expert\",\"Mid-level / Intermediate\",\"Mid-level / Intermediate\",\"Mid-level / Intermediate\",\"Entry-level / Junior\",\"Executive-level / Director\",\"Mid-level / Intermediate\",\"Mid-level / Intermediate\",\"Senior-level / Expert\",\"Mid-level / Intermediate\",\"Mid-level / Intermediate\",\"Entry-level / Junior\",\"Entry-level / Junior\",\"Senior-level / Expert\",\"Mid-level / Intermediate\",\"Senior-level / Expert\",\"Entry-level / Junior\",\"Executive-level / Director\",\"Executive-level / Director\",\"Senior-level / Expert\",\"Mid-level / Intermediate\",\"Senior-level / Expert\",\"Mid-level / Intermediate\",\"Mid-level / Intermediate\",\"Executive-level / Director\",\"Mid-level / Intermediate\",\"Mid-level / Intermediate\",\"Senior-level / Expert\",\"Senior-level / Expert\",\"Mid-level / Intermediate\",\"Senior-level / Expert\",\"Entry-level / Junior\",\"Mid-level / Intermediate\",\"Mid-level / Intermediate\",\"Mid-level / Intermediate\",\"Senior-level / Expert\",\"Mid-level / Intermediate\",\"Mid-level / Intermediate\",\"Mid-level / Intermediate\",\"Mid-level / Intermediate\",\"Mid-level / Intermediate\",\"Entry-level / Junior\",\"Senior-level / Expert\",\"Mid-level / Intermediate\",\"Entry-level / Junior\",\"Mid-level / Intermediate\",\"Mid-level / Intermediate\",\"Entry-level / Junior\",\"Mid-level / Intermediate\",\"Senior-level / Expert\",\"Senior-level / Expert\",\"Mid-level / Intermediate\",\"Senior-level / Expert\",\"Senior-level / Expert\",\"Mid-level / Intermediate\",\"Mid-level / Intermediate\",\"Senior-level / Expert\",\"Mid-level / Intermediate\",\"Entry-level / Junior\",\"Senior-level / Expert\",\"Senior-level / Expert\",\"Mid-level / Intermediate\",\"Executive-level / Director\",\"Mid-level / Intermediate\",\"Entry-level / Junior\",\"Senior-level / Expert\",\"Entry-level / Junior\",\"Executive-level / Director\",\"Mid-level / Intermediate\",\"Mid-level / Intermediate\",\"Mid-level / Intermediate\",\"Senior-level / Expert\",\"Senior-level / Expert\",\"Senior-level / Expert\",\"Mid-level / Intermediate\",\"Mid-level / Intermediate\",\"Mid-level / Intermediate\",\"Mid-level / Intermediate\",\"Senior-level / Expert\",\"Senior-level / Expert\",\"Senior-level / Expert\",\"Senior-level / Expert\",\"Mid-level / Intermediate\",\"Senior-level / Expert\",\"Senior-level / Expert\",\"Mid-level / Intermediate\",\"Mid-level / Intermediate\",\"Senior-level / Expert\",\"Mid-level / Intermediate\",\"Senior-level / Expert\",\"Mid-level / Intermediate\",\"Entry-level / Junior\",\"Senior-level / Expert\",\"Mid-level / Intermediate\",\"Senior-level / Expert\",\"Mid-level / Intermediate\",\"Mid-level / Intermediate\",\"Mid-level / Intermediate\",\"Senior-level / Expert\",\"Mid-level / Intermediate\",\"Senior-level / Expert\",\"Entry-level / Junior\",\"Senior-level / Expert\",\"Senior-level / Expert\",\"Mid-level / Intermediate\",\"Senior-level / Expert\",\"Mid-level / Intermediate\",\"Mid-level / Intermediate\",\"Senior-level / Expert\",\"Mid-level / Intermediate\",\"Entry-level / Junior\",\"Senior-level / Expert\",\"Mid-level / Intermediate\",\"Executive-level / Director\",\"Mid-level / Intermediate\",\"Mid-level / Intermediate\",\"Senior-level / Expert\",\"Executive-level / Director\",\"Mid-level / Intermediate\",\"Senior-level / Expert\",\"Senior-level / Expert\",\"Entry-level / Junior\",\"Entry-level / Junior\",\"Entry-level / Junior\",\"Senior-level / Expert\",\"Senior-level / Expert\",\"Entry-level / Junior\",\"Mid-level / Intermediate\",\"Entry-level / Junior\",\"Mid-level / Intermediate\",\"Mid-level / Intermediate\",\"Senior-level / Expert\",\"Senior-level / Expert\",\"Mid-level / Intermediate\",\"Mid-level / Intermediate\",\"Senior-level / Expert\",\"Senior-level / Expert\",\"Senior-level / Expert\",\"Senior-level / Expert\",\"Executive-level / Director\",\"Entry-level / Junior\",\"Senior-level / Expert\",\"Senior-level / Expert\",\"Senior-level / Expert\",\"Senior-level / Expert\",\"Senior-level / Expert\",\"Senior-level / Expert\",\"Mid-level / Intermediate\",\"Mid-level / Intermediate\",\"Senior-level / Expert\",\"Senior-level / Expert\",\"Senior-level / Expert\",\"Senior-level / Expert\",\"Senior-level / Expert\",\"Entry-level / Junior\",\"Executive-level / Director\",\"Mid-level / Intermediate\",\"Mid-level / Intermediate\",\"Mid-level / Intermediate\",\"Entry-level / Junior\",\"Mid-level / Intermediate\",\"Senior-level / Expert\",\"Mid-level / Intermediate\",\"Senior-level / Expert\",\"Entry-level / Junior\",\"Senior-level / Expert\",\"Entry-level / Junior\",\"Mid-level / Intermediate\",\"Mid-level / Intermediate\",\"Mid-level / Intermediate\",\"Entry-level / Junior\",\"Mid-level / Intermediate\",\"Mid-level / Intermediate\",\"Mid-level / Intermediate\",\"Senior-level / Expert\",\"Senior-level / Expert\",\"Mid-level / Intermediate\",\"Senior-level / Expert\",\"Senior-level / Expert\",\"Senior-level / Expert\",\"Mid-level / Intermediate\"],\"yaxis\":\"y\",\"type\":\"scatter\"},{\"hovertemplate\":\"company_size=Small<br>salary_in_usd=%{marker.size}<br>experience_level=%{y}<extra></extra>\",\"legendgroup\":\"Small\",\"marker\":{\"color\":\"rgb(221,132,82)\",\"size\":[260000,20000,190000,125000,51321,41689,114047,33511,59303,10000,138000,45760,15966,76958,6072,45896,60000,21669,45618,62726,49268,105000,91237,62726,42197,47282,80000,76833,12000,95746,115000,103160,90000,120000,9466,20000,100000,100000,63711,77364,82500,160000,168000,125000,55000,60000,2859,81000,5679,69741,76833,74000,18000,9272,90000,50000,12901,56738,66022,28609,416000,87738,256000,110000,18053,90000,16904,25532,160000,85000,58000,118187,58000,120000,120000,65000,75000,32974,150000,65000,71444,48000,20000],\"sizemode\":\"area\",\"sizeref\":1500.0,\"symbol\":\"circle\"},\"mode\":\"markers\",\"name\":\"Small\",\"orientation\":\"h\",\"showlegend\":true,\"x\":[260000,20000,190000,125000,51321,41689,114047,33511,59303,10000,138000,45760,15966,76958,6072,45896,60000,21669,45618,62726,49268,105000,91237,62726,42197,47282,80000,76833,12000,95746,115000,103160,90000,120000,9466,20000,100000,100000,63711,77364,82500,160000,168000,125000,55000,60000,2859,81000,5679,69741,76833,74000,18000,9272,90000,50000,12901,56738,66022,28609,416000,87738,256000,110000,18053,90000,16904,25532,160000,85000,58000,118187,58000,120000,120000,65000,75000,32974,150000,65000,71444,48000,20000],\"xaxis\":\"x\",\"y\":[\"Senior-level / Expert\",\"Mid-level / Intermediate\",\"Senior-level / Expert\",\"Senior-level / Expert\",\"Entry-level / Junior\",\"Entry-level / Junior\",\"Senior-level / Expert\",\"Senior-level / Expert\",\"Mid-level / Intermediate\",\"Entry-level / Junior\",\"Entry-level / Junior\",\"Mid-level / Intermediate\",\"Entry-level / Junior\",\"Mid-level / Intermediate\",\"Entry-level / Junior\",\"Entry-level / Junior\",\"Senior-level / Expert\",\"Entry-level / Junior\",\"Senior-level / Expert\",\"Entry-level / Junior\",\"Entry-level / Junior\",\"Entry-level / Junior\",\"Senior-level / Expert\",\"Mid-level / Intermediate\",\"Mid-level / Intermediate\",\"Mid-level / Intermediate\",\"Senior-level / Expert\",\"Entry-level / Junior\",\"Entry-level / Junior\",\"Mid-level / Intermediate\",\"Senior-level / Expert\",\"Senior-level / Expert\",\"Entry-level / Junior\",\"Senior-level / Expert\",\"Mid-level / Intermediate\",\"Entry-level / Junior\",\"Entry-level / Junior\",\"Entry-level / Junior\",\"Mid-level / Intermediate\",\"Mid-level / Intermediate\",\"Mid-level / Intermediate\",\"Senior-level / Expert\",\"Senior-level / Expert\",\"Entry-level / Junior\",\"Entry-level / Junior\",\"Entry-level / Junior\",\"Mid-level / Intermediate\",\"Entry-level / Junior\",\"Mid-level / Intermediate\",\"Executive-level / Director\",\"Senior-level / Expert\",\"Mid-level / Intermediate\",\"Mid-level / Intermediate\",\"Entry-level / Junior\",\"Entry-level / Junior\",\"Senior-level / Expert\",\"Mid-level / Intermediate\",\"Mid-level / Intermediate\",\"Mid-level / Intermediate\",\"Entry-level / Junior\",\"Executive-level / Director\",\"Senior-level / Expert\",\"Senior-level / Expert\",\"Mid-level / Intermediate\",\"Entry-level / Junior\",\"Entry-level / Junior\",\"Mid-level / Intermediate\",\"Mid-level / Intermediate\",\"Senior-level / Expert\",\"Entry-level / Junior\",\"Mid-level / Intermediate\",\"Executive-level / Director\",\"Mid-level / Intermediate\",\"Mid-level / Intermediate\",\"Senior-level / Expert\",\"Senior-level / Expert\",\"Mid-level / Intermediate\",\"Mid-level / Intermediate\",\"Entry-level / Junior\",\"Entry-level / Junior\",\"Senior-level / Expert\",\"Mid-level / Intermediate\",\"Mid-level / Intermediate\"],\"yaxis\":\"y\",\"type\":\"scatter\"},{\"hovertemplate\":\"company_size=Medium<br>salary_in_usd=%{marker.size}<br>experience_level=%{y}<extra></extra>\",\"legendgroup\":\"Medium\",\"marker\":{\"color\":\"rgb(85,168,104)\",\"size\":[109024,39916,5707,56000,43331,98000,450000,50180,148261,38776,118000,138350,130800,190200,100000,5409,80000,59102,70000,150000,113476,12000,40189,60000,200000,50000,10354,49646,38400,24000,90000,80000,82744,62649,150000,119059,120000,85000,130026,12000,4000,50000,21844,61467,195000,165000,24823,88654,33808,71786,63810,46809,4000,21637,12103,170000,28399,99703,173762,93150,111775,28016,65013,18907,77684,100000,105000,135000,155000,120600,130000,90000,170000,150000,102100,84900,136620,99360,117789,104702,146000,123000,52351,99000,116000,106260,126500,242000,200000,65438,39263,78526,52351,165220,45807,120160,90320,181940,132320,220110,160080,124190,130000,110000,170000,115500,112900,90320,112900,90320,165400,132320,167000,243900,136600,109280,128875,93700,224000,167875,175000,156600,108800,95550,135000,161342,137141,167000,123000,78526,65438,150000,211500,192400,90700,130000,61300,130000,61300,138600,136000,135000,170000,123000,189650,164996,54957,54957,132000,165400,208775,147800,136994,101570,128875,93700,132320,164000,155000,124333,98158,120000,112900,90320,145000,105400,87932,117789,115934,81666,175000,98158,52351,180000,71982,45807,65949,49461,78526,58894,260000,63900,241000,159000,180000,80000,82900,49461,39263,43966,32974,87932,76940,104702,91614,65949,87932,189650,164996,43966,32974,98158,78526,76940,180000,80000,78791,125000,105000,87932,18442,18442,162674,120000,104890,100000,140000,135000,50000,220000,140000,183228,91614,185100,220000,200000,120000,324000,216000,210000,120000,230000,100000,100000,31875,200000,78791,100000,153000,58035,165000,115000,86703,20000,152500,68147,69336,10000,78000,135000,100000,90320,85000,75000,214000,192600,266400,213120,112900,155000,141300,102100,115934,81666,206699,99100,130000,115000,110500,130000,99050,160000,176000,144000,200100,160000,145000,70500,205300,140400,205300,184700,175100,140250,116150,54000,170000,65438,80000,140000,210000,140000,100000,69000,210000,140000,210000,150075,100000,25000,126500,106260,220110,160080,105000,110925,45807,140000,99000,60000,192564,144854,230000,150000,150260,109280,210000,170000,160000,130000,67000,52000,154000,126000,129000,150000],\"sizemode\":\"area\",\"sizeref\":1500.0,\"symbol\":\"circle\"},\"mode\":\"markers\",\"name\":\"Medium\",\"orientation\":\"h\",\"showlegend\":true,\"x\":[109024,39916,5707,56000,43331,98000,450000,50180,148261,38776,118000,138350,130800,190200,100000,5409,80000,59102,70000,150000,113476,12000,40189,60000,200000,50000,10354,49646,38400,24000,90000,80000,82744,62649,150000,119059,120000,85000,130026,12000,4000,50000,21844,61467,195000,165000,24823,88654,33808,71786,63810,46809,4000,21637,12103,170000,28399,99703,173762,93150,111775,28016,65013,18907,77684,100000,105000,135000,155000,120600,130000,90000,170000,150000,102100,84900,136620,99360,117789,104702,146000,123000,52351,99000,116000,106260,126500,242000,200000,65438,39263,78526,52351,165220,45807,120160,90320,181940,132320,220110,160080,124190,130000,110000,170000,115500,112900,90320,112900,90320,165400,132320,167000,243900,136600,109280,128875,93700,224000,167875,175000,156600,108800,95550,135000,161342,137141,167000,123000,78526,65438,150000,211500,192400,90700,130000,61300,130000,61300,138600,136000,135000,170000,123000,189650,164996,54957,54957,132000,165400,208775,147800,136994,101570,128875,93700,132320,164000,155000,124333,98158,120000,112900,90320,145000,105400,87932,117789,115934,81666,175000,98158,52351,180000,71982,45807,65949,49461,78526,58894,260000,63900,241000,159000,180000,80000,82900,49461,39263,43966,32974,87932,76940,104702,91614,65949,87932,189650,164996,43966,32974,98158,78526,76940,180000,80000,78791,125000,105000,87932,18442,18442,162674,120000,104890,100000,140000,135000,50000,220000,140000,183228,91614,185100,220000,200000,120000,324000,216000,210000,120000,230000,100000,100000,31875,200000,78791,100000,153000,58035,165000,115000,86703,20000,152500,68147,69336,10000,78000,135000,100000,90320,85000,75000,214000,192600,266400,213120,112900,155000,141300,102100,115934,81666,206699,99100,130000,115000,110500,130000,99050,160000,176000,144000,200100,160000,145000,70500,205300,140400,205300,184700,175100,140250,116150,54000,170000,65438,80000,140000,210000,140000,100000,69000,210000,140000,210000,150075,100000,25000,126500,106260,220110,160080,105000,110925,45807,140000,99000,60000,192564,144854,230000,150000,150260,109280,210000,170000,160000,130000,67000,52000,154000,126000,129000,150000],\"xaxis\":\"x\",\"y\":[\"Senior-level / Expert\",\"Entry-level / Junior\",\"Entry-level / Junior\",\"Mid-level / Intermediate\",\"Mid-level / Intermediate\",\"Mid-level / Intermediate\",\"Mid-level / Intermediate\",\"Mid-level / Intermediate\",\"Senior-level / Expert\",\"Mid-level / Intermediate\",\"Mid-level / Intermediate\",\"Mid-level / Intermediate\",\"Mid-level / Intermediate\",\"Senior-level / Expert\",\"Mid-level / Intermediate\",\"Mid-level / Intermediate\",\"Entry-level / Junior\",\"Entry-level / Junior\",\"Entry-level / Junior\",\"Senior-level / Expert\",\"Senior-level / Expert\",\"Entry-level / Junior\",\"Mid-level / Intermediate\",\"Mid-level / Intermediate\",\"Senior-level / Expert\",\"Entry-level / Junior\",\"Entry-level / Junior\",\"Entry-level / Junior\",\"Mid-level / Intermediate\",\"Senior-level / Expert\",\"Mid-level / Intermediate\",\"Entry-level / Junior\",\"Senior-level / Expert\",\"Mid-level / Intermediate\",\"Mid-level / Intermediate\",\"Mid-level / Intermediate\",\"Senior-level / Expert\",\"Executive-level / Director\",\"Executive-level / Director\",\"Mid-level / Intermediate\",\"Mid-level / Intermediate\",\"Senior-level / Expert\",\"Entry-level / Junior\",\"Mid-level / Intermediate\",\"Senior-level / Expert\",\"Senior-level / Expert\",\"Entry-level / Junior\",\"Mid-level / Intermediate\",\"Mid-level / Intermediate\",\"Senior-level / Expert\",\"Mid-level / Intermediate\",\"Mid-level / Intermediate\",\"Entry-level / Junior\",\"Entry-level / Junior\",\"Mid-level / Intermediate\",\"Senior-level / Expert\",\"Entry-level / Junior\",\"Senior-level / Expert\",\"Senior-level / Expert\",\"Mid-level / Intermediate\",\"Mid-level / Intermediate\",\"Mid-level / Intermediate\",\"Entry-level / Junior\",\"Senior-level / Expert\",\"Senior-level / Expert\",\"Entry-level / Junior\",\"Senior-level / Expert\",\"Senior-level / Expert\",\"Senior-level / Expert\",\"Senior-level / Expert\",\"Mid-level / Intermediate\",\"Mid-level / Intermediate\",\"Mid-level / Intermediate\",\"Mid-level / Intermediate\",\"Senior-level / Expert\",\"Senior-level / Expert\",\"Senior-level / Expert\",\"Senior-level / Expert\",\"Senior-level / Expert\",\"Senior-level / Expert\",\"Senior-level / Expert\",\"Senior-level / Expert\",\"Entry-level / Junior\",\"Senior-level / Expert\",\"Senior-level / Expert\",\"Mid-level / Intermediate\",\"Mid-level / Intermediate\",\"Executive-level / Director\",\"Executive-level / Director\",\"Mid-level / Intermediate\",\"Mid-level / Intermediate\",\"Mid-level / Intermediate\",\"Mid-level / Intermediate\",\"Senior-level / Expert\",\"Entry-level / Junior\",\"Senior-level / Expert\",\"Senior-level / Expert\",\"Senior-level / Expert\",\"Senior-level / Expert\",\"Senior-level / Expert\",\"Senior-level / Expert\",\"Senior-level / Expert\",\"Executive-level / Director\",\"Executive-level / Director\",\"Senior-level / Expert\",\"Mid-level / Intermediate\",\"Senior-level / Expert\",\"Senior-level / Expert\",\"Senior-level / Expert\",\"Senior-level / Expert\",\"Senior-level / Expert\",\"Senior-level / Expert\",\"Mid-level / Intermediate\",\"Senior-level / Expert\",\"Senior-level / Expert\",\"Senior-level / Expert\",\"Senior-level / Expert\",\"Senior-level / Expert\",\"Executive-level / Director\",\"Executive-level / Director\",\"Executive-level / Director\",\"Senior-level / Expert\",\"Senior-level / Expert\",\"Senior-level / Expert\",\"Senior-level / Expert\",\"Senior-level / Expert\",\"Senior-level / Expert\",\"Senior-level / Expert\",\"Senior-level / Expert\",\"Senior-level / Expert\",\"Senior-level / Expert\",\"Senior-level / Expert\",\"Senior-level / Expert\",\"Senior-level / Expert\",\"Senior-level / Expert\",\"Senior-level / Expert\",\"Senior-level / Expert\",\"Senior-level / Expert\",\"Senior-level / Expert\",\"Senior-level / Expert\",\"Senior-level / Expert\",\"Executive-level / Director\",\"Senior-level / Expert\",\"Senior-level / Expert\",\"Senior-level / Expert\",\"Senior-level / Expert\",\"Mid-level / Intermediate\",\"Mid-level / Intermediate\",\"Senior-level / Expert\",\"Senior-level / Expert\",\"Senior-level / Expert\",\"Senior-level / Expert\",\"Senior-level / Expert\",\"Senior-level / Expert\",\"Senior-level / Expert\",\"Senior-level / Expert\",\"Senior-level / Expert\",\"Senior-level / Expert\",\"Senior-level / Expert\",\"Mid-level / Intermediate\",\"Mid-level / Intermediate\",\"Mid-level / Intermediate\",\"Senior-level / Expert\",\"Senior-level / Expert\",\"Senior-level / Expert\",\"Senior-level / Expert\",\"Mid-level / Intermediate\",\"Mid-level / Intermediate\",\"Senior-level / Expert\",\"Senior-level / Expert\",\"Senior-level / Expert\",\"Mid-level / Intermediate\",\"Mid-level / Intermediate\",\"Senior-level / Expert\",\"Mid-level / Intermediate\",\"Mid-level / Intermediate\",\"Mid-level / Intermediate\",\"Mid-level / Intermediate\",\"Mid-level / Intermediate\",\"Mid-level / Intermediate\",\"Senior-level / Expert\",\"Mid-level / Intermediate\",\"Mid-level / Intermediate\",\"Mid-level / Intermediate\",\"Senior-level / Expert\",\"Senior-level / Expert\",\"Mid-level / Intermediate\",\"Mid-level / Intermediate\",\"Mid-level / Intermediate\",\"Mid-level / Intermediate\",\"Mid-level / Intermediate\",\"Mid-level / Intermediate\",\"Mid-level / Intermediate\",\"Mid-level / Intermediate\",\"Mid-level / Intermediate\",\"Mid-level / Intermediate\",\"Mid-level / Intermediate\",\"Senior-level / Expert\",\"Senior-level / Expert\",\"Mid-level / Intermediate\",\"Mid-level / Intermediate\",\"Mid-level / Intermediate\",\"Mid-level / Intermediate\",\"Mid-level / Intermediate\",\"Senior-level / Expert\",\"Senior-level / Expert\",\"Mid-level / Intermediate\",\"Entry-level / Junior\",\"Senior-level / Expert\",\"Senior-level / Expert\",\"Mid-level / Intermediate\",\"Entry-level / Junior\",\"Senior-level / Expert\",\"Entry-level / Junior\",\"Senior-level / Expert\",\"Senior-level / Expert\",\"Senior-level / Expert\",\"Mid-level / Intermediate\",\"Mid-level / Intermediate\",\"Senior-level / Expert\",\"Senior-level / Expert\",\"Mid-level / Intermediate\",\"Mid-level / Intermediate\",\"Senior-level / Expert\",\"Senior-level / Expert\",\"Mid-level / Intermediate\",\"Mid-level / Intermediate\",\"Executive-level / Director\",\"Executive-level / Director\",\"Senior-level / Expert\",\"Senior-level / Expert\",\"Senior-level / Expert\",\"Entry-level / Junior\",\"Mid-level / Intermediate\",\"Entry-level / Junior\",\"Senior-level / Expert\",\"Senior-level / Expert\",\"Senior-level / Expert\",\"Mid-level / Intermediate\",\"Entry-level / Junior\",\"Senior-level / Expert\",\"Senior-level / Expert\",\"Entry-level / Junior\",\"Entry-level / Junior\",\"Senior-level / Expert\",\"Mid-level / Intermediate\",\"Mid-level / Intermediate\",\"Entry-level / Junior\",\"Mid-level / Intermediate\",\"Senior-level / Expert\",\"Senior-level / Expert\",\"Senior-level / Expert\",\"Mid-level / Intermediate\",\"Mid-level / Intermediate\",\"Senior-level / Expert\",\"Senior-level / Expert\",\"Senior-level / Expert\",\"Senior-level / Expert\",\"Senior-level / Expert\",\"Senior-level / Expert\",\"Mid-level / Intermediate\",\"Mid-level / Intermediate\",\"Senior-level / Expert\",\"Senior-level / Expert\",\"Mid-level / Intermediate\",\"Mid-level / Intermediate\",\"Senior-level / Expert\",\"Senior-level / Expert\",\"Senior-level / Expert\",\"Senior-level / Expert\",\"Senior-level / Expert\",\"Senior-level / Expert\",\"Senior-level / Expert\",\"Senior-level / Expert\",\"Senior-level / Expert\",\"Senior-level / Expert\",\"Senior-level / Expert\",\"Senior-level / Expert\",\"Senior-level / Expert\",\"Senior-level / Expert\",\"Senior-level / Expert\",\"Senior-level / Expert\",\"Senior-level / Expert\",\"Senior-level / Expert\",\"Senior-level / Expert\",\"Senior-level / Expert\",\"Senior-level / Expert\",\"Mid-level / Intermediate\",\"Senior-level / Expert\",\"Senior-level / Expert\",\"Senior-level / Expert\",\"Senior-level / Expert\",\"Senior-level / Expert\",\"Senior-level / Expert\",\"Senior-level / Expert\",\"Senior-level / Expert\",\"Senior-level / Expert\",\"Senior-level / Expert\",\"Senior-level / Expert\",\"Senior-level / Expert\",\"Senior-level / Expert\",\"Senior-level / Expert\",\"Senior-level / Expert\",\"Senior-level / Expert\",\"Senior-level / Expert\",\"Senior-level / Expert\",\"Mid-level / Intermediate\",\"Senior-level / Expert\",\"Senior-level / Expert\",\"Senior-level / Expert\",\"Senior-level / Expert\",\"Senior-level / Expert\",\"Senior-level / Expert\",\"Senior-level / Expert\",\"Senior-level / Expert\",\"Senior-level / Expert\",\"Senior-level / Expert\",\"Senior-level / Expert\",\"Mid-level / Intermediate\",\"Mid-level / Intermediate\",\"Entry-level / Junior\",\"Entry-level / Junior\",\"Senior-level / Expert\",\"Senior-level / Expert\",\"Senior-level / Expert\",\"Senior-level / Expert\"],\"yaxis\":\"y\",\"type\":\"scatter\"}],                        {\"template\":{\"data\":{\"barpolar\":[{\"marker\":{\"line\":{\"color\":\"rgb(234,234,242)\",\"width\":0.5},\"pattern\":{\"fillmode\":\"overlay\",\"size\":10,\"solidity\":0.2}},\"type\":\"barpolar\"}],\"bar\":[{\"error_x\":{\"color\":\"rgb(36,36,36)\"},\"error_y\":{\"color\":\"rgb(36,36,36)\"},\"marker\":{\"line\":{\"color\":\"rgb(234,234,242)\",\"width\":0.5},\"pattern\":{\"fillmode\":\"overlay\",\"size\":10,\"solidity\":0.2}},\"type\":\"bar\"}],\"carpet\":[{\"aaxis\":{\"endlinecolor\":\"rgb(36,36,36)\",\"gridcolor\":\"white\",\"linecolor\":\"white\",\"minorgridcolor\":\"white\",\"startlinecolor\":\"rgb(36,36,36)\"},\"baxis\":{\"endlinecolor\":\"rgb(36,36,36)\",\"gridcolor\":\"white\",\"linecolor\":\"white\",\"minorgridcolor\":\"white\",\"startlinecolor\":\"rgb(36,36,36)\"},\"type\":\"carpet\"}],\"choropleth\":[{\"colorbar\":{\"outlinewidth\":0,\"tickcolor\":\"rgb(36,36,36)\",\"ticklen\":8,\"ticks\":\"outside\",\"tickwidth\":2},\"type\":\"choropleth\"}],\"contourcarpet\":[{\"colorbar\":{\"outlinewidth\":0,\"tickcolor\":\"rgb(36,36,36)\",\"ticklen\":8,\"ticks\":\"outside\",\"tickwidth\":2},\"type\":\"contourcarpet\"}],\"contour\":[{\"colorbar\":{\"outlinewidth\":0,\"tickcolor\":\"rgb(36,36,36)\",\"ticklen\":8,\"ticks\":\"outside\",\"tickwidth\":2},\"colorscale\":[[0.0,\"rgb(2,4,25)\"],[0.06274509803921569,\"rgb(24,15,41)\"],[0.12549019607843137,\"rgb(47,23,57)\"],[0.18823529411764706,\"rgb(71,28,72)\"],[0.25098039215686274,\"rgb(97,30,82)\"],[0.3137254901960784,\"rgb(123,30,89)\"],[0.3764705882352941,\"rgb(150,27,91)\"],[0.4392156862745098,\"rgb(177,22,88)\"],[0.5019607843137255,\"rgb(203,26,79)\"],[0.5647058823529412,\"rgb(223,47,67)\"],[0.6274509803921569,\"rgb(236,76,61)\"],[0.6901960784313725,\"rgb(242,107,73)\"],[0.7529411764705882,\"rgb(244,135,95)\"],[0.8156862745098039,\"rgb(245,162,122)\"],[0.8784313725490196,\"rgb(246,188,153)\"],[0.9411764705882353,\"rgb(247,212,187)\"],[1.0,\"rgb(250,234,220)\"]],\"type\":\"contour\"}],\"heatmapgl\":[{\"colorbar\":{\"outlinewidth\":0,\"tickcolor\":\"rgb(36,36,36)\",\"ticklen\":8,\"ticks\":\"outside\",\"tickwidth\":2},\"colorscale\":[[0.0,\"rgb(2,4,25)\"],[0.06274509803921569,\"rgb(24,15,41)\"],[0.12549019607843137,\"rgb(47,23,57)\"],[0.18823529411764706,\"rgb(71,28,72)\"],[0.25098039215686274,\"rgb(97,30,82)\"],[0.3137254901960784,\"rgb(123,30,89)\"],[0.3764705882352941,\"rgb(150,27,91)\"],[0.4392156862745098,\"rgb(177,22,88)\"],[0.5019607843137255,\"rgb(203,26,79)\"],[0.5647058823529412,\"rgb(223,47,67)\"],[0.6274509803921569,\"rgb(236,76,61)\"],[0.6901960784313725,\"rgb(242,107,73)\"],[0.7529411764705882,\"rgb(244,135,95)\"],[0.8156862745098039,\"rgb(245,162,122)\"],[0.8784313725490196,\"rgb(246,188,153)\"],[0.9411764705882353,\"rgb(247,212,187)\"],[1.0,\"rgb(250,234,220)\"]],\"type\":\"heatmapgl\"}],\"heatmap\":[{\"colorbar\":{\"outlinewidth\":0,\"tickcolor\":\"rgb(36,36,36)\",\"ticklen\":8,\"ticks\":\"outside\",\"tickwidth\":2},\"colorscale\":[[0.0,\"rgb(2,4,25)\"],[0.06274509803921569,\"rgb(24,15,41)\"],[0.12549019607843137,\"rgb(47,23,57)\"],[0.18823529411764706,\"rgb(71,28,72)\"],[0.25098039215686274,\"rgb(97,30,82)\"],[0.3137254901960784,\"rgb(123,30,89)\"],[0.3764705882352941,\"rgb(150,27,91)\"],[0.4392156862745098,\"rgb(177,22,88)\"],[0.5019607843137255,\"rgb(203,26,79)\"],[0.5647058823529412,\"rgb(223,47,67)\"],[0.6274509803921569,\"rgb(236,76,61)\"],[0.6901960784313725,\"rgb(242,107,73)\"],[0.7529411764705882,\"rgb(244,135,95)\"],[0.8156862745098039,\"rgb(245,162,122)\"],[0.8784313725490196,\"rgb(246,188,153)\"],[0.9411764705882353,\"rgb(247,212,187)\"],[1.0,\"rgb(250,234,220)\"]],\"type\":\"heatmap\"}],\"histogram2dcontour\":[{\"colorbar\":{\"outlinewidth\":0,\"tickcolor\":\"rgb(36,36,36)\",\"ticklen\":8,\"ticks\":\"outside\",\"tickwidth\":2},\"colorscale\":[[0.0,\"rgb(2,4,25)\"],[0.06274509803921569,\"rgb(24,15,41)\"],[0.12549019607843137,\"rgb(47,23,57)\"],[0.18823529411764706,\"rgb(71,28,72)\"],[0.25098039215686274,\"rgb(97,30,82)\"],[0.3137254901960784,\"rgb(123,30,89)\"],[0.3764705882352941,\"rgb(150,27,91)\"],[0.4392156862745098,\"rgb(177,22,88)\"],[0.5019607843137255,\"rgb(203,26,79)\"],[0.5647058823529412,\"rgb(223,47,67)\"],[0.6274509803921569,\"rgb(236,76,61)\"],[0.6901960784313725,\"rgb(242,107,73)\"],[0.7529411764705882,\"rgb(244,135,95)\"],[0.8156862745098039,\"rgb(245,162,122)\"],[0.8784313725490196,\"rgb(246,188,153)\"],[0.9411764705882353,\"rgb(247,212,187)\"],[1.0,\"rgb(250,234,220)\"]],\"type\":\"histogram2dcontour\"}],\"histogram2d\":[{\"colorbar\":{\"outlinewidth\":0,\"tickcolor\":\"rgb(36,36,36)\",\"ticklen\":8,\"ticks\":\"outside\",\"tickwidth\":2},\"colorscale\":[[0.0,\"rgb(2,4,25)\"],[0.06274509803921569,\"rgb(24,15,41)\"],[0.12549019607843137,\"rgb(47,23,57)\"],[0.18823529411764706,\"rgb(71,28,72)\"],[0.25098039215686274,\"rgb(97,30,82)\"],[0.3137254901960784,\"rgb(123,30,89)\"],[0.3764705882352941,\"rgb(150,27,91)\"],[0.4392156862745098,\"rgb(177,22,88)\"],[0.5019607843137255,\"rgb(203,26,79)\"],[0.5647058823529412,\"rgb(223,47,67)\"],[0.6274509803921569,\"rgb(236,76,61)\"],[0.6901960784313725,\"rgb(242,107,73)\"],[0.7529411764705882,\"rgb(244,135,95)\"],[0.8156862745098039,\"rgb(245,162,122)\"],[0.8784313725490196,\"rgb(246,188,153)\"],[0.9411764705882353,\"rgb(247,212,187)\"],[1.0,\"rgb(250,234,220)\"]],\"type\":\"histogram2d\"}],\"histogram\":[{\"marker\":{\"pattern\":{\"fillmode\":\"overlay\",\"size\":10,\"solidity\":0.2}},\"type\":\"histogram\"}],\"mesh3d\":[{\"colorbar\":{\"outlinewidth\":0,\"tickcolor\":\"rgb(36,36,36)\",\"ticklen\":8,\"ticks\":\"outside\",\"tickwidth\":2},\"type\":\"mesh3d\"}],\"parcoords\":[{\"line\":{\"colorbar\":{\"outlinewidth\":0,\"tickcolor\":\"rgb(36,36,36)\",\"ticklen\":8,\"ticks\":\"outside\",\"tickwidth\":2}},\"type\":\"parcoords\"}],\"pie\":[{\"automargin\":true,\"type\":\"pie\"}],\"scatter3d\":[{\"line\":{\"colorbar\":{\"outlinewidth\":0,\"tickcolor\":\"rgb(36,36,36)\",\"ticklen\":8,\"ticks\":\"outside\",\"tickwidth\":2}},\"marker\":{\"colorbar\":{\"outlinewidth\":0,\"tickcolor\":\"rgb(36,36,36)\",\"ticklen\":8,\"ticks\":\"outside\",\"tickwidth\":2}},\"type\":\"scatter3d\"}],\"scattercarpet\":[{\"marker\":{\"colorbar\":{\"outlinewidth\":0,\"tickcolor\":\"rgb(36,36,36)\",\"ticklen\":8,\"ticks\":\"outside\",\"tickwidth\":2}},\"type\":\"scattercarpet\"}],\"scattergeo\":[{\"marker\":{\"colorbar\":{\"outlinewidth\":0,\"tickcolor\":\"rgb(36,36,36)\",\"ticklen\":8,\"ticks\":\"outside\",\"tickwidth\":2}},\"type\":\"scattergeo\"}],\"scattergl\":[{\"marker\":{\"colorbar\":{\"outlinewidth\":0,\"tickcolor\":\"rgb(36,36,36)\",\"ticklen\":8,\"ticks\":\"outside\",\"tickwidth\":2}},\"type\":\"scattergl\"}],\"scattermapbox\":[{\"marker\":{\"colorbar\":{\"outlinewidth\":0,\"tickcolor\":\"rgb(36,36,36)\",\"ticklen\":8,\"ticks\":\"outside\",\"tickwidth\":2}},\"type\":\"scattermapbox\"}],\"scatterpolargl\":[{\"marker\":{\"colorbar\":{\"outlinewidth\":0,\"tickcolor\":\"rgb(36,36,36)\",\"ticklen\":8,\"ticks\":\"outside\",\"tickwidth\":2}},\"type\":\"scatterpolargl\"}],\"scatterpolar\":[{\"marker\":{\"colorbar\":{\"outlinewidth\":0,\"tickcolor\":\"rgb(36,36,36)\",\"ticklen\":8,\"ticks\":\"outside\",\"tickwidth\":2}},\"type\":\"scatterpolar\"}],\"scatter\":[{\"fillpattern\":{\"fillmode\":\"overlay\",\"size\":10,\"solidity\":0.2},\"type\":\"scatter\"}],\"scatterternary\":[{\"marker\":{\"colorbar\":{\"outlinewidth\":0,\"tickcolor\":\"rgb(36,36,36)\",\"ticklen\":8,\"ticks\":\"outside\",\"tickwidth\":2}},\"type\":\"scatterternary\"}],\"surface\":[{\"colorbar\":{\"outlinewidth\":0,\"tickcolor\":\"rgb(36,36,36)\",\"ticklen\":8,\"ticks\":\"outside\",\"tickwidth\":2},\"colorscale\":[[0.0,\"rgb(2,4,25)\"],[0.06274509803921569,\"rgb(24,15,41)\"],[0.12549019607843137,\"rgb(47,23,57)\"],[0.18823529411764706,\"rgb(71,28,72)\"],[0.25098039215686274,\"rgb(97,30,82)\"],[0.3137254901960784,\"rgb(123,30,89)\"],[0.3764705882352941,\"rgb(150,27,91)\"],[0.4392156862745098,\"rgb(177,22,88)\"],[0.5019607843137255,\"rgb(203,26,79)\"],[0.5647058823529412,\"rgb(223,47,67)\"],[0.6274509803921569,\"rgb(236,76,61)\"],[0.6901960784313725,\"rgb(242,107,73)\"],[0.7529411764705882,\"rgb(244,135,95)\"],[0.8156862745098039,\"rgb(245,162,122)\"],[0.8784313725490196,\"rgb(246,188,153)\"],[0.9411764705882353,\"rgb(247,212,187)\"],[1.0,\"rgb(250,234,220)\"]],\"type\":\"surface\"}],\"table\":[{\"cells\":{\"fill\":{\"color\":\"rgb(231,231,240)\"},\"line\":{\"color\":\"white\"}},\"header\":{\"fill\":{\"color\":\"rgb(183,183,191)\"},\"line\":{\"color\":\"white\"}},\"type\":\"table\"}]},\"layout\":{\"annotationdefaults\":{\"arrowcolor\":\"rgb(67,103,167)\"},\"autotypenumbers\":\"strict\",\"coloraxis\":{\"colorbar\":{\"outlinewidth\":0,\"tickcolor\":\"rgb(36,36,36)\",\"ticklen\":8,\"ticks\":\"outside\",\"tickwidth\":2}},\"colorscale\":{\"sequential\":[[0.0,\"rgb(2,4,25)\"],[0.06274509803921569,\"rgb(24,15,41)\"],[0.12549019607843137,\"rgb(47,23,57)\"],[0.18823529411764706,\"rgb(71,28,72)\"],[0.25098039215686274,\"rgb(97,30,82)\"],[0.3137254901960784,\"rgb(123,30,89)\"],[0.3764705882352941,\"rgb(150,27,91)\"],[0.4392156862745098,\"rgb(177,22,88)\"],[0.5019607843137255,\"rgb(203,26,79)\"],[0.5647058823529412,\"rgb(223,47,67)\"],[0.6274509803921569,\"rgb(236,76,61)\"],[0.6901960784313725,\"rgb(242,107,73)\"],[0.7529411764705882,\"rgb(244,135,95)\"],[0.8156862745098039,\"rgb(245,162,122)\"],[0.8784313725490196,\"rgb(246,188,153)\"],[0.9411764705882353,\"rgb(247,212,187)\"],[1.0,\"rgb(250,234,220)\"]],\"sequentialminus\":[[0.0,\"rgb(2,4,25)\"],[0.06274509803921569,\"rgb(24,15,41)\"],[0.12549019607843137,\"rgb(47,23,57)\"],[0.18823529411764706,\"rgb(71,28,72)\"],[0.25098039215686274,\"rgb(97,30,82)\"],[0.3137254901960784,\"rgb(123,30,89)\"],[0.3764705882352941,\"rgb(150,27,91)\"],[0.4392156862745098,\"rgb(177,22,88)\"],[0.5019607843137255,\"rgb(203,26,79)\"],[0.5647058823529412,\"rgb(223,47,67)\"],[0.6274509803921569,\"rgb(236,76,61)\"],[0.6901960784313725,\"rgb(242,107,73)\"],[0.7529411764705882,\"rgb(244,135,95)\"],[0.8156862745098039,\"rgb(245,162,122)\"],[0.8784313725490196,\"rgb(246,188,153)\"],[0.9411764705882353,\"rgb(247,212,187)\"],[1.0,\"rgb(250,234,220)\"]]},\"colorway\":[\"rgb(76,114,176)\",\"rgb(221,132,82)\",\"rgb(85,168,104)\",\"rgb(196,78,82)\",\"rgb(129,114,179)\",\"rgb(147,120,96)\",\"rgb(218,139,195)\",\"rgb(140,140,140)\",\"rgb(204,185,116)\",\"rgb(100,181,205)\"],\"font\":{\"color\":\"rgb(36,36,36)\"},\"geo\":{\"bgcolor\":\"white\",\"lakecolor\":\"white\",\"landcolor\":\"rgb(234,234,242)\",\"showlakes\":true,\"showland\":true,\"subunitcolor\":\"white\"},\"hoverlabel\":{\"align\":\"left\"},\"hovermode\":\"closest\",\"paper_bgcolor\":\"white\",\"plot_bgcolor\":\"rgb(234,234,242)\",\"polar\":{\"angularaxis\":{\"gridcolor\":\"white\",\"linecolor\":\"white\",\"showgrid\":true,\"ticks\":\"\"},\"bgcolor\":\"rgb(234,234,242)\",\"radialaxis\":{\"gridcolor\":\"white\",\"linecolor\":\"white\",\"showgrid\":true,\"ticks\":\"\"}},\"scene\":{\"xaxis\":{\"backgroundcolor\":\"rgb(234,234,242)\",\"gridcolor\":\"white\",\"gridwidth\":2,\"linecolor\":\"white\",\"showbackground\":true,\"showgrid\":true,\"ticks\":\"\",\"zerolinecolor\":\"white\"},\"yaxis\":{\"backgroundcolor\":\"rgb(234,234,242)\",\"gridcolor\":\"white\",\"gridwidth\":2,\"linecolor\":\"white\",\"showbackground\":true,\"showgrid\":true,\"ticks\":\"\",\"zerolinecolor\":\"white\"},\"zaxis\":{\"backgroundcolor\":\"rgb(234,234,242)\",\"gridcolor\":\"white\",\"gridwidth\":2,\"linecolor\":\"white\",\"showbackground\":true,\"showgrid\":true,\"ticks\":\"\",\"zerolinecolor\":\"white\"}},\"shapedefaults\":{\"fillcolor\":\"rgb(67,103,167)\",\"line\":{\"width\":0},\"opacity\":0.5},\"ternary\":{\"aaxis\":{\"gridcolor\":\"white\",\"linecolor\":\"white\",\"showgrid\":true,\"ticks\":\"\"},\"baxis\":{\"gridcolor\":\"white\",\"linecolor\":\"white\",\"showgrid\":true,\"ticks\":\"\"},\"bgcolor\":\"rgb(234,234,242)\",\"caxis\":{\"gridcolor\":\"white\",\"linecolor\":\"white\",\"showgrid\":true,\"ticks\":\"\"}},\"xaxis\":{\"automargin\":true,\"gridcolor\":\"white\",\"linecolor\":\"white\",\"showgrid\":true,\"ticks\":\"\",\"title\":{\"standoff\":15},\"zerolinecolor\":\"white\"},\"yaxis\":{\"automargin\":true,\"gridcolor\":\"white\",\"linecolor\":\"white\",\"showgrid\":true,\"ticks\":\"\",\"title\":{\"standoff\":15},\"zerolinecolor\":\"white\"}}},\"xaxis\":{\"anchor\":\"y\",\"domain\":[0.0,1.0],\"title\":{\"text\":\"Salary (USD)\"}},\"yaxis\":{\"anchor\":\"x\",\"domain\":[0.0,1.0],\"title\":{\"text\":\"Experience Level\"},\"categoryorder\":\"array\",\"categoryarray\":[\"Entry-level / Junior\",\"Mid-level / Intermediate\",\"Senior-level / Expert\",\"Executive-level / Director\"]},\"legend\":{\"title\":{\"text\":\"Company Sizes:\"},\"tracegroupgap\":0,\"itemsizing\":\"constant\",\"traceorder\":\"grouped\",\"orientation\":\"h\"},\"title\":{\"text\":\"Salary Distribution Based On Experience Levels & Company Sizes\"},\"hovermode\":\"x\"},                        {\"responsive\": true}                    ).then(function(){\n",
       "                            \n",
       "var gd = document.getElementById('e46118f8-86b7-410f-92ff-4cb83994e178');\n",
       "var x = new MutationObserver(function (mutations, observer) {{\n",
       "        var display = window.getComputedStyle(gd).display;\n",
       "        if (!display || display === 'none') {{\n",
       "            console.log([gd, 'removed!']);\n",
       "            Plotly.purge(gd);\n",
       "            observer.disconnect();\n",
       "        }}\n",
       "}});\n",
       "\n",
       "// Listen for the removal of the full notebook cells\n",
       "var notebookContainer = gd.closest('#notebook-container');\n",
       "if (notebookContainer) {{\n",
       "    x.observe(notebookContainer, {childList: true});\n",
       "}}\n",
       "\n",
       "// Listen for the clearing of the current output cell\n",
       "var outputEl = gd.closest('.output');\n",
       "if (outputEl) {{\n",
       "    x.observe(outputEl, {childList: true});\n",
       "}}\n",
       "\n",
       "                        })                };                });            </script>        </div>"
      ]
     },
     "metadata": {},
     "output_type": "display_data"
    }
   ],
   "source": [
    "fig4 = px.scatter(salaries, x =\"salary_in_usd\", y= \"experience_level\", size = \"salary_in_usd\", color = \"company_size\",\n",
    "                  title = \"Salary Distribution Based On Experience Levels & Company Sizes\", template = \"seaborn\")\n",
    "fig4.update_layout(\n",
    "    yaxis_title=\"Experience Level\",\n",
    "    xaxis_title=\"Salary (USD)\",\n",
    "    legend_title = \"Company Sizes:\",\n",
    "    hovermode = \"x\",\n",
    "    legend_traceorder=\"grouped\",\n",
    "    legend=dict(\n",
    "    orientation=\"h\"))\n",
    "\n",
    "fig4.update_yaxes(categoryorder='array', \n",
    "                  categoryarray= [\"Entry-level / Junior\", \"Mid-level / Intermediate\", \"Senior-level / Expert\", \"Executive-level / Director\"])\n",
    "fig4.show()"
   ]
  },
  {
   "cell_type": "code",
   "execution_count": 17,
   "id": "ffc8a528",
   "metadata": {
    "execution": {
     "iopub.execute_input": "2022-08-28T09:59:21.420909Z",
     "iopub.status.busy": "2022-08-28T09:59:21.420113Z",
     "iopub.status.idle": "2022-08-28T09:59:21.608406Z",
     "shell.execute_reply": "2022-08-28T09:59:21.607238Z"
    },
    "papermill": {
     "duration": 0.208765,
     "end_time": "2022-08-28T09:59:21.611035",
     "exception": false,
     "start_time": "2022-08-28T09:59:21.402270",
     "status": "completed"
    },
    "tags": []
   },
   "outputs": [
    {
     "data": {
      "text/html": [
       "<div>                            <div id=\"f23f712c-bd59-4636-99a8-360d17b19fda\" class=\"plotly-graph-div\" style=\"height:525px; width:100%;\"></div>            <script type=\"text/javascript\">                require([\"plotly\"], function(Plotly) {                    window.PLOTLYENV=window.PLOTLYENV || {};                                    if (document.getElementById(\"f23f712c-bd59-4636-99a8-360d17b19fda\")) {                    Plotly.newPlot(                        \"f23f712c-bd59-4636-99a8-360d17b19fda\",                        [{\"alignmentgroup\":\"True\",\"hovertemplate\":\"experience_level=Mid-level / Intermediate<br>company_size=Large<br>salary_in_usd=%{y}<extra></extra>\",\"legendgroup\":\"Mid-level / Intermediate\",\"marker\":{\"color\":\"#636efa\"},\"name\":\"Mid-level / Intermediate\",\"notched\":false,\"offsetgroup\":\"Mid-level / Intermediate\",\"orientation\":\"v\",\"showlegend\":true,\"x0\":\" \",\"xaxis\":\"x\",\"y\":[79833,35735,135000,40481,87000,85000,8000,6072,115000,46759,74130,103000,106000,112872,105000,70139,110000,270000,140000,54238,28476,110000,19609,89294,450000,75000,36259,62000,73000,51519,187442,45391,50000,200000,151000,135000,100000,90000,75774,423000,28369,150000,170000,82528,40038,22611,90734,26005,147000,37825,160000,20000,24823,90734,46597,116914,56256,88654,180000,80000,110000,72212,115000,93000,200000,130000,112000,69741,69999,109000,51064,160000,112300,37236,31615,58255,54957,35590,87425,75000,64849,157000,70912,122346,135000,200000],\"y0\":\" \",\"yaxis\":\"y\",\"type\":\"box\"},{\"alignmentgroup\":\"True\",\"hovertemplate\":\"experience_level=Mid-level / Intermediate<br>company_size=Small<br>salary_in_usd=%{y}<extra></extra>\",\"legendgroup\":\"Mid-level / Intermediate\",\"marker\":{\"color\":\"#636efa\"},\"name\":\"Mid-level / Intermediate\",\"notched\":false,\"offsetgroup\":\"Mid-level / Intermediate\",\"orientation\":\"v\",\"showlegend\":false,\"x0\":\" \",\"xaxis\":\"x2\",\"y\":[20000,59303,45760,76958,62726,42197,47282,95746,9466,63711,77364,82500,2859,5679,74000,18000,12901,56738,66022,110000,16904,25532,58000,58000,120000,75000,32974,48000,20000],\"y0\":\" \",\"yaxis\":\"y2\",\"type\":\"box\"},{\"alignmentgroup\":\"True\",\"hovertemplate\":\"experience_level=Mid-level / Intermediate<br>company_size=Medium<br>salary_in_usd=%{y}<extra></extra>\",\"legendgroup\":\"Mid-level / Intermediate\",\"marker\":{\"color\":\"#636efa\"},\"name\":\"Mid-level / Intermediate\",\"notched\":false,\"offsetgroup\":\"Mid-level / Intermediate\",\"orientation\":\"v\",\"showlegend\":false,\"x0\":\" \",\"xaxis\":\"x3\",\"y\":[56000,43331,98000,450000,50180,38776,118000,138350,130800,100000,5409,40189,60000,38400,90000,62649,150000,119059,12000,4000,61467,88654,33808,63810,46809,12103,93150,111775,28016,130000,90000,170000,150000,106260,126500,65438,39263,78526,52351,115500,167000,54957,54957,124333,98158,120000,87932,117789,98158,52351,71982,45807,65949,49461,78526,58894,63900,241000,159000,82900,49461,39263,43966,32974,87932,76940,104702,91614,65949,87932,43966,32974,98158,78526,76940,78791,18442,135000,50000,183228,91614,200000,120000,100000,153000,68147,69336,78000,85000,75000,141300,102100,206699,99100,65438,45807,160000,130000],\"y0\":\" \",\"yaxis\":\"y3\",\"type\":\"box\"},{\"alignmentgroup\":\"True\",\"hovertemplate\":\"experience_level=Senior-level / Expert<br>company_size=Large<br>salary_in_usd=%{y}<extra></extra>\",\"legendgroup\":\"Senior-level / Expert\",\"marker\":{\"color\":\"#EF553B\"},\"name\":\"Senior-level / Expert\",\"notched\":false,\"offsetgroup\":\"Senior-level / Expert\",\"orientation\":\"v\",\"showlegend\":true,\"x0\":\" \",\"xaxis\":\"x\",\"y\":[150000,47899,117104,68428,188000,120000,412000,53192,79197,170000,88654,276000,150000,94564,40570,220000,240000,150000,153000,144000,127221,165000,235000,60757,174000,61896,152000,174000,96113,24342,54094,200000,120000,185000,140000,225000,135000,200000,200000,103691,165000,96282,185000,63831,66265,55000,20171,94665,102839,180000,120000,113000,160000,215300,158200,209100,154600,183600,60000,100800,140400,215300,209100,154600,144000,93427,62651,380000,405000,177000,205300,140400],\"y0\":\" \",\"yaxis\":\"y\",\"type\":\"box\"},{\"alignmentgroup\":\"True\",\"hovertemplate\":\"experience_level=Senior-level / Expert<br>company_size=Small<br>salary_in_usd=%{y}<extra></extra>\",\"legendgroup\":\"Senior-level / Expert\",\"marker\":{\"color\":\"#EF553B\"},\"name\":\"Senior-level / Expert\",\"notched\":false,\"offsetgroup\":\"Senior-level / Expert\",\"orientation\":\"v\",\"showlegend\":false,\"x0\":\" \",\"xaxis\":\"x2\",\"y\":[260000,190000,125000,114047,33511,60000,45618,91237,80000,115000,103160,120000,160000,168000,76833,50000,87738,256000,160000,120000,65000,71444],\"y0\":\" \",\"yaxis\":\"y2\",\"type\":\"box\"},{\"alignmentgroup\":\"True\",\"hovertemplate\":\"experience_level=Senior-level / Expert<br>company_size=Medium<br>salary_in_usd=%{y}<extra></extra>\",\"legendgroup\":\"Senior-level / Expert\",\"marker\":{\"color\":\"#EF553B\"},\"name\":\"Senior-level / Expert\",\"notched\":false,\"offsetgroup\":\"Senior-level / Expert\",\"orientation\":\"v\",\"showlegend\":false,\"x0\":\" \",\"xaxis\":\"x3\",\"y\":[109024,148261,190200,150000,113476,200000,24000,82744,120000,50000,195000,165000,71786,170000,99703,173762,18907,77684,105000,135000,155000,120600,102100,84900,136620,99360,117789,104702,146000,123000,99000,116000,165220,120160,90320,181940,132320,220110,160080,124190,170000,112900,90320,112900,90320,165400,132320,243900,136600,109280,128875,93700,156600,108800,95550,135000,161342,137141,167000,123000,78526,65438,150000,211500,192400,90700,130000,61300,130000,61300,138600,136000,170000,123000,189650,164996,132000,165400,208775,147800,136994,101570,128875,93700,132320,164000,155000,112900,90320,145000,105400,115934,81666,175000,180000,260000,180000,80000,189650,164996,180000,80000,105000,87932,162674,104890,100000,140000,220000,140000,185100,220000,210000,120000,230000,200000,78791,100000,165000,115000,152500,135000,100000,90320,214000,192600,266400,213120,112900,155000,115934,81666,130000,115000,110500,130000,99050,160000,176000,144000,200100,160000,145000,70500,205300,140400,205300,184700,175100,140250,116150,54000,170000,80000,140000,210000,140000,100000,69000,210000,140000,210000,150075,100000,25000,126500,106260,220110,160080,105000,110925,140000,99000,60000,192564,144854,230000,150000,150260,109280,210000,170000,154000,126000,129000,150000],\"y0\":\" \",\"yaxis\":\"y3\",\"type\":\"box\"},{\"alignmentgroup\":\"True\",\"hovertemplate\":\"experience_level=Entry-level / Junior<br>company_size=Large<br>salary_in_usd=%{y}<extra></extra>\",\"legendgroup\":\"Entry-level / Junior\",\"marker\":{\"color\":\"#00cc96\"},\"name\":\"Entry-level / Junior\",\"notched\":false,\"offsetgroup\":\"Entry-level / Junior\",\"orientation\":\"v\",\"showlegend\":true,\"x0\":\" \",\"xaxis\":\"x\",\"y\":[72000,42000,100000,70000,250000,91000,54742,82528,29751,30428,225000,110037,13400,63831,80000,5882,16228,36643,72500,76833,58000,59102,100000,37300,21983,100000,52396,40000,120000],\"y0\":\" \",\"yaxis\":\"y\",\"type\":\"box\"},{\"alignmentgroup\":\"True\",\"hovertemplate\":\"experience_level=Entry-level / Junior<br>company_size=Small<br>salary_in_usd=%{y}<extra></extra>\",\"legendgroup\":\"Entry-level / Junior\",\"marker\":{\"color\":\"#00cc96\"},\"name\":\"Entry-level / Junior\",\"notched\":false,\"offsetgroup\":\"Entry-level / Junior\",\"orientation\":\"v\",\"showlegend\":false,\"x0\":\" \",\"xaxis\":\"x2\",\"y\":[51321,41689,10000,138000,15966,6072,45896,21669,62726,49268,105000,76833,12000,90000,20000,100000,100000,125000,55000,60000,81000,9272,90000,28609,18053,90000,85000,150000,65000],\"y0\":\" \",\"yaxis\":\"y2\",\"type\":\"box\"},{\"alignmentgroup\":\"True\",\"hovertemplate\":\"experience_level=Entry-level / Junior<br>company_size=Medium<br>salary_in_usd=%{y}<extra></extra>\",\"legendgroup\":\"Entry-level / Junior\",\"marker\":{\"color\":\"#00cc96\"},\"name\":\"Entry-level / Junior\",\"notched\":false,\"offsetgroup\":\"Entry-level / Junior\",\"orientation\":\"v\",\"showlegend\":false,\"x0\":\" \",\"xaxis\":\"x3\",\"y\":[39916,5707,80000,59102,70000,12000,50000,10354,49646,80000,21844,24823,4000,21637,28399,65013,100000,52351,45807,125000,18442,120000,100000,31875,58035,86703,20000,10000,67000,52000],\"y0\":\" \",\"yaxis\":\"y3\",\"type\":\"box\"},{\"alignmentgroup\":\"True\",\"hovertemplate\":\"experience_level=Executive-level / Director<br>company_size=Large<br>salary_in_usd=%{y}<extra></extra>\",\"legendgroup\":\"Executive-level / Director\",\"marker\":{\"color\":\"#ab63fa\"},\"name\":\"Executive-level / Director\",\"notched\":false,\"offsetgroup\":\"Executive-level / Director\",\"orientation\":\"v\",\"showlegend\":true,\"x0\":\" \",\"xaxis\":\"x\",\"y\":[325000,79833,150000,235000,153667,230000,250000,600000,141846,79039,196979],\"y0\":\" \",\"yaxis\":\"y\",\"type\":\"box\"},{\"alignmentgroup\":\"True\",\"hovertemplate\":\"experience_level=Executive-level / Director<br>company_size=Small<br>salary_in_usd=%{y}<extra></extra>\",\"legendgroup\":\"Executive-level / Director\",\"marker\":{\"color\":\"#ab63fa\"},\"name\":\"Executive-level / Director\",\"notched\":false,\"offsetgroup\":\"Executive-level / Director\",\"orientation\":\"v\",\"showlegend\":false,\"x0\":\" \",\"xaxis\":\"x2\",\"y\":[69741,416000,118187],\"y0\":\" \",\"yaxis\":\"y2\",\"type\":\"box\"},{\"alignmentgroup\":\"True\",\"hovertemplate\":\"experience_level=Executive-level / Director<br>company_size=Medium<br>salary_in_usd=%{y}<extra></extra>\",\"legendgroup\":\"Executive-level / Director\",\"marker\":{\"color\":\"#ab63fa\"},\"name\":\"Executive-level / Director\",\"notched\":false,\"offsetgroup\":\"Executive-level / Director\",\"orientation\":\"v\",\"showlegend\":false,\"x0\":\" \",\"xaxis\":\"x3\",\"y\":[85000,130026,242000,200000,130000,110000,224000,167875,175000,135000,324000,216000],\"y0\":\" \",\"yaxis\":\"y3\",\"type\":\"box\"}],                        {\"template\":{\"data\":{\"barpolar\":[{\"marker\":{\"line\":{\"color\":\"rgb(17,17,17)\",\"width\":0.5},\"pattern\":{\"fillmode\":\"overlay\",\"size\":10,\"solidity\":0.2}},\"type\":\"barpolar\"}],\"bar\":[{\"error_x\":{\"color\":\"#f2f5fa\"},\"error_y\":{\"color\":\"#f2f5fa\"},\"marker\":{\"line\":{\"color\":\"rgb(17,17,17)\",\"width\":0.5},\"pattern\":{\"fillmode\":\"overlay\",\"size\":10,\"solidity\":0.2}},\"type\":\"bar\"}],\"carpet\":[{\"aaxis\":{\"endlinecolor\":\"#A2B1C6\",\"gridcolor\":\"#506784\",\"linecolor\":\"#506784\",\"minorgridcolor\":\"#506784\",\"startlinecolor\":\"#A2B1C6\"},\"baxis\":{\"endlinecolor\":\"#A2B1C6\",\"gridcolor\":\"#506784\",\"linecolor\":\"#506784\",\"minorgridcolor\":\"#506784\",\"startlinecolor\":\"#A2B1C6\"},\"type\":\"carpet\"}],\"choropleth\":[{\"colorbar\":{\"outlinewidth\":0,\"ticks\":\"\"},\"type\":\"choropleth\"}],\"contourcarpet\":[{\"colorbar\":{\"outlinewidth\":0,\"ticks\":\"\"},\"type\":\"contourcarpet\"}],\"contour\":[{\"colorbar\":{\"outlinewidth\":0,\"ticks\":\"\"},\"colorscale\":[[0.0,\"#0d0887\"],[0.1111111111111111,\"#46039f\"],[0.2222222222222222,\"#7201a8\"],[0.3333333333333333,\"#9c179e\"],[0.4444444444444444,\"#bd3786\"],[0.5555555555555556,\"#d8576b\"],[0.6666666666666666,\"#ed7953\"],[0.7777777777777778,\"#fb9f3a\"],[0.8888888888888888,\"#fdca26\"],[1.0,\"#f0f921\"]],\"type\":\"contour\"}],\"heatmapgl\":[{\"colorbar\":{\"outlinewidth\":0,\"ticks\":\"\"},\"colorscale\":[[0.0,\"#0d0887\"],[0.1111111111111111,\"#46039f\"],[0.2222222222222222,\"#7201a8\"],[0.3333333333333333,\"#9c179e\"],[0.4444444444444444,\"#bd3786\"],[0.5555555555555556,\"#d8576b\"],[0.6666666666666666,\"#ed7953\"],[0.7777777777777778,\"#fb9f3a\"],[0.8888888888888888,\"#fdca26\"],[1.0,\"#f0f921\"]],\"type\":\"heatmapgl\"}],\"heatmap\":[{\"colorbar\":{\"outlinewidth\":0,\"ticks\":\"\"},\"colorscale\":[[0.0,\"#0d0887\"],[0.1111111111111111,\"#46039f\"],[0.2222222222222222,\"#7201a8\"],[0.3333333333333333,\"#9c179e\"],[0.4444444444444444,\"#bd3786\"],[0.5555555555555556,\"#d8576b\"],[0.6666666666666666,\"#ed7953\"],[0.7777777777777778,\"#fb9f3a\"],[0.8888888888888888,\"#fdca26\"],[1.0,\"#f0f921\"]],\"type\":\"heatmap\"}],\"histogram2dcontour\":[{\"colorbar\":{\"outlinewidth\":0,\"ticks\":\"\"},\"colorscale\":[[0.0,\"#0d0887\"],[0.1111111111111111,\"#46039f\"],[0.2222222222222222,\"#7201a8\"],[0.3333333333333333,\"#9c179e\"],[0.4444444444444444,\"#bd3786\"],[0.5555555555555556,\"#d8576b\"],[0.6666666666666666,\"#ed7953\"],[0.7777777777777778,\"#fb9f3a\"],[0.8888888888888888,\"#fdca26\"],[1.0,\"#f0f921\"]],\"type\":\"histogram2dcontour\"}],\"histogram2d\":[{\"colorbar\":{\"outlinewidth\":0,\"ticks\":\"\"},\"colorscale\":[[0.0,\"#0d0887\"],[0.1111111111111111,\"#46039f\"],[0.2222222222222222,\"#7201a8\"],[0.3333333333333333,\"#9c179e\"],[0.4444444444444444,\"#bd3786\"],[0.5555555555555556,\"#d8576b\"],[0.6666666666666666,\"#ed7953\"],[0.7777777777777778,\"#fb9f3a\"],[0.8888888888888888,\"#fdca26\"],[1.0,\"#f0f921\"]],\"type\":\"histogram2d\"}],\"histogram\":[{\"marker\":{\"pattern\":{\"fillmode\":\"overlay\",\"size\":10,\"solidity\":0.2}},\"type\":\"histogram\"}],\"mesh3d\":[{\"colorbar\":{\"outlinewidth\":0,\"ticks\":\"\"},\"type\":\"mesh3d\"}],\"parcoords\":[{\"line\":{\"colorbar\":{\"outlinewidth\":0,\"ticks\":\"\"}},\"type\":\"parcoords\"}],\"pie\":[{\"automargin\":true,\"type\":\"pie\"}],\"scatter3d\":[{\"line\":{\"colorbar\":{\"outlinewidth\":0,\"ticks\":\"\"}},\"marker\":{\"colorbar\":{\"outlinewidth\":0,\"ticks\":\"\"}},\"type\":\"scatter3d\"}],\"scattercarpet\":[{\"marker\":{\"colorbar\":{\"outlinewidth\":0,\"ticks\":\"\"}},\"type\":\"scattercarpet\"}],\"scattergeo\":[{\"marker\":{\"colorbar\":{\"outlinewidth\":0,\"ticks\":\"\"}},\"type\":\"scattergeo\"}],\"scattergl\":[{\"marker\":{\"line\":{\"color\":\"#283442\"}},\"type\":\"scattergl\"}],\"scattermapbox\":[{\"marker\":{\"colorbar\":{\"outlinewidth\":0,\"ticks\":\"\"}},\"type\":\"scattermapbox\"}],\"scatterpolargl\":[{\"marker\":{\"colorbar\":{\"outlinewidth\":0,\"ticks\":\"\"}},\"type\":\"scatterpolargl\"}],\"scatterpolar\":[{\"marker\":{\"colorbar\":{\"outlinewidth\":0,\"ticks\":\"\"}},\"type\":\"scatterpolar\"}],\"scatter\":[{\"marker\":{\"line\":{\"color\":\"#283442\"}},\"type\":\"scatter\"}],\"scatterternary\":[{\"marker\":{\"colorbar\":{\"outlinewidth\":0,\"ticks\":\"\"}},\"type\":\"scatterternary\"}],\"surface\":[{\"colorbar\":{\"outlinewidth\":0,\"ticks\":\"\"},\"colorscale\":[[0.0,\"#0d0887\"],[0.1111111111111111,\"#46039f\"],[0.2222222222222222,\"#7201a8\"],[0.3333333333333333,\"#9c179e\"],[0.4444444444444444,\"#bd3786\"],[0.5555555555555556,\"#d8576b\"],[0.6666666666666666,\"#ed7953\"],[0.7777777777777778,\"#fb9f3a\"],[0.8888888888888888,\"#fdca26\"],[1.0,\"#f0f921\"]],\"type\":\"surface\"}],\"table\":[{\"cells\":{\"fill\":{\"color\":\"#506784\"},\"line\":{\"color\":\"rgb(17,17,17)\"}},\"header\":{\"fill\":{\"color\":\"#2a3f5f\"},\"line\":{\"color\":\"rgb(17,17,17)\"}},\"type\":\"table\"}]},\"layout\":{\"annotationdefaults\":{\"arrowcolor\":\"#f2f5fa\",\"arrowhead\":0,\"arrowwidth\":1},\"autotypenumbers\":\"strict\",\"coloraxis\":{\"colorbar\":{\"outlinewidth\":0,\"ticks\":\"\"}},\"colorscale\":{\"diverging\":[[0,\"#8e0152\"],[0.1,\"#c51b7d\"],[0.2,\"#de77ae\"],[0.3,\"#f1b6da\"],[0.4,\"#fde0ef\"],[0.5,\"#f7f7f7\"],[0.6,\"#e6f5d0\"],[0.7,\"#b8e186\"],[0.8,\"#7fbc41\"],[0.9,\"#4d9221\"],[1,\"#276419\"]],\"sequential\":[[0.0,\"#0d0887\"],[0.1111111111111111,\"#46039f\"],[0.2222222222222222,\"#7201a8\"],[0.3333333333333333,\"#9c179e\"],[0.4444444444444444,\"#bd3786\"],[0.5555555555555556,\"#d8576b\"],[0.6666666666666666,\"#ed7953\"],[0.7777777777777778,\"#fb9f3a\"],[0.8888888888888888,\"#fdca26\"],[1.0,\"#f0f921\"]],\"sequentialminus\":[[0.0,\"#0d0887\"],[0.1111111111111111,\"#46039f\"],[0.2222222222222222,\"#7201a8\"],[0.3333333333333333,\"#9c179e\"],[0.4444444444444444,\"#bd3786\"],[0.5555555555555556,\"#d8576b\"],[0.6666666666666666,\"#ed7953\"],[0.7777777777777778,\"#fb9f3a\"],[0.8888888888888888,\"#fdca26\"],[1.0,\"#f0f921\"]]},\"colorway\":[\"#636efa\",\"#EF553B\",\"#00cc96\",\"#ab63fa\",\"#FFA15A\",\"#19d3f3\",\"#FF6692\",\"#B6E880\",\"#FF97FF\",\"#FECB52\"],\"font\":{\"color\":\"#f2f5fa\"},\"geo\":{\"bgcolor\":\"rgb(17,17,17)\",\"lakecolor\":\"rgb(17,17,17)\",\"landcolor\":\"rgb(17,17,17)\",\"showlakes\":true,\"showland\":true,\"subunitcolor\":\"#506784\"},\"hoverlabel\":{\"align\":\"left\"},\"hovermode\":\"closest\",\"mapbox\":{\"style\":\"dark\"},\"paper_bgcolor\":\"rgb(17,17,17)\",\"plot_bgcolor\":\"rgb(17,17,17)\",\"polar\":{\"angularaxis\":{\"gridcolor\":\"#506784\",\"linecolor\":\"#506784\",\"ticks\":\"\"},\"bgcolor\":\"rgb(17,17,17)\",\"radialaxis\":{\"gridcolor\":\"#506784\",\"linecolor\":\"#506784\",\"ticks\":\"\"}},\"scene\":{\"xaxis\":{\"backgroundcolor\":\"rgb(17,17,17)\",\"gridcolor\":\"#506784\",\"gridwidth\":2,\"linecolor\":\"#506784\",\"showbackground\":true,\"ticks\":\"\",\"zerolinecolor\":\"#C8D4E3\"},\"yaxis\":{\"backgroundcolor\":\"rgb(17,17,17)\",\"gridcolor\":\"#506784\",\"gridwidth\":2,\"linecolor\":\"#506784\",\"showbackground\":true,\"ticks\":\"\",\"zerolinecolor\":\"#C8D4E3\"},\"zaxis\":{\"backgroundcolor\":\"rgb(17,17,17)\",\"gridcolor\":\"#506784\",\"gridwidth\":2,\"linecolor\":\"#506784\",\"showbackground\":true,\"ticks\":\"\",\"zerolinecolor\":\"#C8D4E3\"}},\"shapedefaults\":{\"line\":{\"color\":\"#f2f5fa\"}},\"sliderdefaults\":{\"bgcolor\":\"#C8D4E3\",\"bordercolor\":\"rgb(17,17,17)\",\"borderwidth\":1,\"tickwidth\":0},\"ternary\":{\"aaxis\":{\"gridcolor\":\"#506784\",\"linecolor\":\"#506784\",\"ticks\":\"\"},\"baxis\":{\"gridcolor\":\"#506784\",\"linecolor\":\"#506784\",\"ticks\":\"\"},\"bgcolor\":\"rgb(17,17,17)\",\"caxis\":{\"gridcolor\":\"#506784\",\"linecolor\":\"#506784\",\"ticks\":\"\"}},\"title\":{\"x\":0.05},\"updatemenudefaults\":{\"bgcolor\":\"#506784\",\"borderwidth\":0},\"xaxis\":{\"automargin\":true,\"gridcolor\":\"#283442\",\"linecolor\":\"#506784\",\"ticks\":\"\",\"title\":{\"standoff\":15},\"zerolinecolor\":\"#283442\",\"zerolinewidth\":2},\"yaxis\":{\"automargin\":true,\"gridcolor\":\"#283442\",\"linecolor\":\"#506784\",\"ticks\":\"\",\"title\":{\"standoff\":15},\"zerolinecolor\":\"#283442\",\"zerolinewidth\":2}}},\"xaxis\":{\"anchor\":\"y\",\"domain\":[0.0,0.31999999999999995]},\"yaxis\":{\"anchor\":\"x\",\"domain\":[0.0,1.0],\"title\":{\"text\":\"salary_in_usd\"},\"categoryorder\":\"total ascending\"},\"xaxis2\":{\"anchor\":\"y2\",\"domain\":[0.33999999999999997,0.6599999999999999],\"matches\":\"x\"},\"yaxis2\":{\"anchor\":\"x2\",\"domain\":[0.0,1.0],\"matches\":\"y\",\"showticklabels\":false,\"categoryorder\":\"total ascending\"},\"xaxis3\":{\"anchor\":\"y3\",\"domain\":[0.6799999999999999,0.9999999999999999],\"matches\":\"x\"},\"yaxis3\":{\"anchor\":\"x3\",\"domain\":[0.0,1.0],\"matches\":\"y\",\"showticklabels\":false,\"categoryorder\":\"total ascending\"},\"annotations\":[{\"font\":{},\"showarrow\":false,\"text\":\"company_size=Large\",\"x\":0.15999999999999998,\"xanchor\":\"center\",\"xref\":\"paper\",\"y\":1.0,\"yanchor\":\"bottom\",\"yref\":\"paper\"},{\"font\":{},\"showarrow\":false,\"text\":\"company_size=Small\",\"x\":0.49999999999999994,\"xanchor\":\"center\",\"xref\":\"paper\",\"y\":1.0,\"yanchor\":\"bottom\",\"yref\":\"paper\"},{\"font\":{},\"showarrow\":false,\"text\":\"company_size=Medium\",\"x\":0.8399999999999999,\"xanchor\":\"center\",\"xref\":\"paper\",\"y\":1.0,\"yanchor\":\"bottom\",\"yref\":\"paper\"}],\"legend\":{\"title\":{\"text\":\"experience_level\"},\"tracegroupgap\":0,\"traceorder\":\"reversed\"},\"margin\":{\"t\":60},\"boxmode\":\"group\",\"hovermode\":\"x\"},                        {\"responsive\": true}                    ).then(function(){\n",
       "                            \n",
       "var gd = document.getElementById('f23f712c-bd59-4636-99a8-360d17b19fda');\n",
       "var x = new MutationObserver(function (mutations, observer) {{\n",
       "        var display = window.getComputedStyle(gd).display;\n",
       "        if (!display || display === 'none') {{\n",
       "            console.log([gd, 'removed!']);\n",
       "            Plotly.purge(gd);\n",
       "            observer.disconnect();\n",
       "        }}\n",
       "}});\n",
       "\n",
       "// Listen for the removal of the full notebook cells\n",
       "var notebookContainer = gd.closest('#notebook-container');\n",
       "if (notebookContainer) {{\n",
       "    x.observe(notebookContainer, {childList: true});\n",
       "}}\n",
       "\n",
       "// Listen for the clearing of the current output cell\n",
       "var outputEl = gd.closest('.output');\n",
       "if (outputEl) {{\n",
       "    x.observe(outputEl, {childList: true});\n",
       "}}\n",
       "\n",
       "                        })                };                });            </script>        </div>"
      ]
     },
     "metadata": {},
     "output_type": "display_data"
    }
   ],
   "source": [
    "fig5 = px.box(salaries, y = \"salary_in_usd\", color = \"experience_level\", facet_col = \"company_size\", template = \"plotly_dark\")\n",
    "fig5.update_yaxes(categoryorder='total ascending')\n",
    "fig5.update_layout(hovermode = \"x\",\n",
    "                  legend_traceorder=\"reversed\")\n",
    "fig5.show()\n",
    "#The distribution of salary is more stable for medium-sized companies."
   ]
  },
  {
   "cell_type": "markdown",
   "id": "ae98ffe6",
   "metadata": {
    "papermill": {
     "duration": 0.016564,
     "end_time": "2022-08-28T09:59:21.644673",
     "exception": false,
     "start_time": "2022-08-28T09:59:21.628109",
     "status": "completed"
    },
    "tags": []
   },
   "source": [
    "Snippet of the data description:\n",
    "\n",
    "\"The experience level in the job during the year with the following possible values:\n",
    "EN: Entry-level / Junior\n",
    "MI: Mid-level / Intermediate\n",
    "SE: Senior-level / Expert\n",
    "EX: Executive-level / Director\"\n",
    "\n",
    "The dataset contains more information on the salaries of Senior-level Data Scientist (DS) with Mid-level DS being second.\n",
    "Based on Salary Distribution Based On Experience Levels & Company Sizes graph, we see that medium sized firms make up most of the observations, specifically in the Mid-level and Senior-levels. Interestingly, small sized firms tend to pay a higher amount for most of the Experience Levels, besides Mid-level positions."
   ]
  },
  {
   "cell_type": "markdown",
   "id": "4dbb8243",
   "metadata": {
    "papermill": {
     "duration": 0.016277,
     "end_time": "2022-08-28T09:59:21.677395",
     "exception": false,
     "start_time": "2022-08-28T09:59:21.661118",
     "status": "completed"
    },
    "tags": []
   },
   "source": [
    "As expected, large-sized firms provide the highest average salary (USD) for all four levels of experience. However, we can actually separate the four experience levels into two groups which are:\n",
    "1. Entry-level and Executive-level DS\n",
    "2. Mid-level and Senior-level level DS\n",
    "\n",
    "Their relationships between company size and average salary show differing contrast between the two groups, in which will be discussed further.\n",
    "\n",
    "For **Entry-Level and Executive-level DS**, the distribution of salaries does not have a significant relationship with company size, based on the graph above. Large-sized companies still provide the highest average salary, however, the salary paid by small companies for both entry  and executive level are **higher than those in the mid-sized companies**.\n",
    "\n",
    "For **Mid-level and Senior-level level DS**, on average, the increase in pay reflects the increase of the company size. SE level DS already command a \n",
    "high pay due to their seniority and experience, hence the reason for the pay jump from the different company sizes increases gradually.\n",
    "\n",
    "In contrast, the increase in pay for a small sized company to medium size company shows a more significant pay jump from an average salary of USD51,000 to USD90,000.\n",
    "\n",
    "Additionally, it should be noted as well that the pay of an Senior-lvel in a small firm is still higher than an Mid-lvel at a large sized company.\n",
    "\n",
    "\n"
   ]
  },
  {
   "cell_type": "markdown",
   "id": "c2d194bb",
   "metadata": {
    "papermill": {
     "duration": 0.015926,
     "end_time": "2022-08-28T09:59:21.710040",
     "exception": false,
     "start_time": "2022-08-28T09:59:21.694114",
     "status": "completed"
    },
    "tags": []
   },
   "source": [
    "## Employee Residence \n",
    "\n",
    "### Understanding the demographic of observations\n",
    "\n",
    "#### Will be using \"work_year\" as the \"counts\" column in this initial phase."
   ]
  },
  {
   "cell_type": "code",
   "execution_count": 18,
   "id": "70a1e14d",
   "metadata": {
    "execution": {
     "iopub.execute_input": "2022-08-28T09:59:21.744407Z",
     "iopub.status.busy": "2022-08-28T09:59:21.744032Z",
     "iopub.status.idle": "2022-08-28T09:59:21.761451Z",
     "shell.execute_reply": "2022-08-28T09:59:21.760312Z"
    },
    "papermill": {
     "duration": 0.038047,
     "end_time": "2022-08-28T09:59:21.764415",
     "exception": false,
     "start_time": "2022-08-28T09:59:21.726368",
     "status": "completed"
    },
    "tags": []
   },
   "outputs": [],
   "source": [
    "countries_count = salaries.groupby(\"employee_residence\").count().reset_index()\n",
    "countries_btm = countries_count.query(\"work_year <= 10\")\n",
    "countries_count.loc[countries_count['work_year'] <= 10, 'employee_residence'] = 'Others'"
   ]
  },
  {
   "cell_type": "code",
   "execution_count": 19,
   "id": "9e89ed00",
   "metadata": {
    "execution": {
     "iopub.execute_input": "2022-08-28T09:59:21.798885Z",
     "iopub.status.busy": "2022-08-28T09:59:21.798514Z",
     "iopub.status.idle": "2022-08-28T09:59:21.863901Z",
     "shell.execute_reply": "2022-08-28T09:59:21.862703Z"
    },
    "papermill": {
     "duration": 0.085837,
     "end_time": "2022-08-28T09:59:21.866615",
     "exception": false,
     "start_time": "2022-08-28T09:59:21.780778",
     "status": "completed"
    },
    "tags": []
   },
   "outputs": [
    {
     "data": {
      "text/html": [
       "<div>                            <div id=\"5476d05a-16b7-4339-af66-55e6b9447111\" class=\"plotly-graph-div\" style=\"height:525px; width:100%;\"></div>            <script type=\"text/javascript\">                require([\"plotly\"], function(Plotly) {                    window.PLOTLYENV=window.PLOTLYENV || {};                                    if (document.getElementById(\"5476d05a-16b7-4339-af66-55e6b9447111\")) {                    Plotly.newPlot(                        \"5476d05a-16b7-4339-af66-55e6b9447111\",                        [{\"alignmentgroup\":\"True\",\"hovertemplate\":\"employee_residence=%{x}<br>work_year=%{y}<extra></extra>\",\"legendgroup\":\"\",\"marker\":{\"color\":\"#636efa\",\"pattern\":{\"shape\":\"\"}},\"name\":\"\",\"offsetgroup\":\"\",\"orientation\":\"v\",\"showlegend\":false,\"textposition\":\"auto\",\"texttemplate\":\"%{y:.2s}\",\"x\":[\"CA\",\"DE\",\"ES\",\"FR\",\"GB\",\"GR\",\"IN\",\"US\"],\"xaxis\":\"x\",\"y\":[29,25,15,18,44,13,30,332],\"yaxis\":\"y\",\"type\":\"bar\"}],                        {\"template\":{\"data\":{\"histogram2dcontour\":[{\"type\":\"histogram2dcontour\",\"colorbar\":{\"outlinewidth\":0,\"ticks\":\"\"},\"colorscale\":[[0.0,\"#0d0887\"],[0.1111111111111111,\"#46039f\"],[0.2222222222222222,\"#7201a8\"],[0.3333333333333333,\"#9c179e\"],[0.4444444444444444,\"#bd3786\"],[0.5555555555555556,\"#d8576b\"],[0.6666666666666666,\"#ed7953\"],[0.7777777777777778,\"#fb9f3a\"],[0.8888888888888888,\"#fdca26\"],[1.0,\"#f0f921\"]]}],\"choropleth\":[{\"type\":\"choropleth\",\"colorbar\":{\"outlinewidth\":0,\"ticks\":\"\"}}],\"histogram2d\":[{\"type\":\"histogram2d\",\"colorbar\":{\"outlinewidth\":0,\"ticks\":\"\"},\"colorscale\":[[0.0,\"#0d0887\"],[0.1111111111111111,\"#46039f\"],[0.2222222222222222,\"#7201a8\"],[0.3333333333333333,\"#9c179e\"],[0.4444444444444444,\"#bd3786\"],[0.5555555555555556,\"#d8576b\"],[0.6666666666666666,\"#ed7953\"],[0.7777777777777778,\"#fb9f3a\"],[0.8888888888888888,\"#fdca26\"],[1.0,\"#f0f921\"]]}],\"heatmap\":[{\"type\":\"heatmap\",\"colorbar\":{\"outlinewidth\":0,\"ticks\":\"\"},\"colorscale\":[[0.0,\"#0d0887\"],[0.1111111111111111,\"#46039f\"],[0.2222222222222222,\"#7201a8\"],[0.3333333333333333,\"#9c179e\"],[0.4444444444444444,\"#bd3786\"],[0.5555555555555556,\"#d8576b\"],[0.6666666666666666,\"#ed7953\"],[0.7777777777777778,\"#fb9f3a\"],[0.8888888888888888,\"#fdca26\"],[1.0,\"#f0f921\"]]}],\"heatmapgl\":[{\"type\":\"heatmapgl\",\"colorbar\":{\"outlinewidth\":0,\"ticks\":\"\"},\"colorscale\":[[0.0,\"#0d0887\"],[0.1111111111111111,\"#46039f\"],[0.2222222222222222,\"#7201a8\"],[0.3333333333333333,\"#9c179e\"],[0.4444444444444444,\"#bd3786\"],[0.5555555555555556,\"#d8576b\"],[0.6666666666666666,\"#ed7953\"],[0.7777777777777778,\"#fb9f3a\"],[0.8888888888888888,\"#fdca26\"],[1.0,\"#f0f921\"]]}],\"contourcarpet\":[{\"type\":\"contourcarpet\",\"colorbar\":{\"outlinewidth\":0,\"ticks\":\"\"}}],\"contour\":[{\"type\":\"contour\",\"colorbar\":{\"outlinewidth\":0,\"ticks\":\"\"},\"colorscale\":[[0.0,\"#0d0887\"],[0.1111111111111111,\"#46039f\"],[0.2222222222222222,\"#7201a8\"],[0.3333333333333333,\"#9c179e\"],[0.4444444444444444,\"#bd3786\"],[0.5555555555555556,\"#d8576b\"],[0.6666666666666666,\"#ed7953\"],[0.7777777777777778,\"#fb9f3a\"],[0.8888888888888888,\"#fdca26\"],[1.0,\"#f0f921\"]]}],\"surface\":[{\"type\":\"surface\",\"colorbar\":{\"outlinewidth\":0,\"ticks\":\"\"},\"colorscale\":[[0.0,\"#0d0887\"],[0.1111111111111111,\"#46039f\"],[0.2222222222222222,\"#7201a8\"],[0.3333333333333333,\"#9c179e\"],[0.4444444444444444,\"#bd3786\"],[0.5555555555555556,\"#d8576b\"],[0.6666666666666666,\"#ed7953\"],[0.7777777777777778,\"#fb9f3a\"],[0.8888888888888888,\"#fdca26\"],[1.0,\"#f0f921\"]]}],\"mesh3d\":[{\"type\":\"mesh3d\",\"colorbar\":{\"outlinewidth\":0,\"ticks\":\"\"}}],\"scatter\":[{\"fillpattern\":{\"fillmode\":\"overlay\",\"size\":10,\"solidity\":0.2},\"type\":\"scatter\"}],\"parcoords\":[{\"type\":\"parcoords\",\"line\":{\"colorbar\":{\"outlinewidth\":0,\"ticks\":\"\"}}}],\"scatterpolargl\":[{\"type\":\"scatterpolargl\",\"marker\":{\"colorbar\":{\"outlinewidth\":0,\"ticks\":\"\"}}}],\"bar\":[{\"error_x\":{\"color\":\"#2a3f5f\"},\"error_y\":{\"color\":\"#2a3f5f\"},\"marker\":{\"line\":{\"color\":\"#E5ECF6\",\"width\":0.5},\"pattern\":{\"fillmode\":\"overlay\",\"size\":10,\"solidity\":0.2}},\"type\":\"bar\"}],\"scattergeo\":[{\"type\":\"scattergeo\",\"marker\":{\"colorbar\":{\"outlinewidth\":0,\"ticks\":\"\"}}}],\"scatterpolar\":[{\"type\":\"scatterpolar\",\"marker\":{\"colorbar\":{\"outlinewidth\":0,\"ticks\":\"\"}}}],\"histogram\":[{\"marker\":{\"pattern\":{\"fillmode\":\"overlay\",\"size\":10,\"solidity\":0.2}},\"type\":\"histogram\"}],\"scattergl\":[{\"type\":\"scattergl\",\"marker\":{\"colorbar\":{\"outlinewidth\":0,\"ticks\":\"\"}}}],\"scatter3d\":[{\"type\":\"scatter3d\",\"line\":{\"colorbar\":{\"outlinewidth\":0,\"ticks\":\"\"}},\"marker\":{\"colorbar\":{\"outlinewidth\":0,\"ticks\":\"\"}}}],\"scattermapbox\":[{\"type\":\"scattermapbox\",\"marker\":{\"colorbar\":{\"outlinewidth\":0,\"ticks\":\"\"}}}],\"scatterternary\":[{\"type\":\"scatterternary\",\"marker\":{\"colorbar\":{\"outlinewidth\":0,\"ticks\":\"\"}}}],\"scattercarpet\":[{\"type\":\"scattercarpet\",\"marker\":{\"colorbar\":{\"outlinewidth\":0,\"ticks\":\"\"}}}],\"carpet\":[{\"aaxis\":{\"endlinecolor\":\"#2a3f5f\",\"gridcolor\":\"white\",\"linecolor\":\"white\",\"minorgridcolor\":\"white\",\"startlinecolor\":\"#2a3f5f\"},\"baxis\":{\"endlinecolor\":\"#2a3f5f\",\"gridcolor\":\"white\",\"linecolor\":\"white\",\"minorgridcolor\":\"white\",\"startlinecolor\":\"#2a3f5f\"},\"type\":\"carpet\"}],\"table\":[{\"cells\":{\"fill\":{\"color\":\"#EBF0F8\"},\"line\":{\"color\":\"white\"}},\"header\":{\"fill\":{\"color\":\"#C8D4E3\"},\"line\":{\"color\":\"white\"}},\"type\":\"table\"}],\"barpolar\":[{\"marker\":{\"line\":{\"color\":\"#E5ECF6\",\"width\":0.5},\"pattern\":{\"fillmode\":\"overlay\",\"size\":10,\"solidity\":0.2}},\"type\":\"barpolar\"}],\"pie\":[{\"automargin\":true,\"type\":\"pie\"}]},\"layout\":{\"autotypenumbers\":\"strict\",\"colorway\":[\"#636efa\",\"#EF553B\",\"#00cc96\",\"#ab63fa\",\"#FFA15A\",\"#19d3f3\",\"#FF6692\",\"#B6E880\",\"#FF97FF\",\"#FECB52\"],\"font\":{\"color\":\"#2a3f5f\"},\"hovermode\":\"closest\",\"hoverlabel\":{\"align\":\"left\"},\"paper_bgcolor\":\"white\",\"plot_bgcolor\":\"#E5ECF6\",\"polar\":{\"bgcolor\":\"#E5ECF6\",\"angularaxis\":{\"gridcolor\":\"white\",\"linecolor\":\"white\",\"ticks\":\"\"},\"radialaxis\":{\"gridcolor\":\"white\",\"linecolor\":\"white\",\"ticks\":\"\"}},\"ternary\":{\"bgcolor\":\"#E5ECF6\",\"aaxis\":{\"gridcolor\":\"white\",\"linecolor\":\"white\",\"ticks\":\"\"},\"baxis\":{\"gridcolor\":\"white\",\"linecolor\":\"white\",\"ticks\":\"\"},\"caxis\":{\"gridcolor\":\"white\",\"linecolor\":\"white\",\"ticks\":\"\"}},\"coloraxis\":{\"colorbar\":{\"outlinewidth\":0,\"ticks\":\"\"}},\"colorscale\":{\"sequential\":[[0.0,\"#0d0887\"],[0.1111111111111111,\"#46039f\"],[0.2222222222222222,\"#7201a8\"],[0.3333333333333333,\"#9c179e\"],[0.4444444444444444,\"#bd3786\"],[0.5555555555555556,\"#d8576b\"],[0.6666666666666666,\"#ed7953\"],[0.7777777777777778,\"#fb9f3a\"],[0.8888888888888888,\"#fdca26\"],[1.0,\"#f0f921\"]],\"sequentialminus\":[[0.0,\"#0d0887\"],[0.1111111111111111,\"#46039f\"],[0.2222222222222222,\"#7201a8\"],[0.3333333333333333,\"#9c179e\"],[0.4444444444444444,\"#bd3786\"],[0.5555555555555556,\"#d8576b\"],[0.6666666666666666,\"#ed7953\"],[0.7777777777777778,\"#fb9f3a\"],[0.8888888888888888,\"#fdca26\"],[1.0,\"#f0f921\"]],\"diverging\":[[0,\"#8e0152\"],[0.1,\"#c51b7d\"],[0.2,\"#de77ae\"],[0.3,\"#f1b6da\"],[0.4,\"#fde0ef\"],[0.5,\"#f7f7f7\"],[0.6,\"#e6f5d0\"],[0.7,\"#b8e186\"],[0.8,\"#7fbc41\"],[0.9,\"#4d9221\"],[1,\"#276419\"]]},\"xaxis\":{\"gridcolor\":\"white\",\"linecolor\":\"white\",\"ticks\":\"\",\"title\":{\"standoff\":15},\"zerolinecolor\":\"white\",\"automargin\":true,\"zerolinewidth\":2},\"yaxis\":{\"gridcolor\":\"white\",\"linecolor\":\"white\",\"ticks\":\"\",\"title\":{\"standoff\":15},\"zerolinecolor\":\"white\",\"automargin\":true,\"zerolinewidth\":2},\"scene\":{\"xaxis\":{\"backgroundcolor\":\"#E5ECF6\",\"gridcolor\":\"white\",\"linecolor\":\"white\",\"showbackground\":true,\"ticks\":\"\",\"zerolinecolor\":\"white\",\"gridwidth\":2},\"yaxis\":{\"backgroundcolor\":\"#E5ECF6\",\"gridcolor\":\"white\",\"linecolor\":\"white\",\"showbackground\":true,\"ticks\":\"\",\"zerolinecolor\":\"white\",\"gridwidth\":2},\"zaxis\":{\"backgroundcolor\":\"#E5ECF6\",\"gridcolor\":\"white\",\"linecolor\":\"white\",\"showbackground\":true,\"ticks\":\"\",\"zerolinecolor\":\"white\",\"gridwidth\":2}},\"shapedefaults\":{\"line\":{\"color\":\"#2a3f5f\"}},\"annotationdefaults\":{\"arrowcolor\":\"#2a3f5f\",\"arrowhead\":0,\"arrowwidth\":1},\"geo\":{\"bgcolor\":\"white\",\"landcolor\":\"#E5ECF6\",\"subunitcolor\":\"white\",\"showland\":true,\"showlakes\":true,\"lakecolor\":\"white\"},\"title\":{\"x\":0.05},\"mapbox\":{\"style\":\"light\"}}},\"xaxis\":{\"anchor\":\"y\",\"domain\":[0.0,1.0],\"title\":{\"text\":\"employee_residence\"},\"categoryorder\":\"total descending\"},\"yaxis\":{\"anchor\":\"x\",\"domain\":[0.0,1.0],\"title\":{\"text\":\"work_year\"}},\"legend\":{\"tracegroupgap\":0},\"title\":{\"text\":\"Top Countries with more than 10 observations\"},\"barmode\":\"relative\"},                        {\"responsive\": true}                    ).then(function(){\n",
       "                            \n",
       "var gd = document.getElementById('5476d05a-16b7-4339-af66-55e6b9447111');\n",
       "var x = new MutationObserver(function (mutations, observer) {{\n",
       "        var display = window.getComputedStyle(gd).display;\n",
       "        if (!display || display === 'none') {{\n",
       "            console.log([gd, 'removed!']);\n",
       "            Plotly.purge(gd);\n",
       "            observer.disconnect();\n",
       "        }}\n",
       "}});\n",
       "\n",
       "// Listen for the removal of the full notebook cells\n",
       "var notebookContainer = gd.closest('#notebook-container');\n",
       "if (notebookContainer) {{\n",
       "    x.observe(notebookContainer, {childList: true});\n",
       "}}\n",
       "\n",
       "// Listen for the clearing of the current output cell\n",
       "var outputEl = gd.closest('.output');\n",
       "if (outputEl) {{\n",
       "    x.observe(outputEl, {childList: true});\n",
       "}}\n",
       "\n",
       "                        })                };                });            </script>        </div>"
      ]
     },
     "metadata": {},
     "output_type": "display_data"
    }
   ],
   "source": [
    "top_countries = countries_count.query(\"work_year > 10\")\n",
    "fig6 = px.bar(top_countries[['employee_residence', 'work_year']],\n",
    "              x = \"employee_residence\", y = \"work_year\",\n",
    "               text_auto='.2s',\n",
    "              title = \"Top Countries with more than 10 observations\"\n",
    "             )\n",
    "fig6.update_xaxes(categoryorder='total descending')\n",
    "# fig3.update_layout(xaxis={'categoryorder':'total descending'})"
   ]
  },
  {
   "cell_type": "markdown",
   "id": "43eed586",
   "metadata": {
    "papermill": {
     "duration": 0.016105,
     "end_time": "2022-08-28T09:59:21.899102",
     "exception": false,
     "start_time": "2022-08-28T09:59:21.882997",
     "status": "completed"
    },
    "tags": []
   },
   "source": [
    "Majority of respondents are from the United States. "
   ]
  },
  {
   "cell_type": "markdown",
   "id": "f6ada42b",
   "metadata": {
    "papermill": {
     "duration": 0.015983,
     "end_time": "2022-08-28T09:59:21.931378",
     "exception": false,
     "start_time": "2022-08-28T09:59:21.915395",
     "status": "completed"
    },
    "tags": []
   },
   "source": [
    "## Obtaining The Average Annual Salary For Each Country\n",
    "### Important Note: The dataset only contains up until 2021. Hence moving forward, the dataset period will be for 2020 to 2021 only.\n"
   ]
  },
  {
   "cell_type": "code",
   "execution_count": 20,
   "id": "e3b98121",
   "metadata": {
    "execution": {
     "iopub.execute_input": "2022-08-28T09:59:21.966372Z",
     "iopub.status.busy": "2022-08-28T09:59:21.965912Z",
     "iopub.status.idle": "2022-08-28T09:59:21.974667Z",
     "shell.execute_reply": "2022-08-28T09:59:21.973486Z"
    },
    "papermill": {
     "duration": 0.029264,
     "end_time": "2022-08-28T09:59:21.977087",
     "exception": false,
     "start_time": "2022-08-28T09:59:21.947823",
     "status": "completed"
    },
    "tags": []
   },
   "outputs": [
    {
     "data": {
      "text/plain": [
       "array(['Current prices in NCU', '2021 constant prices and NCU',\n",
       "       'In 2021 constant prices at 2021 USD PPPs'], dtype=object)"
      ]
     },
     "execution_count": 20,
     "metadata": {},
     "output_type": "execute_result"
    }
   ],
   "source": [
    "average_global_sal[\"Series\"].unique()"
   ]
  },
  {
   "cell_type": "markdown",
   "id": "fed27133",
   "metadata": {
    "papermill": {
     "duration": 0.016099,
     "end_time": "2022-08-28T09:59:22.009615",
     "exception": false,
     "start_time": "2022-08-28T09:59:21.993516",
     "status": "completed"
    },
    "tags": []
   },
   "source": [
    "#### Filtering only for columns that show the values in USD for each country's average annual salary."
   ]
  },
  {
   "cell_type": "code",
   "execution_count": 21,
   "id": "34a0f1e2",
   "metadata": {
    "execution": {
     "iopub.execute_input": "2022-08-28T09:59:22.045261Z",
     "iopub.status.busy": "2022-08-28T09:59:22.044847Z",
     "iopub.status.idle": "2022-08-28T09:59:22.064012Z",
     "shell.execute_reply": "2022-08-28T09:59:22.062989Z"
    },
    "papermill": {
     "duration": 0.040383,
     "end_time": "2022-08-28T09:59:22.066500",
     "exception": false,
     "start_time": "2022-08-28T09:59:22.026117",
     "status": "completed"
    },
    "tags": []
   },
   "outputs": [
    {
     "data": {
      "text/html": [
       "<div>\n",
       "<style scoped>\n",
       "    .dataframe tbody tr th:only-of-type {\n",
       "        vertical-align: middle;\n",
       "    }\n",
       "\n",
       "    .dataframe tbody tr th {\n",
       "        vertical-align: top;\n",
       "    }\n",
       "\n",
       "    .dataframe thead th {\n",
       "        text-align: right;\n",
       "    }\n",
       "</style>\n",
       "<table border=\"1\" class=\"dataframe\">\n",
       "  <thead>\n",
       "    <tr style=\"text-align: right;\">\n",
       "      <th></th>\n",
       "      <th>Alpha-3 code</th>\n",
       "      <th>Country</th>\n",
       "      <th>Time</th>\n",
       "      <th>Value</th>\n",
       "      <th>Unit Code</th>\n",
       "    </tr>\n",
       "  </thead>\n",
       "  <tbody>\n",
       "    <tr>\n",
       "      <th>1276</th>\n",
       "      <td>AUS</td>\n",
       "      <td>Australia</td>\n",
       "      <td>2000</td>\n",
       "      <td>45961.871253</td>\n",
       "      <td>USD</td>\n",
       "    </tr>\n",
       "    <tr>\n",
       "      <th>1277</th>\n",
       "      <td>AUS</td>\n",
       "      <td>Australia</td>\n",
       "      <td>2001</td>\n",
       "      <td>46424.274156</td>\n",
       "      <td>USD</td>\n",
       "    </tr>\n",
       "    <tr>\n",
       "      <th>1278</th>\n",
       "      <td>AUS</td>\n",
       "      <td>Australia</td>\n",
       "      <td>2002</td>\n",
       "      <td>46814.171091</td>\n",
       "      <td>USD</td>\n",
       "    </tr>\n",
       "    <tr>\n",
       "      <th>1279</th>\n",
       "      <td>AUS</td>\n",
       "      <td>Australia</td>\n",
       "      <td>2003</td>\n",
       "      <td>47450.472102</td>\n",
       "      <td>USD</td>\n",
       "    </tr>\n",
       "    <tr>\n",
       "      <th>1280</th>\n",
       "      <td>AUS</td>\n",
       "      <td>Australia</td>\n",
       "      <td>2004</td>\n",
       "      <td>48917.552922</td>\n",
       "      <td>USD</td>\n",
       "    </tr>\n",
       "  </tbody>\n",
       "</table>\n",
       "</div>"
      ],
      "text/plain": [
       "     Alpha-3 code    Country  Time         Value Unit Code\n",
       "1276          AUS  Australia  2000  45961.871253       USD\n",
       "1277          AUS  Australia  2001  46424.274156       USD\n",
       "1278          AUS  Australia  2002  46814.171091       USD\n",
       "1279          AUS  Australia  2003  47450.472102       USD\n",
       "1280          AUS  Australia  2004  48917.552922       USD"
      ]
     },
     "execution_count": 21,
     "metadata": {},
     "output_type": "execute_result"
    }
   ],
   "source": [
    "average_global_sal = average_global_sal[(average_global_sal[\"Unit Code\"] == \"USD\") & (average_global_sal[\"Series\"] == \"In 2021 constant prices at 2021 USD PPPs\")][[\n",
    "    \"COUNTRY\", \"Country\", \"Time\", \"Value\", \"Unit Code\"\n",
    "]].copy()\n",
    "average_global_sal.rename(columns = {\"COUNTRY\": \"Alpha-3 code\"}, inplace = True)\n",
    "average_global_sal.head()"
   ]
  },
  {
   "cell_type": "markdown",
   "id": "b718e645",
   "metadata": {
    "papermill": {
     "duration": 0.019581,
     "end_time": "2022-08-28T09:59:22.102907",
     "exception": false,
     "start_time": "2022-08-28T09:59:22.083326",
     "status": "completed"
    },
    "tags": []
   },
   "source": [
    "#### Renaming columns for ease of merging later on."
   ]
  },
  {
   "cell_type": "code",
   "execution_count": 22,
   "id": "984202ec",
   "metadata": {
    "execution": {
     "iopub.execute_input": "2022-08-28T09:59:22.139179Z",
     "iopub.status.busy": "2022-08-28T09:59:22.138758Z",
     "iopub.status.idle": "2022-08-28T09:59:22.150178Z",
     "shell.execute_reply": "2022-08-28T09:59:22.148947Z"
    },
    "papermill": {
     "duration": 0.032699,
     "end_time": "2022-08-28T09:59:22.152540",
     "exception": false,
     "start_time": "2022-08-28T09:59:22.119841",
     "status": "completed"
    },
    "tags": []
   },
   "outputs": [
    {
     "data": {
      "text/plain": [
       "Index(['Alpha-3 code', 'Country', 'Time', 'Value', 'Unit Code'], dtype='object')"
      ]
     },
     "execution_count": 22,
     "metadata": {},
     "output_type": "execute_result"
    }
   ],
   "source": [
    "country_codes.rename(columns = {\"English short name lower case\": \"Country\"}, inplace = True)\n",
    "country_codes2 = country_codes[[\"Country\", \"Alpha-2 code\", \"Alpha-3 code\"]].copy().reset_index()\n",
    "average_global_sal.columns"
   ]
  },
  {
   "cell_type": "markdown",
   "id": "79820e34",
   "metadata": {
    "execution": {
     "iopub.execute_input": "2022-08-28T09:27:13.446128Z",
     "iopub.status.busy": "2022-08-28T09:27:13.445696Z",
     "iopub.status.idle": "2022-08-28T09:27:13.451692Z",
     "shell.execute_reply": "2022-08-28T09:27:13.450349Z",
     "shell.execute_reply.started": "2022-08-28T09:27:13.446098Z"
    },
    "papermill": {
     "duration": 0.017458,
     "end_time": "2022-08-28T09:59:22.187528",
     "exception": false,
     "start_time": "2022-08-28T09:59:22.170070",
     "status": "completed"
    },
    "tags": []
   },
   "source": [
    "#### Merging average global salary with country codes dataset"
   ]
  },
  {
   "cell_type": "code",
   "execution_count": 23,
   "id": "09854a51",
   "metadata": {
    "execution": {
     "iopub.execute_input": "2022-08-28T09:59:22.224382Z",
     "iopub.status.busy": "2022-08-28T09:59:22.223898Z",
     "iopub.status.idle": "2022-08-28T09:59:22.238592Z",
     "shell.execute_reply": "2022-08-28T09:59:22.237632Z"
    },
    "papermill": {
     "duration": 0.036261,
     "end_time": "2022-08-28T09:59:22.241193",
     "exception": false,
     "start_time": "2022-08-28T09:59:22.204932",
     "status": "completed"
    },
    "tags": []
   },
   "outputs": [],
   "source": [
    "average_global_sal2 = average_global_sal.merge(country_codes2, on = \"Alpha-3 code\")\n",
    "average_global_sal2 = average_global_sal2[[\"Country_x\", \"Country_y\", \"Time\", \"Value\", \"Alpha-2 code\"]]"
   ]
  },
  {
   "cell_type": "code",
   "execution_count": 24,
   "id": "82b8d1d0",
   "metadata": {
    "execution": {
     "iopub.execute_input": "2022-08-28T09:59:22.276310Z",
     "iopub.status.busy": "2022-08-28T09:59:22.275881Z",
     "iopub.status.idle": "2022-08-28T09:59:22.289467Z",
     "shell.execute_reply": "2022-08-28T09:59:22.288535Z"
    },
    "papermill": {
     "duration": 0.033627,
     "end_time": "2022-08-28T09:59:22.291511",
     "exception": false,
     "start_time": "2022-08-28T09:59:22.257884",
     "status": "completed"
    },
    "tags": []
   },
   "outputs": [
    {
     "data": {
      "text/html": [
       "<div>\n",
       "<style scoped>\n",
       "    .dataframe tbody tr th:only-of-type {\n",
       "        vertical-align: middle;\n",
       "    }\n",
       "\n",
       "    .dataframe tbody tr th {\n",
       "        vertical-align: top;\n",
       "    }\n",
       "\n",
       "    .dataframe thead th {\n",
       "        text-align: right;\n",
       "    }\n",
       "</style>\n",
       "<table border=\"1\" class=\"dataframe\">\n",
       "  <thead>\n",
       "    <tr style=\"text-align: right;\">\n",
       "      <th></th>\n",
       "      <th>Country_x</th>\n",
       "      <th>Country_y</th>\n",
       "      <th>Time</th>\n",
       "      <th>Value</th>\n",
       "      <th>Alpha-2 code</th>\n",
       "    </tr>\n",
       "  </thead>\n",
       "  <tbody>\n",
       "    <tr>\n",
       "      <th>0</th>\n",
       "      <td>Australia</td>\n",
       "      <td>Australia</td>\n",
       "      <td>2000</td>\n",
       "      <td>45961.871253</td>\n",
       "      <td>AU</td>\n",
       "    </tr>\n",
       "    <tr>\n",
       "      <th>1</th>\n",
       "      <td>Australia</td>\n",
       "      <td>Australia</td>\n",
       "      <td>2001</td>\n",
       "      <td>46424.274156</td>\n",
       "      <td>AU</td>\n",
       "    </tr>\n",
       "    <tr>\n",
       "      <th>2</th>\n",
       "      <td>Australia</td>\n",
       "      <td>Australia</td>\n",
       "      <td>2002</td>\n",
       "      <td>46814.171091</td>\n",
       "      <td>AU</td>\n",
       "    </tr>\n",
       "    <tr>\n",
       "      <th>3</th>\n",
       "      <td>Australia</td>\n",
       "      <td>Australia</td>\n",
       "      <td>2003</td>\n",
       "      <td>47450.472102</td>\n",
       "      <td>AU</td>\n",
       "    </tr>\n",
       "    <tr>\n",
       "      <th>4</th>\n",
       "      <td>Australia</td>\n",
       "      <td>Australia</td>\n",
       "      <td>2004</td>\n",
       "      <td>48917.552922</td>\n",
       "      <td>AU</td>\n",
       "    </tr>\n",
       "  </tbody>\n",
       "</table>\n",
       "</div>"
      ],
      "text/plain": [
       "   Country_x  Country_y  Time         Value Alpha-2 code\n",
       "0  Australia  Australia  2000  45961.871253           AU\n",
       "1  Australia  Australia  2001  46424.274156           AU\n",
       "2  Australia  Australia  2002  46814.171091           AU\n",
       "3  Australia  Australia  2003  47450.472102           AU\n",
       "4  Australia  Australia  2004  48917.552922           AU"
      ]
     },
     "execution_count": 24,
     "metadata": {},
     "output_type": "execute_result"
    }
   ],
   "source": [
    "average_global_sal2.head()"
   ]
  },
  {
   "cell_type": "markdown",
   "id": "b1a23d97",
   "metadata": {
    "execution": {
     "iopub.execute_input": "2022-08-28T09:27:28.092192Z",
     "iopub.status.busy": "2022-08-28T09:27:28.091769Z",
     "iopub.status.idle": "2022-08-28T09:27:28.096697Z",
     "shell.execute_reply": "2022-08-28T09:27:28.095720Z",
     "shell.execute_reply.started": "2022-08-28T09:27:28.092161Z"
    },
    "papermill": {
     "duration": 0.016634,
     "end_time": "2022-08-28T09:59:22.325133",
     "exception": false,
     "start_time": "2022-08-28T09:59:22.308499",
     "status": "completed"
    },
    "tags": []
   },
   "source": [
    "#### Check whether the countries match by using \"test\" column to identify the columns that do not match"
   ]
  },
  {
   "cell_type": "code",
   "execution_count": 25,
   "id": "4d5c30d0",
   "metadata": {
    "execution": {
     "iopub.execute_input": "2022-08-28T09:59:22.360758Z",
     "iopub.status.busy": "2022-08-28T09:59:22.360372Z",
     "iopub.status.idle": "2022-08-28T09:59:22.375887Z",
     "shell.execute_reply": "2022-08-28T09:59:22.374922Z"
    },
    "papermill": {
     "duration": 0.035995,
     "end_time": "2022-08-28T09:59:22.378068",
     "exception": false,
     "start_time": "2022-08-28T09:59:22.342073",
     "status": "completed"
    },
    "tags": []
   },
   "outputs": [
    {
     "data": {
      "text/plain": [
       "Country_x        Country_y  \n",
       "Korea            South Korea    22\n",
       "Slovak Republic  Slovakia       22\n",
       "dtype: int64"
      ]
     },
     "execution_count": 25,
     "metadata": {},
     "output_type": "execute_result"
    }
   ],
   "source": [
    "average_global_sal2[\"test\"] = average_global_sal2[\"Country_x\"] == average_global_sal2[\"Country_y\"]\n",
    "average_global_sal2[average_global_sal2[\"test\"] == False][[\"Country_x\", \"Country_y\"]].value_counts()"
   ]
  },
  {
   "cell_type": "markdown",
   "id": "e60a2f4b",
   "metadata": {
    "papermill": {
     "duration": 0.017323,
     "end_time": "2022-08-28T09:59:22.413090",
     "exception": false,
     "start_time": "2022-08-28T09:59:22.395767",
     "status": "completed"
    },
    "tags": []
   },
   "source": [
    "#### Choosing the relevant variables."
   ]
  },
  {
   "cell_type": "code",
   "execution_count": 26,
   "id": "5ff7f63d",
   "metadata": {
    "execution": {
     "iopub.execute_input": "2022-08-28T09:59:22.449027Z",
     "iopub.status.busy": "2022-08-28T09:59:22.448634Z",
     "iopub.status.idle": "2022-08-28T09:59:22.475776Z",
     "shell.execute_reply": "2022-08-28T09:59:22.474828Z"
    },
    "papermill": {
     "duration": 0.047857,
     "end_time": "2022-08-28T09:59:22.478060",
     "exception": false,
     "start_time": "2022-08-28T09:59:22.430203",
     "status": "completed"
    },
    "tags": []
   },
   "outputs": [],
   "source": [
    "complete_salary = salaries.merge(average_global_sal2, left_on = \"company_location\", right_on = \"Alpha-2 code\")\n",
    "complete_salary.rename(columns = {\"Country_x\": \"Country\"}, inplace = True)\n",
    "completed_salary = complete_salary[[\"work_year\", \"Time\", \"experience_level\", \"employment_type\", \"job_title\", \"salary_in_usd\",\n",
    "                                   \"Value\",\"company_size\", \"Country\"]]"
   ]
  },
  {
   "cell_type": "code",
   "execution_count": 27,
   "id": "be3fe13e",
   "metadata": {
    "execution": {
     "iopub.execute_input": "2022-08-28T09:59:22.514119Z",
     "iopub.status.busy": "2022-08-28T09:59:22.513416Z",
     "iopub.status.idle": "2022-08-28T09:59:22.527611Z",
     "shell.execute_reply": "2022-08-28T09:59:22.526730Z"
    },
    "papermill": {
     "duration": 0.034942,
     "end_time": "2022-08-28T09:59:22.530025",
     "exception": false,
     "start_time": "2022-08-28T09:59:22.495083",
     "status": "completed"
    },
    "tags": []
   },
   "outputs": [
    {
     "data": {
      "text/html": [
       "<div>\n",
       "<style scoped>\n",
       "    .dataframe tbody tr th:only-of-type {\n",
       "        vertical-align: middle;\n",
       "    }\n",
       "\n",
       "    .dataframe tbody tr th {\n",
       "        vertical-align: top;\n",
       "    }\n",
       "\n",
       "    .dataframe thead th {\n",
       "        text-align: right;\n",
       "    }\n",
       "</style>\n",
       "<table border=\"1\" class=\"dataframe\">\n",
       "  <thead>\n",
       "    <tr style=\"text-align: right;\">\n",
       "      <th></th>\n",
       "      <th>work_year</th>\n",
       "      <th>Time</th>\n",
       "      <th>experience_level</th>\n",
       "      <th>employment_type</th>\n",
       "      <th>job_title</th>\n",
       "      <th>salary_in_usd</th>\n",
       "      <th>Value</th>\n",
       "      <th>company_size</th>\n",
       "      <th>Country</th>\n",
       "    </tr>\n",
       "  </thead>\n",
       "  <tbody>\n",
       "    <tr>\n",
       "      <th>0</th>\n",
       "      <td>2020</td>\n",
       "      <td>2000</td>\n",
       "      <td>Mid-level / Intermediate</td>\n",
       "      <td>Full-time</td>\n",
       "      <td>Data Scientist</td>\n",
       "      <td>79833</td>\n",
       "      <td>47710.984747</td>\n",
       "      <td>Large</td>\n",
       "      <td>Germany</td>\n",
       "    </tr>\n",
       "    <tr>\n",
       "      <th>1</th>\n",
       "      <td>2020</td>\n",
       "      <td>2001</td>\n",
       "      <td>Mid-level / Intermediate</td>\n",
       "      <td>Full-time</td>\n",
       "      <td>Data Scientist</td>\n",
       "      <td>79833</td>\n",
       "      <td>48058.921436</td>\n",
       "      <td>Large</td>\n",
       "      <td>Germany</td>\n",
       "    </tr>\n",
       "    <tr>\n",
       "      <th>2</th>\n",
       "      <td>2020</td>\n",
       "      <td>2002</td>\n",
       "      <td>Mid-level / Intermediate</td>\n",
       "      <td>Full-time</td>\n",
       "      <td>Data Scientist</td>\n",
       "      <td>79833</td>\n",
       "      <td>48342.057817</td>\n",
       "      <td>Large</td>\n",
       "      <td>Germany</td>\n",
       "    </tr>\n",
       "    <tr>\n",
       "      <th>3</th>\n",
       "      <td>2020</td>\n",
       "      <td>2003</td>\n",
       "      <td>Mid-level / Intermediate</td>\n",
       "      <td>Full-time</td>\n",
       "      <td>Data Scientist</td>\n",
       "      <td>79833</td>\n",
       "      <td>48502.276451</td>\n",
       "      <td>Large</td>\n",
       "      <td>Germany</td>\n",
       "    </tr>\n",
       "    <tr>\n",
       "      <th>4</th>\n",
       "      <td>2020</td>\n",
       "      <td>2004</td>\n",
       "      <td>Mid-level / Intermediate</td>\n",
       "      <td>Full-time</td>\n",
       "      <td>Data Scientist</td>\n",
       "      <td>79833</td>\n",
       "      <td>48496.021661</td>\n",
       "      <td>Large</td>\n",
       "      <td>Germany</td>\n",
       "    </tr>\n",
       "  </tbody>\n",
       "</table>\n",
       "</div>"
      ],
      "text/plain": [
       "   work_year  Time          experience_level employment_type       job_title  \\\n",
       "0       2020  2000  Mid-level / Intermediate       Full-time  Data Scientist   \n",
       "1       2020  2001  Mid-level / Intermediate       Full-time  Data Scientist   \n",
       "2       2020  2002  Mid-level / Intermediate       Full-time  Data Scientist   \n",
       "3       2020  2003  Mid-level / Intermediate       Full-time  Data Scientist   \n",
       "4       2020  2004  Mid-level / Intermediate       Full-time  Data Scientist   \n",
       "\n",
       "   salary_in_usd         Value company_size  Country  \n",
       "0          79833  47710.984747        Large  Germany  \n",
       "1          79833  48058.921436        Large  Germany  \n",
       "2          79833  48342.057817        Large  Germany  \n",
       "3          79833  48502.276451        Large  Germany  \n",
       "4          79833  48496.021661        Large  Germany  "
      ]
     },
     "execution_count": 27,
     "metadata": {},
     "output_type": "execute_result"
    }
   ],
   "source": [
    "completed_salary.head()"
   ]
  },
  {
   "cell_type": "markdown",
   "id": "90fb5d12",
   "metadata": {
    "execution": {
     "iopub.execute_input": "2022-08-28T09:01:37.965889Z",
     "iopub.status.busy": "2022-08-28T09:01:37.965267Z",
     "iopub.status.idle": "2022-08-28T09:01:37.972355Z",
     "shell.execute_reply": "2022-08-28T09:01:37.971226Z",
     "shell.execute_reply.started": "2022-08-28T09:01:37.965835Z"
    },
    "papermill": {
     "duration": 0.017034,
     "end_time": "2022-08-28T09:59:22.564802",
     "exception": false,
     "start_time": "2022-08-28T09:59:22.547768",
     "status": "completed"
    },
    "tags": []
   },
   "source": [
    "#### Filtering only for years 2020 and 2021 (the latest data from average annual salary dataset)"
   ]
  },
  {
   "cell_type": "code",
   "execution_count": 28,
   "id": "0fbbfa19",
   "metadata": {
    "execution": {
     "iopub.execute_input": "2022-08-28T09:59:22.603562Z",
     "iopub.status.busy": "2022-08-28T09:59:22.602771Z",
     "iopub.status.idle": "2022-08-28T09:59:22.609116Z",
     "shell.execute_reply": "2022-08-28T09:59:22.608238Z"
    },
    "papermill": {
     "duration": 0.028475,
     "end_time": "2022-08-28T09:59:22.611773",
     "exception": false,
     "start_time": "2022-08-28T09:59:22.583298",
     "status": "completed"
    },
    "tags": []
   },
   "outputs": [],
   "source": [
    "completed_salary2 = completed_salary[(completed_salary[\"Time\"] >= 2020) & (completed_salary[\"Time\"] == completed_salary[\"work_year\"])]"
   ]
  },
  {
   "cell_type": "code",
   "execution_count": 29,
   "id": "2623946e",
   "metadata": {
    "execution": {
     "iopub.execute_input": "2022-08-28T09:59:22.648301Z",
     "iopub.status.busy": "2022-08-28T09:59:22.647864Z",
     "iopub.status.idle": "2022-08-28T09:59:22.659437Z",
     "shell.execute_reply": "2022-08-28T09:59:22.658443Z"
    },
    "papermill": {
     "duration": 0.033517,
     "end_time": "2022-08-28T09:59:22.662612",
     "exception": false,
     "start_time": "2022-08-28T09:59:22.629095",
     "status": "completed"
    },
    "tags": []
   },
   "outputs": [
    {
     "name": "stderr",
     "output_type": "stream",
     "text": [
      "/opt/conda/lib/python3.7/site-packages/ipykernel_launcher.py:2: SettingWithCopyWarning:\n",
      "\n",
      "\n",
      "A value is trying to be set on a copy of a slice from a DataFrame.\n",
      "Try using .loc[row_indexer,col_indexer] = value instead\n",
      "\n",
      "See the caveats in the documentation: https://pandas.pydata.org/pandas-docs/stable/user_guide/indexing.html#returning-a-view-versus-a-copy\n",
      "\n"
     ]
    }
   ],
   "source": [
    "#Creating a new variable that categorises whether the employee's salary is above the annual average salary of their particular country.\n",
    "completed_salary2[\"salary_rank\"] = completed_salary2.apply(lambda x: \"Above Average\" if x[\"salary_in_usd\"] > x[\"Value\"] else \"Below Average\", axis = 1).copy()"
   ]
  },
  {
   "cell_type": "markdown",
   "id": "a0845491",
   "metadata": {
    "execution": {
     "iopub.execute_input": "2022-08-28T09:03:22.077057Z",
     "iopub.status.busy": "2022-08-28T09:03:22.075876Z",
     "iopub.status.idle": "2022-08-28T09:03:22.082906Z",
     "shell.execute_reply": "2022-08-28T09:03:22.081512Z",
     "shell.execute_reply.started": "2022-08-28T09:03:22.077012Z"
    },
    "papermill": {
     "duration": 0.01702,
     "end_time": "2022-08-28T09:59:22.698141",
     "exception": false,
     "start_time": "2022-08-28T09:59:22.681121",
     "status": "completed"
    },
    "tags": []
   },
   "source": [
    "#### Grouping the dataset by Country, Experience Level, Salary Rank (Above or Below Average) and Time (Year)."
   ]
  },
  {
   "cell_type": "code",
   "execution_count": 30,
   "id": "851b8746",
   "metadata": {
    "execution": {
     "iopub.execute_input": "2022-08-28T09:59:22.735508Z",
     "iopub.status.busy": "2022-08-28T09:59:22.734683Z",
     "iopub.status.idle": "2022-08-28T09:59:22.746300Z",
     "shell.execute_reply": "2022-08-28T09:59:22.745391Z"
    },
    "papermill": {
     "duration": 0.033368,
     "end_time": "2022-08-28T09:59:22.748902",
     "exception": false,
     "start_time": "2022-08-28T09:59:22.715534",
     "status": "completed"
    },
    "tags": []
   },
   "outputs": [],
   "source": [
    "group_sal = completed_salary2.groupby([ \"Country\", \"experience_level\", \"salary_rank\", \"company_size\", \"Time\"], as_index = False).mean()"
   ]
  },
  {
   "cell_type": "code",
   "execution_count": 31,
   "id": "126fa75e",
   "metadata": {
    "execution": {
     "iopub.execute_input": "2022-08-28T09:59:22.785909Z",
     "iopub.status.busy": "2022-08-28T09:59:22.785472Z",
     "iopub.status.idle": "2022-08-28T09:59:22.794099Z",
     "shell.execute_reply": "2022-08-28T09:59:22.792769Z"
    },
    "papermill": {
     "duration": 0.029979,
     "end_time": "2022-08-28T09:59:22.796346",
     "exception": false,
     "start_time": "2022-08-28T09:59:22.766367",
     "status": "completed"
    },
    "tags": []
   },
   "outputs": [
    {
     "data": {
      "text/plain": [
       "Country              object\n",
       "experience_level     object\n",
       "salary_rank          object\n",
       "company_size         object\n",
       "Time                  int64\n",
       "work_year           float64\n",
       "salary_in_usd       float64\n",
       "Value               float64\n",
       "dtype: object"
      ]
     },
     "execution_count": 31,
     "metadata": {},
     "output_type": "execute_result"
    }
   ],
   "source": [
    "group_sal.dtypes"
   ]
  },
  {
   "cell_type": "markdown",
   "id": "394c6671",
   "metadata": {
    "papermill": {
     "duration": 0.017109,
     "end_time": "2022-08-28T09:59:22.830974",
     "exception": false,
     "start_time": "2022-08-28T09:59:22.813865",
     "status": "completed"
    },
    "tags": []
   },
   "source": [
    "## Analyzing The Difference in Salaries of Respondents And Their Respective Domestic Average Annual Salary For The Year 2020 and 2021 \n",
    "#### Above And Below Average Distribution For Different Experience Levels"
   ]
  },
  {
   "cell_type": "code",
   "execution_count": 32,
   "id": "149a0ae0",
   "metadata": {
    "execution": {
     "iopub.execute_input": "2022-08-28T09:59:22.868370Z",
     "iopub.status.busy": "2022-08-28T09:59:22.867376Z",
     "iopub.status.idle": "2022-08-28T09:59:23.080358Z",
     "shell.execute_reply": "2022-08-28T09:59:23.079148Z"
    },
    "papermill": {
     "duration": 0.234984,
     "end_time": "2022-08-28T09:59:23.083234",
     "exception": false,
     "start_time": "2022-08-28T09:59:22.848250",
     "status": "completed"
    },
    "tags": []
   },
   "outputs": [
    {
     "data": {
      "text/html": [
       "<div>                            <div id=\"c957c4e5-c54e-4a53-8130-02ed37587c41\" class=\"plotly-graph-div\" style=\"height:525px; width:100%;\"></div>            <script type=\"text/javascript\">                require([\"plotly\"], function(Plotly) {                    window.PLOTLYENV=window.PLOTLYENV || {};                                    if (document.getElementById(\"c957c4e5-c54e-4a53-8130-02ed37587c41\")) {                    Plotly.newPlot(                        \"c957c4e5-c54e-4a53-8130-02ed37587c41\",                        [{\"hovertemplate\":\"salary_rank=Above Average<br>company_size=Large<br>Time=2020<br>salary_in_usd=%{x}<br>experience_level=%{y}<br>Value=%{marker.size}<extra></extra>\",\"legendgroup\":\"Above Average\",\"marker\":{\"color\":\"#F8766D\",\"size\":[56807.4919322253,56257.7139461051,46765.1051201413,56014.6493080307,25248.447131527,25866.6004926941,37914.2159417339,48717.8700632575,72806.7540079049,72806.7540079049,72806.7540079049,72806.7540079049],\"sizemode\":\"area\",\"sizeref\":188.26190716564852,\"symbol\":\"circle\"},\"mode\":\"markers\",\"name\":\"Above Average\",\"orientation\":\"h\",\"showlegend\":true,\"x\":[74130.0,117104.0,70139.0,79833.0,47899.0,35735.0,79833.0,112872.0,147000.0,325000.0,104428.57142857143,217500.0],\"xaxis\":\"x\",\"y\":[\"Mid-level / Intermediate\",\"Senior-level / Expert\",\"Mid-level / Intermediate\",\"Mid-level / Intermediate\",\"Senior-level / Expert\",\"Mid-level / Intermediate\",\"Executive-level / Director\",\"Mid-level / Intermediate\",\"Entry-level / Junior\",\"Executive-level / Director\",\"Mid-level / Intermediate\",\"Senior-level / Expert\"],\"yaxis\":\"y\",\"type\":\"scatter\"},{\"hovertemplate\":\"salary_rank=Above Average<br>company_size=Large<br>Time=2021<br>salary_in_usd=%{x}<br>experience_level=%{y}<br>Value=%{marker.size}<extra></extra>\",\"legendgroup\":\"Above Average\",\"marker\":{\"color\":\"#F8766D\",\"size\":[54298.9105675969,54298.9105675969,31722.5175663448,62053.8532442887,49618.7997253419,56663.4653311245,56663.4653311245,56663.4653311245,56663.4653311245,41437.5949714938,61734.023649611,33850.4879841289,33850.4879841289,29719.9861903718,44084.0518868672,39479.9173249867,51723.5956325464,51723.5956325464,51723.5956325464,74737.8453542402,74737.8453542402,74737.8453542402,74737.8453542402],\"sizemode\":\"area\",\"sizeref\":188.26190716564852,\"symbol\":\"circle\"},\"mode\":\"markers\",\"name\":\"Above Average\",\"orientation\":\"h\",\"showlegend\":false,\"x\":[131608.0,138006.25,69999.0,88654.0,102596.0,70332.0,141846.0,90040.66666666667,79197.33333333333,51064.0,69741.0,153667.0,46597.0,60757.0,102839.0,55000.0,96282.5,81977.5,79089.0,152500.0,308750.0,162500.0,180047.61904761905],\"xaxis\":\"x2\",\"y\":[\"Mid-level / Intermediate\",\"Senior-level / Expert\",\"Mid-level / Intermediate\",\"Senior-level / Expert\",\"Senior-level / Expert\",\"Entry-level / Junior\",\"Executive-level / Director\",\"Mid-level / Intermediate\",\"Senior-level / Expert\",\"Mid-level / Intermediate\",\"Mid-level / Intermediate\",\"Executive-level / Director\",\"Mid-level / Intermediate\",\"Senior-level / Expert\",\"Senior-level / Expert\",\"Senior-level / Expert\",\"Entry-level / Junior\",\"Mid-level / Intermediate\",\"Senior-level / Expert\",\"Entry-level / Junior\",\"Executive-level / Director\",\"Mid-level / Intermediate\",\"Senior-level / Expert\"],\"yaxis\":\"y2\",\"type\":\"scatter\"},{\"hovertemplate\":\"salary_rank=Below Average<br>company_size=Large<br>Time=2020<br>salary_in_usd=%{x}<br>experience_level=%{y}<br>Value=%{marker.size}<extra></extra>\",\"legendgroup\":\"Below Average\",\"marker\":{\"color\":\"#A3A500\",\"size\":[46765.1051201413,56014.6493080307,61082.4604077303,72806.7540079049,72806.7540079049],\"sizemode\":\"area\",\"sizeref\":188.26190716564852,\"symbol\":\"circle\"},\"mode\":\"markers\",\"name\":\"Below Average\",\"orientation\":\"h\",\"showlegend\":true,\"x\":[46759.0,54742.0,42000.0,71000.0,68428.0],\"xaxis\":\"x\",\"y\":[\"Mid-level / Intermediate\",\"Entry-level / Junior\",\"Entry-level / Junior\",\"Entry-level / Junior\",\"Senior-level / Expert\"],\"yaxis\":\"y\",\"type\":\"scatter\"},{\"hovertemplate\":\"salary_rank=Below Average<br>company_size=Large<br>Time=2021<br>salary_in_usd=%{x}<br>experience_level=%{y}<br>Value=%{marker.size}<extra></extra>\",\"legendgroup\":\"Below Average\",\"marker\":{\"color\":\"#A3A500\",\"size\":[54298.9105675969,49618.7997253419,75304.7628662594,61734.023649611,33850.4879841289,44084.0518868672,39479.9173249867,69725.5986234094,51723.5956325464,74737.8453542402,74737.8453542402,74737.8453542402],\"sizemode\":\"area\",\"sizeref\":188.26190716564852,\"symbol\":\"circle\"},\"mode\":\"markers\",\"name\":\"Below Average\",\"orientation\":\"h\",\"showlegend\":false,\"x\":[54238.0,36643.0,59102.0,45391.0,28476.0,24823.0,37825.0,5882.0,51519.0,65250.0,43452.8,54094.0],\"xaxis\":\"x2\",\"y\":[\"Mid-level / Intermediate\",\"Entry-level / Junior\",\"Entry-level / Junior\",\"Mid-level / Intermediate\",\"Mid-level / Intermediate\",\"Mid-level / Intermediate\",\"Mid-level / Intermediate\",\"Entry-level / Junior\",\"Mid-level / Intermediate\",\"Entry-level / Junior\",\"Mid-level / Intermediate\",\"Senior-level / Expert\"],\"yaxis\":\"y2\",\"type\":\"scatter\"}],                        {\"template\":{\"data\":{\"barpolar\":[{\"marker\":{\"line\":{\"color\":\"rgb(237,237,237)\",\"width\":0.5},\"pattern\":{\"fillmode\":\"overlay\",\"size\":10,\"solidity\":0.2}},\"type\":\"barpolar\"}],\"bar\":[{\"error_x\":{\"color\":\"rgb(51,51,51)\"},\"error_y\":{\"color\":\"rgb(51,51,51)\"},\"marker\":{\"line\":{\"color\":\"rgb(237,237,237)\",\"width\":0.5},\"pattern\":{\"fillmode\":\"overlay\",\"size\":10,\"solidity\":0.2}},\"type\":\"bar\"}],\"carpet\":[{\"aaxis\":{\"endlinecolor\":\"rgb(51,51,51)\",\"gridcolor\":\"white\",\"linecolor\":\"white\",\"minorgridcolor\":\"white\",\"startlinecolor\":\"rgb(51,51,51)\"},\"baxis\":{\"endlinecolor\":\"rgb(51,51,51)\",\"gridcolor\":\"white\",\"linecolor\":\"white\",\"minorgridcolor\":\"white\",\"startlinecolor\":\"rgb(51,51,51)\"},\"type\":\"carpet\"}],\"choropleth\":[{\"colorbar\":{\"outlinewidth\":0,\"tickcolor\":\"rgb(237,237,237)\",\"ticklen\":6,\"ticks\":\"inside\"},\"type\":\"choropleth\"}],\"contourcarpet\":[{\"colorbar\":{\"outlinewidth\":0,\"tickcolor\":\"rgb(237,237,237)\",\"ticklen\":6,\"ticks\":\"inside\"},\"type\":\"contourcarpet\"}],\"contour\":[{\"colorbar\":{\"outlinewidth\":0,\"tickcolor\":\"rgb(237,237,237)\",\"ticklen\":6,\"ticks\":\"inside\"},\"colorscale\":[[0,\"rgb(20,44,66)\"],[1,\"rgb(90,179,244)\"]],\"type\":\"contour\"}],\"heatmapgl\":[{\"colorbar\":{\"outlinewidth\":0,\"tickcolor\":\"rgb(237,237,237)\",\"ticklen\":6,\"ticks\":\"inside\"},\"colorscale\":[[0,\"rgb(20,44,66)\"],[1,\"rgb(90,179,244)\"]],\"type\":\"heatmapgl\"}],\"heatmap\":[{\"colorbar\":{\"outlinewidth\":0,\"tickcolor\":\"rgb(237,237,237)\",\"ticklen\":6,\"ticks\":\"inside\"},\"colorscale\":[[0,\"rgb(20,44,66)\"],[1,\"rgb(90,179,244)\"]],\"type\":\"heatmap\"}],\"histogram2dcontour\":[{\"colorbar\":{\"outlinewidth\":0,\"tickcolor\":\"rgb(237,237,237)\",\"ticklen\":6,\"ticks\":\"inside\"},\"colorscale\":[[0,\"rgb(20,44,66)\"],[1,\"rgb(90,179,244)\"]],\"type\":\"histogram2dcontour\"}],\"histogram2d\":[{\"colorbar\":{\"outlinewidth\":0,\"tickcolor\":\"rgb(237,237,237)\",\"ticklen\":6,\"ticks\":\"inside\"},\"colorscale\":[[0,\"rgb(20,44,66)\"],[1,\"rgb(90,179,244)\"]],\"type\":\"histogram2d\"}],\"histogram\":[{\"marker\":{\"pattern\":{\"fillmode\":\"overlay\",\"size\":10,\"solidity\":0.2}},\"type\":\"histogram\"}],\"mesh3d\":[{\"colorbar\":{\"outlinewidth\":0,\"tickcolor\":\"rgb(237,237,237)\",\"ticklen\":6,\"ticks\":\"inside\"},\"type\":\"mesh3d\"}],\"parcoords\":[{\"line\":{\"colorbar\":{\"outlinewidth\":0,\"tickcolor\":\"rgb(237,237,237)\",\"ticklen\":6,\"ticks\":\"inside\"}},\"type\":\"parcoords\"}],\"pie\":[{\"automargin\":true,\"type\":\"pie\"}],\"scatter3d\":[{\"line\":{\"colorbar\":{\"outlinewidth\":0,\"tickcolor\":\"rgb(237,237,237)\",\"ticklen\":6,\"ticks\":\"inside\"}},\"marker\":{\"colorbar\":{\"outlinewidth\":0,\"tickcolor\":\"rgb(237,237,237)\",\"ticklen\":6,\"ticks\":\"inside\"}},\"type\":\"scatter3d\"}],\"scattercarpet\":[{\"marker\":{\"colorbar\":{\"outlinewidth\":0,\"tickcolor\":\"rgb(237,237,237)\",\"ticklen\":6,\"ticks\":\"inside\"}},\"type\":\"scattercarpet\"}],\"scattergeo\":[{\"marker\":{\"colorbar\":{\"outlinewidth\":0,\"tickcolor\":\"rgb(237,237,237)\",\"ticklen\":6,\"ticks\":\"inside\"}},\"type\":\"scattergeo\"}],\"scattergl\":[{\"marker\":{\"colorbar\":{\"outlinewidth\":0,\"tickcolor\":\"rgb(237,237,237)\",\"ticklen\":6,\"ticks\":\"inside\"}},\"type\":\"scattergl\"}],\"scattermapbox\":[{\"marker\":{\"colorbar\":{\"outlinewidth\":0,\"tickcolor\":\"rgb(237,237,237)\",\"ticklen\":6,\"ticks\":\"inside\"}},\"type\":\"scattermapbox\"}],\"scatterpolargl\":[{\"marker\":{\"colorbar\":{\"outlinewidth\":0,\"tickcolor\":\"rgb(237,237,237)\",\"ticklen\":6,\"ticks\":\"inside\"}},\"type\":\"scatterpolargl\"}],\"scatterpolar\":[{\"marker\":{\"colorbar\":{\"outlinewidth\":0,\"tickcolor\":\"rgb(237,237,237)\",\"ticklen\":6,\"ticks\":\"inside\"}},\"type\":\"scatterpolar\"}],\"scatter\":[{\"fillpattern\":{\"fillmode\":\"overlay\",\"size\":10,\"solidity\":0.2},\"type\":\"scatter\"}],\"scatterternary\":[{\"marker\":{\"colorbar\":{\"outlinewidth\":0,\"tickcolor\":\"rgb(237,237,237)\",\"ticklen\":6,\"ticks\":\"inside\"}},\"type\":\"scatterternary\"}],\"surface\":[{\"colorbar\":{\"outlinewidth\":0,\"tickcolor\":\"rgb(237,237,237)\",\"ticklen\":6,\"ticks\":\"inside\"},\"colorscale\":[[0,\"rgb(20,44,66)\"],[1,\"rgb(90,179,244)\"]],\"type\":\"surface\"}],\"table\":[{\"cells\":{\"fill\":{\"color\":\"rgb(237,237,237)\"},\"line\":{\"color\":\"white\"}},\"header\":{\"fill\":{\"color\":\"rgb(217,217,217)\"},\"line\":{\"color\":\"white\"}},\"type\":\"table\"}]},\"layout\":{\"annotationdefaults\":{\"arrowhead\":0,\"arrowwidth\":1},\"autotypenumbers\":\"strict\",\"coloraxis\":{\"colorbar\":{\"outlinewidth\":0,\"tickcolor\":\"rgb(237,237,237)\",\"ticklen\":6,\"ticks\":\"inside\"}},\"colorscale\":{\"sequential\":[[0,\"rgb(20,44,66)\"],[1,\"rgb(90,179,244)\"]],\"sequentialminus\":[[0,\"rgb(20,44,66)\"],[1,\"rgb(90,179,244)\"]]},\"colorway\":[\"#F8766D\",\"#A3A500\",\"#00BF7D\",\"#00B0F6\",\"#E76BF3\"],\"font\":{\"color\":\"rgb(51,51,51)\"},\"geo\":{\"bgcolor\":\"white\",\"lakecolor\":\"white\",\"landcolor\":\"rgb(237,237,237)\",\"showlakes\":true,\"showland\":true,\"subunitcolor\":\"white\"},\"hoverlabel\":{\"align\":\"left\"},\"hovermode\":\"closest\",\"paper_bgcolor\":\"white\",\"plot_bgcolor\":\"rgb(237,237,237)\",\"polar\":{\"angularaxis\":{\"gridcolor\":\"white\",\"linecolor\":\"white\",\"showgrid\":true,\"tickcolor\":\"rgb(51,51,51)\",\"ticks\":\"outside\"},\"bgcolor\":\"rgb(237,237,237)\",\"radialaxis\":{\"gridcolor\":\"white\",\"linecolor\":\"white\",\"showgrid\":true,\"tickcolor\":\"rgb(51,51,51)\",\"ticks\":\"outside\"}},\"scene\":{\"xaxis\":{\"backgroundcolor\":\"rgb(237,237,237)\",\"gridcolor\":\"white\",\"gridwidth\":2,\"linecolor\":\"white\",\"showbackground\":true,\"showgrid\":true,\"tickcolor\":\"rgb(51,51,51)\",\"ticks\":\"outside\",\"zerolinecolor\":\"white\"},\"yaxis\":{\"backgroundcolor\":\"rgb(237,237,237)\",\"gridcolor\":\"white\",\"gridwidth\":2,\"linecolor\":\"white\",\"showbackground\":true,\"showgrid\":true,\"tickcolor\":\"rgb(51,51,51)\",\"ticks\":\"outside\",\"zerolinecolor\":\"white\"},\"zaxis\":{\"backgroundcolor\":\"rgb(237,237,237)\",\"gridcolor\":\"white\",\"gridwidth\":2,\"linecolor\":\"white\",\"showbackground\":true,\"showgrid\":true,\"tickcolor\":\"rgb(51,51,51)\",\"ticks\":\"outside\",\"zerolinecolor\":\"white\"}},\"shapedefaults\":{\"fillcolor\":\"black\",\"line\":{\"width\":0},\"opacity\":0.3},\"ternary\":{\"aaxis\":{\"gridcolor\":\"white\",\"linecolor\":\"white\",\"showgrid\":true,\"tickcolor\":\"rgb(51,51,51)\",\"ticks\":\"outside\"},\"baxis\":{\"gridcolor\":\"white\",\"linecolor\":\"white\",\"showgrid\":true,\"tickcolor\":\"rgb(51,51,51)\",\"ticks\":\"outside\"},\"bgcolor\":\"rgb(237,237,237)\",\"caxis\":{\"gridcolor\":\"white\",\"linecolor\":\"white\",\"showgrid\":true,\"tickcolor\":\"rgb(51,51,51)\",\"ticks\":\"outside\"}},\"xaxis\":{\"automargin\":true,\"gridcolor\":\"white\",\"linecolor\":\"white\",\"showgrid\":true,\"tickcolor\":\"rgb(51,51,51)\",\"ticks\":\"outside\",\"title\":{\"standoff\":15},\"zerolinecolor\":\"white\"},\"yaxis\":{\"automargin\":true,\"gridcolor\":\"white\",\"linecolor\":\"white\",\"showgrid\":true,\"tickcolor\":\"rgb(51,51,51)\",\"ticks\":\"outside\",\"title\":{\"standoff\":15},\"zerolinecolor\":\"white\"}}},\"xaxis\":{\"anchor\":\"y\",\"domain\":[0.0,0.49],\"title\":{\"text\":\"Salary (USD)\"},\"showspikes\":true,\"spikemode\":\"across+marker\",\"spikesnap\":\"cursor\",\"showline\":true,\"showgrid\":true},\"yaxis\":{\"anchor\":\"x\",\"domain\":[0.0,1.0],\"title\":{\"text\":\"Experience Level\"},\"categoryorder\":\"array\",\"categoryarray\":[\"Entry-level / Junior\",\"Mid-level / Intermediate\",\"Senior-level / Expert\",\"Executive-level / Director\"]},\"xaxis2\":{\"anchor\":\"y2\",\"domain\":[0.51,1.0],\"matches\":\"x\",\"title\":{\"text\":\"Salary (USD)\"},\"showspikes\":true,\"spikemode\":\"across+marker\",\"spikesnap\":\"cursor\",\"showline\":true,\"showgrid\":true},\"yaxis2\":{\"anchor\":\"x2\",\"domain\":[0.0,1.0],\"matches\":\"y\",\"showticklabels\":false,\"categoryorder\":\"array\",\"categoryarray\":[\"Entry-level / Junior\",\"Mid-level / Intermediate\",\"Senior-level / Expert\",\"Executive-level / Director\"]},\"annotations\":[{\"font\":{},\"showarrow\":false,\"text\":\"Time=2020\",\"x\":0.245,\"xanchor\":\"center\",\"xref\":\"paper\",\"y\":1.0,\"yanchor\":\"bottom\",\"yref\":\"paper\"},{\"font\":{},\"showarrow\":false,\"text\":\"Time=2021\",\"x\":0.755,\"xanchor\":\"center\",\"xref\":\"paper\",\"y\":1.0,\"yanchor\":\"bottom\",\"yref\":\"paper\"}],\"legend\":{\"title\":{\"text\":\"salary_rank\"},\"tracegroupgap\":0,\"itemsizing\":\"constant\"},\"title\":{\"text\":\"Salary Comparison To Country Average\"},\"updatemenus\":[{\"buttons\":[{\"args\":[null,{\"frame\":{\"duration\":500,\"redraw\":false},\"mode\":\"immediate\",\"fromcurrent\":true,\"transition\":{\"duration\":500,\"easing\":\"linear\"}}],\"label\":\"&#9654;\",\"method\":\"animate\"},{\"args\":[[null],{\"frame\":{\"duration\":0,\"redraw\":false},\"mode\":\"immediate\",\"fromcurrent\":true,\"transition\":{\"duration\":0,\"easing\":\"linear\"}}],\"label\":\"&#9724;\",\"method\":\"animate\"}],\"direction\":\"left\",\"pad\":{\"r\":10,\"t\":70},\"showactive\":false,\"type\":\"buttons\",\"x\":0.1,\"xanchor\":\"right\",\"y\":0,\"yanchor\":\"top\"}],\"sliders\":[{\"active\":0,\"currentvalue\":{\"prefix\":\"company_size=\"},\"len\":0.9,\"pad\":{\"b\":10,\"t\":60},\"steps\":[{\"args\":[[\"Large\"],{\"frame\":{\"duration\":0,\"redraw\":false},\"mode\":\"immediate\",\"fromcurrent\":true,\"transition\":{\"duration\":0,\"easing\":\"linear\"}}],\"label\":\"Large\",\"method\":\"animate\"},{\"args\":[[\"Medium\"],{\"frame\":{\"duration\":0,\"redraw\":false},\"mode\":\"immediate\",\"fromcurrent\":true,\"transition\":{\"duration\":0,\"easing\":\"linear\"}}],\"label\":\"Medium\",\"method\":\"animate\"},{\"args\":[[\"Small\"],{\"frame\":{\"duration\":0,\"redraw\":false},\"mode\":\"immediate\",\"fromcurrent\":true,\"transition\":{\"duration\":0,\"easing\":\"linear\"}}],\"label\":\"Small\",\"method\":\"animate\"}],\"x\":0.1,\"xanchor\":\"left\",\"y\":0,\"yanchor\":\"top\"}],\"hovermode\":\"x\"},                        {\"responsive\": true}                    ).then(function(){\n",
       "                            Plotly.addFrames('c957c4e5-c54e-4a53-8130-02ed37587c41', [{\"data\":[{\"hovertemplate\":\"salary_rank=Above Average<br>company_size=Large<br>Time=2020<br>salary_in_usd=%{x}<br>experience_level=%{y}<br>Value=%{marker.size}<extra></extra>\",\"legendgroup\":\"Above Average\",\"marker\":{\"color\":\"#F8766D\",\"size\":[56807.4919322253,56257.7139461051,46765.1051201413,56014.6493080307,25248.447131527,25866.6004926941,37914.2159417339,48717.8700632575,72806.7540079049,72806.7540079049,72806.7540079049,72806.7540079049],\"sizemode\":\"area\",\"sizeref\":188.26190716564852,\"symbol\":\"circle\"},\"mode\":\"markers\",\"name\":\"Above Average\",\"orientation\":\"h\",\"showlegend\":true,\"x\":[74130.0,117104.0,70139.0,79833.0,47899.0,35735.0,79833.0,112872.0,147000.0,325000.0,104428.57142857143,217500.0],\"xaxis\":\"x\",\"y\":[\"Mid-level / Intermediate\",\"Senior-level / Expert\",\"Mid-level / Intermediate\",\"Mid-level / Intermediate\",\"Senior-level / Expert\",\"Mid-level / Intermediate\",\"Executive-level / Director\",\"Mid-level / Intermediate\",\"Entry-level / Junior\",\"Executive-level / Director\",\"Mid-level / Intermediate\",\"Senior-level / Expert\"],\"yaxis\":\"y\",\"type\":\"scatter\"},{\"hovertemplate\":\"salary_rank=Above Average<br>company_size=Large<br>Time=2021<br>salary_in_usd=%{x}<br>experience_level=%{y}<br>Value=%{marker.size}<extra></extra>\",\"legendgroup\":\"Above Average\",\"marker\":{\"color\":\"#F8766D\",\"size\":[54298.9105675969,54298.9105675969,31722.5175663448,62053.8532442887,49618.7997253419,56663.4653311245,56663.4653311245,56663.4653311245,56663.4653311245,41437.5949714938,61734.023649611,33850.4879841289,33850.4879841289,29719.9861903718,44084.0518868672,39479.9173249867,51723.5956325464,51723.5956325464,51723.5956325464,74737.8453542402,74737.8453542402,74737.8453542402,74737.8453542402],\"sizemode\":\"area\",\"sizeref\":188.26190716564852,\"symbol\":\"circle\"},\"mode\":\"markers\",\"name\":\"Above Average\",\"orientation\":\"h\",\"showlegend\":false,\"x\":[131608.0,138006.25,69999.0,88654.0,102596.0,70332.0,141846.0,90040.66666666667,79197.33333333333,51064.0,69741.0,153667.0,46597.0,60757.0,102839.0,55000.0,96282.5,81977.5,79089.0,152500.0,308750.0,162500.0,180047.61904761905],\"xaxis\":\"x2\",\"y\":[\"Mid-level / Intermediate\",\"Senior-level / Expert\",\"Mid-level / Intermediate\",\"Senior-level / Expert\",\"Senior-level / Expert\",\"Entry-level / Junior\",\"Executive-level / Director\",\"Mid-level / Intermediate\",\"Senior-level / Expert\",\"Mid-level / Intermediate\",\"Mid-level / Intermediate\",\"Executive-level / Director\",\"Mid-level / Intermediate\",\"Senior-level / Expert\",\"Senior-level / Expert\",\"Senior-level / Expert\",\"Entry-level / Junior\",\"Mid-level / Intermediate\",\"Senior-level / Expert\",\"Entry-level / Junior\",\"Executive-level / Director\",\"Mid-level / Intermediate\",\"Senior-level / Expert\"],\"yaxis\":\"y2\",\"type\":\"scatter\"},{\"hovertemplate\":\"salary_rank=Below Average<br>company_size=Large<br>Time=2020<br>salary_in_usd=%{x}<br>experience_level=%{y}<br>Value=%{marker.size}<extra></extra>\",\"legendgroup\":\"Below Average\",\"marker\":{\"color\":\"#A3A500\",\"size\":[46765.1051201413,56014.6493080307,61082.4604077303,72806.7540079049,72806.7540079049],\"sizemode\":\"area\",\"sizeref\":188.26190716564852,\"symbol\":\"circle\"},\"mode\":\"markers\",\"name\":\"Below Average\",\"orientation\":\"h\",\"showlegend\":true,\"x\":[46759.0,54742.0,42000.0,71000.0,68428.0],\"xaxis\":\"x\",\"y\":[\"Mid-level / Intermediate\",\"Entry-level / Junior\",\"Entry-level / Junior\",\"Entry-level / Junior\",\"Senior-level / Expert\"],\"yaxis\":\"y\",\"type\":\"scatter\"},{\"hovertemplate\":\"salary_rank=Below Average<br>company_size=Large<br>Time=2021<br>salary_in_usd=%{x}<br>experience_level=%{y}<br>Value=%{marker.size}<extra></extra>\",\"legendgroup\":\"Below Average\",\"marker\":{\"color\":\"#A3A500\",\"size\":[54298.9105675969,49618.7997253419,75304.7628662594,61734.023649611,33850.4879841289,44084.0518868672,39479.9173249867,69725.5986234094,51723.5956325464,74737.8453542402,74737.8453542402,74737.8453542402],\"sizemode\":\"area\",\"sizeref\":188.26190716564852,\"symbol\":\"circle\"},\"mode\":\"markers\",\"name\":\"Below Average\",\"orientation\":\"h\",\"showlegend\":false,\"x\":[54238.0,36643.0,59102.0,45391.0,28476.0,24823.0,37825.0,5882.0,51519.0,65250.0,43452.8,54094.0],\"xaxis\":\"x2\",\"y\":[\"Mid-level / Intermediate\",\"Entry-level / Junior\",\"Entry-level / Junior\",\"Mid-level / Intermediate\",\"Mid-level / Intermediate\",\"Mid-level / Intermediate\",\"Mid-level / Intermediate\",\"Entry-level / Junior\",\"Mid-level / Intermediate\",\"Entry-level / Junior\",\"Mid-level / Intermediate\",\"Senior-level / Expert\"],\"yaxis\":\"y2\",\"type\":\"scatter\"}],\"name\":\"Large\"},{\"data\":[{\"hovertemplate\":\"salary_rank=Above Average<br>company_size=Medium<br>Time=2020<br>salary_in_usd=%{x}<br>experience_level=%{y}<br>Value=%{marker.size}<extra></extra>\",\"legendgroup\":\"Above Average\",\"marker\":{\"color\":\"#F8766D\",\"size\":[56014.6493080307,28853.3243350965,37914.2159417339,48717.8700632575,72806.7540079049,72806.7540079049],\"sizemode\":\"area\",\"sizeref\":188.26190716564852,\"symbol\":\"circle\"},\"mode\":\"markers\",\"name\":\"Above Average\",\"orientation\":\"h\",\"showlegend\":true,\"x\":[148261.0,50180.0,38776.0,109024.0,187030.0,190200.0],\"xaxis\":\"x\",\"y\":[\"Senior-level / Expert\",\"Mid-level / Intermediate\",\"Mid-level / Intermediate\",\"Senior-level / Expert\",\"Mid-level / Intermediate\",\"Senior-level / Expert\"],\"yaxis\":\"y\",\"type\":\"scatter\"},{\"hovertemplate\":\"salary_rank=Above Average<br>company_size=Medium<br>Time=2021<br>salary_in_usd=%{x}<br>experience_level=%{y}<br>Value=%{marker.size}<extra></extra>\",\"legendgroup\":\"Above Average\",\"marker\":{\"color\":\"#F8766D\",\"size\":[58138.5895239434,59601.4990493628,59601.4990493628,54298.9105675969,54298.9105675969,49618.7997253419,49618.7997253419,49618.7997253419,56663.4653311245,56663.4653311245,56663.4653311245,25944.4438887666,42089.1424095793,39479.9173249867,51723.5956325464,74737.8453542402,74737.8453542402,74737.8453542402],\"sizemode\":\"area\",\"sizeref\":188.26190716564852,\"symbol\":\"circle\"},\"mode\":\"markers\",\"name\":\"Above Average\",\"orientation\":\"h\",\"showlegend\":false,\"x\":[61467.0,88654.0,82744.0,63810.0,85744.5,54374.0,62649.0,77684.0,65013.0,130026.0,173762.0,40189.0,119059.0,46809.0,113476.0,86666.66666666667,108985.0,157857.14285714287],\"xaxis\":\"x2\",\"y\":[\"Mid-level / Intermediate\",\"Mid-level / Intermediate\",\"Senior-level / Expert\",\"Mid-level / Intermediate\",\"Senior-level / Expert\",\"Entry-level / Junior\",\"Mid-level / Intermediate\",\"Senior-level / Expert\",\"Entry-level / Junior\",\"Executive-level / Director\",\"Senior-level / Expert\",\"Mid-level / Intermediate\",\"Mid-level / Intermediate\",\"Mid-level / Intermediate\",\"Senior-level / Expert\",\"Entry-level / Junior\",\"Mid-level / Intermediate\",\"Senior-level / Expert\"],\"yaxis\":\"y2\",\"type\":\"scatter\"},{\"hovertemplate\":\"salary_rank=Below Average<br>company_size=Medium<br>Time=2020<br>salary_in_usd=%{x}<br>experience_level=%{y}<br>Value=%{marker.size}<extra></extra>\",\"legendgroup\":\"Below Average\",\"marker\":{\"color\":\"#A3A500\",\"size\":[46765.1051201413,72806.7540079049],\"sizemode\":\"area\",\"sizeref\":188.26190716564852,\"symbol\":\"circle\"},\"mode\":\"markers\",\"name\":\"Below Average\",\"orientation\":\"h\",\"showlegend\":true,\"x\":[39916.0,56000.0],\"xaxis\":\"x\",\"y\":[\"Entry-level / Junior\",\"Mid-level / Intermediate\"],\"yaxis\":\"y\",\"type\":\"scatter\"},{\"hovertemplate\":\"salary_rank=Below Average<br>company_size=Medium<br>Time=2021<br>salary_in_usd=%{x}<br>experience_level=%{y}<br>Value=%{marker.size}<extra></extra>\",\"legendgroup\":\"Below Average\",\"marker\":{\"color\":\"#A3A500\",\"size\":[56663.4653311245,39479.9173249867,51723.5956325464,74737.8453542402,74737.8453542402],\"sizemode\":\"area\",\"sizeref\":188.26190716564852,\"symbol\":\"circle\"},\"mode\":\"markers\",\"name\":\"Below Average\",\"orientation\":\"h\",\"showlegend\":false,\"x\":[24823.0,10354.0,50000.0,44000.0,38400.0],\"xaxis\":\"x2\",\"y\":[\"Entry-level / Junior\",\"Entry-level / Junior\",\"Senior-level / Expert\",\"Entry-level / Junior\",\"Mid-level / Intermediate\"],\"yaxis\":\"y2\",\"type\":\"scatter\"}],\"name\":\"Medium\"},{\"data\":[{\"hovertemplate\":\"salary_rank=Above Average<br>company_size=Small<br>Time=2020<br>salary_in_usd=%{x}<br>experience_level=%{y}<br>Value=%{marker.size}<extra></extra>\",\"legendgroup\":\"Above Average\",\"marker\":{\"color\":\"#F8766D\",\"size\":[56807.4919322253,46765.1051201413,56014.6493080307,56014.6493080307,38193.7306990609,38193.7306990609,18015.7768474965,47307.7114696062,48717.8700632575,48717.8700632575,72806.7540079049,72806.7540079049],\"sizemode\":\"area\",\"sizeref\":188.26190716564852,\"symbol\":\"circle\"},\"mode\":\"markers\",\"name\":\"Above Average\",\"orientation\":\"h\",\"showlegend\":true,\"x\":[91237.0,51321.0,62726.0,59303.0,41689.0,260000.0,33511.0,125000.0,76958.0,114047.0,121500.0,190000.0],\"xaxis\":\"x\",\"y\":[\"Senior-level / Expert\",\"Entry-level / Junior\",\"Entry-level / Junior\",\"Mid-level / Intermediate\",\"Entry-level / Junior\",\"Senior-level / Expert\",\"Senior-level / Expert\",\"Senior-level / Expert\",\"Mid-level / Intermediate\",\"Senior-level / Expert\",\"Entry-level / Junior\",\"Senior-level / Expert\"],\"yaxis\":\"y\",\"type\":\"scatter\"},{\"hovertemplate\":\"salary_rank=Above Average<br>company_size=Small<br>Time=2021<br>salary_in_usd=%{x}<br>experience_level=%{y}<br>Value=%{marker.size}<extra></extra>\",\"legendgroup\":\"Above Average\",\"marker\":{\"color\":\"#F8766D\",\"size\":[54298.9105675969,49618.7997253419,56663.4653311245,40848.561015634,40848.561015634,39479.9173249867,39479.9173249867,51723.5956325464,51723.5956325464,74737.8453542402,74737.8453542402,74737.8453542402,74737.8453542402],\"sizemode\":\"area\",\"sizeref\":188.26190716564852,\"symbol\":\"circle\"},\"mode\":\"markers\",\"name\":\"Above Average\",\"orientation\":\"h\",\"showlegend\":false,\"x\":[87738.0,56738.0,80916.5,71691.66666666667,168000.0,69741.0,47282.0,66022.0,89996.5,96000.0,416000.0,96082.0,148500.0],\"xaxis\":\"x2\",\"y\":[\"Senior-level / Expert\",\"Mid-level / Intermediate\",\"Entry-level / Junior\",\"Mid-level / Intermediate\",\"Senior-level / Expert\",\"Executive-level / Director\",\"Mid-level / Intermediate\",\"Mid-level / Intermediate\",\"Senior-level / Expert\",\"Entry-level / Junior\",\"Executive-level / Director\",\"Mid-level / Intermediate\",\"Senior-level / Expert\"],\"yaxis\":\"y2\",\"type\":\"scatter\"},{\"hovertemplate\":\"salary_rank=Below Average<br>company_size=Small<br>Time=2020<br>salary_in_usd=%{x}<br>experience_level=%{y}<br>Value=%{marker.size}<extra></extra>\",\"legendgroup\":\"Below Average\",\"marker\":{\"color\":\"#A3A500\",\"size\":[60417.8084401457,46765.1051201413,56014.6493080307,38686.410942498,70711.862705106,72806.7540079049,72806.7540079049],\"sizemode\":\"area\",\"sizeref\":188.26190716564852,\"symbol\":\"circle\"},\"mode\":\"markers\",\"name\":\"Below Average\",\"orientation\":\"h\",\"showlegend\":true,\"x\":[45896.0,42197.0,32617.0,21669.0,62726.0,45760.0,60000.0],\"xaxis\":\"x\",\"y\":[\"Entry-level / Junior\",\"Mid-level / Intermediate\",\"Entry-level / Junior\",\"Entry-level / Junior\",\"Mid-level / Intermediate\",\"Mid-level / Intermediate\",\"Senior-level / Expert\"],\"yaxis\":\"y\",\"type\":\"scatter\"},{\"hovertemplate\":\"salary_rank=Below Average<br>company_size=Small<br>Time=2021<br>salary_in_usd=%{x}<br>experience_level=%{y}<br>Value=%{marker.size}<extra></extra>\",\"legendgroup\":\"Below Average\",\"marker\":{\"color\":\"#A3A500\",\"size\":[62053.8532442887,56663.4653311245,16610.0833870587,74737.8453542402,74737.8453542402,74737.8453542402],\"sizemode\":\"area\",\"sizeref\":188.26190716564852,\"symbol\":\"circle\"},\"mode\":\"markers\",\"name\":\"Below Average\",\"orientation\":\"h\",\"showlegend\":false,\"x\":[28609.0,25532.0,2859.0,42333.333333333336,5679.0,50000.0],\"xaxis\":\"x2\",\"y\":[\"Entry-level / Junior\",\"Mid-level / Intermediate\",\"Mid-level / Intermediate\",\"Entry-level / Junior\",\"Mid-level / Intermediate\",\"Senior-level / Expert\"],\"yaxis\":\"y2\",\"type\":\"scatter\"}],\"name\":\"Small\"}]);\n",
       "                        }).then(function(){\n",
       "                            \n",
       "var gd = document.getElementById('c957c4e5-c54e-4a53-8130-02ed37587c41');\n",
       "var x = new MutationObserver(function (mutations, observer) {{\n",
       "        var display = window.getComputedStyle(gd).display;\n",
       "        if (!display || display === 'none') {{\n",
       "            console.log([gd, 'removed!']);\n",
       "            Plotly.purge(gd);\n",
       "            observer.disconnect();\n",
       "        }}\n",
       "}});\n",
       "\n",
       "// Listen for the removal of the full notebook cells\n",
       "var notebookContainer = gd.closest('#notebook-container');\n",
       "if (notebookContainer) {{\n",
       "    x.observe(notebookContainer, {childList: true});\n",
       "}}\n",
       "\n",
       "// Listen for the clearing of the current output cell\n",
       "var outputEl = gd.closest('.output');\n",
       "if (outputEl) {{\n",
       "    x.observe(outputEl, {childList: true});\n",
       "}}\n",
       "\n",
       "                        })                };                });            </script>        </div>"
      ]
     },
     "metadata": {},
     "output_type": "display_data"
    }
   ],
   "source": [
    "fig8 = px.scatter(group_sal, x = \"salary_in_usd\", \n",
    "                  y = \"experience_level\",template = \"ggplot2\",\n",
    "                  color = \"salary_rank\", size = \"Value\",\n",
    "                  facet_col = \"Time\",\n",
    "                  animation_frame = \"company_size\",\n",
    "                  title = \"Salary Comparison To Country Average\")\n",
    "# fig1.update_yaxes(type = \"category\")\n",
    "\n",
    "fig8.update_xaxes(showspikes = True,\n",
    "                  spikemode  = 'across+marker',\n",
    "                  spikesnap = 'cursor',\n",
    "                  showline=True,\n",
    "                  showgrid=True)\n",
    "\n",
    "for axis in fig8.layout:\n",
    "    if type(fig8.layout[axis]) == go.layout.XAxis:\n",
    "        fig8.layout[axis].title.text = 'Salary (USD)'\n",
    "        \n",
    "fig8.update_yaxes(categoryorder='array', \n",
    "                  categoryarray= [\"Entry-level / Junior\", \"Mid-level / Intermediate\", \"Senior-level / Expert\", \"Executive-level / Director\"])\n",
    "\n",
    "fig8.update_layout(hovermode = \"x\",\n",
    "                   yaxis_title = \"Experience Level\")\n",
    "\n",
    "fig8.show()"
   ]
  },
  {
   "cell_type": "markdown",
   "id": "1760e76b",
   "metadata": {
    "papermill": {
     "duration": 0.017847,
     "end_time": "2022-08-28T09:59:23.119267",
     "exception": false,
     "start_time": "2022-08-28T09:59:23.101420",
     "status": "completed"
    },
    "tags": []
   },
   "source": [
    "## WORK-IN-PROGRESS\n",
    "#### Title says it all."
   ]
  },
  {
   "cell_type": "code",
   "execution_count": 33,
   "id": "750a7bef",
   "metadata": {
    "execution": {
     "iopub.execute_input": "2022-08-28T09:59:23.158798Z",
     "iopub.status.busy": "2022-08-28T09:59:23.157462Z",
     "iopub.status.idle": "2022-08-28T09:59:23.234738Z",
     "shell.execute_reply": "2022-08-28T09:59:23.233368Z"
    },
    "papermill": {
     "duration": 0.099658,
     "end_time": "2022-08-28T09:59:23.237504",
     "exception": false,
     "start_time": "2022-08-28T09:59:23.137846",
     "status": "completed"
    },
    "tags": []
   },
   "outputs": [
    {
     "data": {
      "text/html": [
       "<div>                            <div id=\"b9bd5403-1cc6-483b-9f3e-9c73931b5018\" class=\"plotly-graph-div\" style=\"height:525px; width:100%;\"></div>            <script type=\"text/javascript\">                require([\"plotly\"], function(Plotly) {                    window.PLOTLYENV=window.PLOTLYENV || {};                                    if (document.getElementById(\"b9bd5403-1cc6-483b-9f3e-9c73931b5018\")) {                    Plotly.newPlot(                        \"b9bd5403-1cc6-483b-9f3e-9c73931b5018\",                        [{\"labels\":[\"Above Average\",\"Above Average\",\"Above Average\",\"Below Average\",\"Above Average\",\"Below Average\",\"Above Average\",\"Below Average\",\"Below Average\",\"Above Average\",\"Below Average\",\"Below Average\",\"Above Average\",\"Above Average\",\"Above Average\",\"Above Average\",\"Above Average\",\"Below Average\",\"Above Average\",\"Above Average\",\"Below Average\",\"Above Average\",\"Below Average\",\"Above Average\",\"Above Average\",\"Above Average\",\"Above Average\",\"Above Average\",\"Above Average\",\"Above Average\",\"Above Average\",\"Above Average\",\"Above Average\",\"Below Average\",\"Above Average\",\"Above Average\",\"Above Average\",\"Below Average\",\"Below Average\",\"Above Average\",\"Above Average\",\"Above Average\",\"Below Average\",\"Below Average\"],\"name\":\"2020 Ratio\",\"type\":\"pie\",\"domain\":{\"x\":[0.0,0.45],\"y\":[0.0,1.0]},\"hole\":0.4,\"hoverinfo\":\"label+percent+name\"},{\"labels\":[\"Above Average\",\"Above Average\",\"Above Average\",\"Above Average\",\"Above Average\",\"Below Average\",\"Above Average\",\"Above Average\",\"Above Average\",\"Above Average\",\"Below Average\",\"Above Average\",\"Above Average\",\"Below Average\",\"Above Average\",\"Above Average\",\"Above Average\",\"Above Average\",\"Above Average\",\"Above Average\",\"Above Average\",\"Below Average\",\"Above Average\",\"Above Average\",\"Above Average\",\"Below Average\",\"Above Average\",\"Above Average\",\"Above Average\",\"Above Average\",\"Above Average\",\"Above Average\",\"Above Average\",\"Below Average\",\"Below Average\",\"Above Average\",\"Below Average\",\"Above Average\",\"Above Average\",\"Below Average\",\"Above Average\",\"Below Average\",\"Above Average\",\"Below Average\",\"Above Average\",\"Above Average\",\"Above Average\",\"Below Average\",\"Above Average\",\"Below Average\",\"Above Average\",\"Above Average\",\"Above Average\",\"Below Average\",\"Above Average\",\"Above Average\",\"Above Average\",\"Below Average\",\"Above Average\",\"Above Average\",\"Above Average\",\"Below Average\",\"Below Average\",\"Below Average\",\"Above Average\",\"Above Average\",\"Above Average\",\"Above Average\",\"Above Average\",\"Below Average\",\"Below Average\",\"Below Average\",\"Above Average\",\"Above Average\",\"Above Average\",\"Below Average\",\"Below Average\"],\"name\":\"2021 Ratio\",\"type\":\"pie\",\"domain\":{\"x\":[0.55,1.0],\"y\":[0.0,1.0]},\"hole\":0.4,\"hoverinfo\":\"label+percent+name\"}],                        {\"template\":{\"data\":{\"barpolar\":[{\"marker\":{\"line\":{\"color\":\"rgb(234,234,242)\",\"width\":0.5},\"pattern\":{\"fillmode\":\"overlay\",\"size\":10,\"solidity\":0.2}},\"type\":\"barpolar\"}],\"bar\":[{\"error_x\":{\"color\":\"rgb(36,36,36)\"},\"error_y\":{\"color\":\"rgb(36,36,36)\"},\"marker\":{\"line\":{\"color\":\"rgb(234,234,242)\",\"width\":0.5},\"pattern\":{\"fillmode\":\"overlay\",\"size\":10,\"solidity\":0.2}},\"type\":\"bar\"}],\"carpet\":[{\"aaxis\":{\"endlinecolor\":\"rgb(36,36,36)\",\"gridcolor\":\"white\",\"linecolor\":\"white\",\"minorgridcolor\":\"white\",\"startlinecolor\":\"rgb(36,36,36)\"},\"baxis\":{\"endlinecolor\":\"rgb(36,36,36)\",\"gridcolor\":\"white\",\"linecolor\":\"white\",\"minorgridcolor\":\"white\",\"startlinecolor\":\"rgb(36,36,36)\"},\"type\":\"carpet\"}],\"choropleth\":[{\"colorbar\":{\"outlinewidth\":0,\"tickcolor\":\"rgb(36,36,36)\",\"ticklen\":8,\"ticks\":\"outside\",\"tickwidth\":2},\"type\":\"choropleth\"}],\"contourcarpet\":[{\"colorbar\":{\"outlinewidth\":0,\"tickcolor\":\"rgb(36,36,36)\",\"ticklen\":8,\"ticks\":\"outside\",\"tickwidth\":2},\"type\":\"contourcarpet\"}],\"contour\":[{\"colorbar\":{\"outlinewidth\":0,\"tickcolor\":\"rgb(36,36,36)\",\"ticklen\":8,\"ticks\":\"outside\",\"tickwidth\":2},\"colorscale\":[[0.0,\"rgb(2,4,25)\"],[0.06274509803921569,\"rgb(24,15,41)\"],[0.12549019607843137,\"rgb(47,23,57)\"],[0.18823529411764706,\"rgb(71,28,72)\"],[0.25098039215686274,\"rgb(97,30,82)\"],[0.3137254901960784,\"rgb(123,30,89)\"],[0.3764705882352941,\"rgb(150,27,91)\"],[0.4392156862745098,\"rgb(177,22,88)\"],[0.5019607843137255,\"rgb(203,26,79)\"],[0.5647058823529412,\"rgb(223,47,67)\"],[0.6274509803921569,\"rgb(236,76,61)\"],[0.6901960784313725,\"rgb(242,107,73)\"],[0.7529411764705882,\"rgb(244,135,95)\"],[0.8156862745098039,\"rgb(245,162,122)\"],[0.8784313725490196,\"rgb(246,188,153)\"],[0.9411764705882353,\"rgb(247,212,187)\"],[1.0,\"rgb(250,234,220)\"]],\"type\":\"contour\"}],\"heatmapgl\":[{\"colorbar\":{\"outlinewidth\":0,\"tickcolor\":\"rgb(36,36,36)\",\"ticklen\":8,\"ticks\":\"outside\",\"tickwidth\":2},\"colorscale\":[[0.0,\"rgb(2,4,25)\"],[0.06274509803921569,\"rgb(24,15,41)\"],[0.12549019607843137,\"rgb(47,23,57)\"],[0.18823529411764706,\"rgb(71,28,72)\"],[0.25098039215686274,\"rgb(97,30,82)\"],[0.3137254901960784,\"rgb(123,30,89)\"],[0.3764705882352941,\"rgb(150,27,91)\"],[0.4392156862745098,\"rgb(177,22,88)\"],[0.5019607843137255,\"rgb(203,26,79)\"],[0.5647058823529412,\"rgb(223,47,67)\"],[0.6274509803921569,\"rgb(236,76,61)\"],[0.6901960784313725,\"rgb(242,107,73)\"],[0.7529411764705882,\"rgb(244,135,95)\"],[0.8156862745098039,\"rgb(245,162,122)\"],[0.8784313725490196,\"rgb(246,188,153)\"],[0.9411764705882353,\"rgb(247,212,187)\"],[1.0,\"rgb(250,234,220)\"]],\"type\":\"heatmapgl\"}],\"heatmap\":[{\"colorbar\":{\"outlinewidth\":0,\"tickcolor\":\"rgb(36,36,36)\",\"ticklen\":8,\"ticks\":\"outside\",\"tickwidth\":2},\"colorscale\":[[0.0,\"rgb(2,4,25)\"],[0.06274509803921569,\"rgb(24,15,41)\"],[0.12549019607843137,\"rgb(47,23,57)\"],[0.18823529411764706,\"rgb(71,28,72)\"],[0.25098039215686274,\"rgb(97,30,82)\"],[0.3137254901960784,\"rgb(123,30,89)\"],[0.3764705882352941,\"rgb(150,27,91)\"],[0.4392156862745098,\"rgb(177,22,88)\"],[0.5019607843137255,\"rgb(203,26,79)\"],[0.5647058823529412,\"rgb(223,47,67)\"],[0.6274509803921569,\"rgb(236,76,61)\"],[0.6901960784313725,\"rgb(242,107,73)\"],[0.7529411764705882,\"rgb(244,135,95)\"],[0.8156862745098039,\"rgb(245,162,122)\"],[0.8784313725490196,\"rgb(246,188,153)\"],[0.9411764705882353,\"rgb(247,212,187)\"],[1.0,\"rgb(250,234,220)\"]],\"type\":\"heatmap\"}],\"histogram2dcontour\":[{\"colorbar\":{\"outlinewidth\":0,\"tickcolor\":\"rgb(36,36,36)\",\"ticklen\":8,\"ticks\":\"outside\",\"tickwidth\":2},\"colorscale\":[[0.0,\"rgb(2,4,25)\"],[0.06274509803921569,\"rgb(24,15,41)\"],[0.12549019607843137,\"rgb(47,23,57)\"],[0.18823529411764706,\"rgb(71,28,72)\"],[0.25098039215686274,\"rgb(97,30,82)\"],[0.3137254901960784,\"rgb(123,30,89)\"],[0.3764705882352941,\"rgb(150,27,91)\"],[0.4392156862745098,\"rgb(177,22,88)\"],[0.5019607843137255,\"rgb(203,26,79)\"],[0.5647058823529412,\"rgb(223,47,67)\"],[0.6274509803921569,\"rgb(236,76,61)\"],[0.6901960784313725,\"rgb(242,107,73)\"],[0.7529411764705882,\"rgb(244,135,95)\"],[0.8156862745098039,\"rgb(245,162,122)\"],[0.8784313725490196,\"rgb(246,188,153)\"],[0.9411764705882353,\"rgb(247,212,187)\"],[1.0,\"rgb(250,234,220)\"]],\"type\":\"histogram2dcontour\"}],\"histogram2d\":[{\"colorbar\":{\"outlinewidth\":0,\"tickcolor\":\"rgb(36,36,36)\",\"ticklen\":8,\"ticks\":\"outside\",\"tickwidth\":2},\"colorscale\":[[0.0,\"rgb(2,4,25)\"],[0.06274509803921569,\"rgb(24,15,41)\"],[0.12549019607843137,\"rgb(47,23,57)\"],[0.18823529411764706,\"rgb(71,28,72)\"],[0.25098039215686274,\"rgb(97,30,82)\"],[0.3137254901960784,\"rgb(123,30,89)\"],[0.3764705882352941,\"rgb(150,27,91)\"],[0.4392156862745098,\"rgb(177,22,88)\"],[0.5019607843137255,\"rgb(203,26,79)\"],[0.5647058823529412,\"rgb(223,47,67)\"],[0.6274509803921569,\"rgb(236,76,61)\"],[0.6901960784313725,\"rgb(242,107,73)\"],[0.7529411764705882,\"rgb(244,135,95)\"],[0.8156862745098039,\"rgb(245,162,122)\"],[0.8784313725490196,\"rgb(246,188,153)\"],[0.9411764705882353,\"rgb(247,212,187)\"],[1.0,\"rgb(250,234,220)\"]],\"type\":\"histogram2d\"}],\"histogram\":[{\"marker\":{\"pattern\":{\"fillmode\":\"overlay\",\"size\":10,\"solidity\":0.2}},\"type\":\"histogram\"}],\"mesh3d\":[{\"colorbar\":{\"outlinewidth\":0,\"tickcolor\":\"rgb(36,36,36)\",\"ticklen\":8,\"ticks\":\"outside\",\"tickwidth\":2},\"type\":\"mesh3d\"}],\"parcoords\":[{\"line\":{\"colorbar\":{\"outlinewidth\":0,\"tickcolor\":\"rgb(36,36,36)\",\"ticklen\":8,\"ticks\":\"outside\",\"tickwidth\":2}},\"type\":\"parcoords\"}],\"pie\":[{\"automargin\":true,\"type\":\"pie\"}],\"scatter3d\":[{\"line\":{\"colorbar\":{\"outlinewidth\":0,\"tickcolor\":\"rgb(36,36,36)\",\"ticklen\":8,\"ticks\":\"outside\",\"tickwidth\":2}},\"marker\":{\"colorbar\":{\"outlinewidth\":0,\"tickcolor\":\"rgb(36,36,36)\",\"ticklen\":8,\"ticks\":\"outside\",\"tickwidth\":2}},\"type\":\"scatter3d\"}],\"scattercarpet\":[{\"marker\":{\"colorbar\":{\"outlinewidth\":0,\"tickcolor\":\"rgb(36,36,36)\",\"ticklen\":8,\"ticks\":\"outside\",\"tickwidth\":2}},\"type\":\"scattercarpet\"}],\"scattergeo\":[{\"marker\":{\"colorbar\":{\"outlinewidth\":0,\"tickcolor\":\"rgb(36,36,36)\",\"ticklen\":8,\"ticks\":\"outside\",\"tickwidth\":2}},\"type\":\"scattergeo\"}],\"scattergl\":[{\"marker\":{\"colorbar\":{\"outlinewidth\":0,\"tickcolor\":\"rgb(36,36,36)\",\"ticklen\":8,\"ticks\":\"outside\",\"tickwidth\":2}},\"type\":\"scattergl\"}],\"scattermapbox\":[{\"marker\":{\"colorbar\":{\"outlinewidth\":0,\"tickcolor\":\"rgb(36,36,36)\",\"ticklen\":8,\"ticks\":\"outside\",\"tickwidth\":2}},\"type\":\"scattermapbox\"}],\"scatterpolargl\":[{\"marker\":{\"colorbar\":{\"outlinewidth\":0,\"tickcolor\":\"rgb(36,36,36)\",\"ticklen\":8,\"ticks\":\"outside\",\"tickwidth\":2}},\"type\":\"scatterpolargl\"}],\"scatterpolar\":[{\"marker\":{\"colorbar\":{\"outlinewidth\":0,\"tickcolor\":\"rgb(36,36,36)\",\"ticklen\":8,\"ticks\":\"outside\",\"tickwidth\":2}},\"type\":\"scatterpolar\"}],\"scatter\":[{\"fillpattern\":{\"fillmode\":\"overlay\",\"size\":10,\"solidity\":0.2},\"type\":\"scatter\"}],\"scatterternary\":[{\"marker\":{\"colorbar\":{\"outlinewidth\":0,\"tickcolor\":\"rgb(36,36,36)\",\"ticklen\":8,\"ticks\":\"outside\",\"tickwidth\":2}},\"type\":\"scatterternary\"}],\"surface\":[{\"colorbar\":{\"outlinewidth\":0,\"tickcolor\":\"rgb(36,36,36)\",\"ticklen\":8,\"ticks\":\"outside\",\"tickwidth\":2},\"colorscale\":[[0.0,\"rgb(2,4,25)\"],[0.06274509803921569,\"rgb(24,15,41)\"],[0.12549019607843137,\"rgb(47,23,57)\"],[0.18823529411764706,\"rgb(71,28,72)\"],[0.25098039215686274,\"rgb(97,30,82)\"],[0.3137254901960784,\"rgb(123,30,89)\"],[0.3764705882352941,\"rgb(150,27,91)\"],[0.4392156862745098,\"rgb(177,22,88)\"],[0.5019607843137255,\"rgb(203,26,79)\"],[0.5647058823529412,\"rgb(223,47,67)\"],[0.6274509803921569,\"rgb(236,76,61)\"],[0.6901960784313725,\"rgb(242,107,73)\"],[0.7529411764705882,\"rgb(244,135,95)\"],[0.8156862745098039,\"rgb(245,162,122)\"],[0.8784313725490196,\"rgb(246,188,153)\"],[0.9411764705882353,\"rgb(247,212,187)\"],[1.0,\"rgb(250,234,220)\"]],\"type\":\"surface\"}],\"table\":[{\"cells\":{\"fill\":{\"color\":\"rgb(231,231,240)\"},\"line\":{\"color\":\"white\"}},\"header\":{\"fill\":{\"color\":\"rgb(183,183,191)\"},\"line\":{\"color\":\"white\"}},\"type\":\"table\"}]},\"layout\":{\"annotationdefaults\":{\"arrowcolor\":\"rgb(67,103,167)\"},\"autotypenumbers\":\"strict\",\"coloraxis\":{\"colorbar\":{\"outlinewidth\":0,\"tickcolor\":\"rgb(36,36,36)\",\"ticklen\":8,\"ticks\":\"outside\",\"tickwidth\":2}},\"colorscale\":{\"sequential\":[[0.0,\"rgb(2,4,25)\"],[0.06274509803921569,\"rgb(24,15,41)\"],[0.12549019607843137,\"rgb(47,23,57)\"],[0.18823529411764706,\"rgb(71,28,72)\"],[0.25098039215686274,\"rgb(97,30,82)\"],[0.3137254901960784,\"rgb(123,30,89)\"],[0.3764705882352941,\"rgb(150,27,91)\"],[0.4392156862745098,\"rgb(177,22,88)\"],[0.5019607843137255,\"rgb(203,26,79)\"],[0.5647058823529412,\"rgb(223,47,67)\"],[0.6274509803921569,\"rgb(236,76,61)\"],[0.6901960784313725,\"rgb(242,107,73)\"],[0.7529411764705882,\"rgb(244,135,95)\"],[0.8156862745098039,\"rgb(245,162,122)\"],[0.8784313725490196,\"rgb(246,188,153)\"],[0.9411764705882353,\"rgb(247,212,187)\"],[1.0,\"rgb(250,234,220)\"]],\"sequentialminus\":[[0.0,\"rgb(2,4,25)\"],[0.06274509803921569,\"rgb(24,15,41)\"],[0.12549019607843137,\"rgb(47,23,57)\"],[0.18823529411764706,\"rgb(71,28,72)\"],[0.25098039215686274,\"rgb(97,30,82)\"],[0.3137254901960784,\"rgb(123,30,89)\"],[0.3764705882352941,\"rgb(150,27,91)\"],[0.4392156862745098,\"rgb(177,22,88)\"],[0.5019607843137255,\"rgb(203,26,79)\"],[0.5647058823529412,\"rgb(223,47,67)\"],[0.6274509803921569,\"rgb(236,76,61)\"],[0.6901960784313725,\"rgb(242,107,73)\"],[0.7529411764705882,\"rgb(244,135,95)\"],[0.8156862745098039,\"rgb(245,162,122)\"],[0.8784313725490196,\"rgb(246,188,153)\"],[0.9411764705882353,\"rgb(247,212,187)\"],[1.0,\"rgb(250,234,220)\"]]},\"colorway\":[\"rgb(76,114,176)\",\"rgb(221,132,82)\",\"rgb(85,168,104)\",\"rgb(196,78,82)\",\"rgb(129,114,179)\",\"rgb(147,120,96)\",\"rgb(218,139,195)\",\"rgb(140,140,140)\",\"rgb(204,185,116)\",\"rgb(100,181,205)\"],\"font\":{\"color\":\"rgb(36,36,36)\"},\"geo\":{\"bgcolor\":\"white\",\"lakecolor\":\"white\",\"landcolor\":\"rgb(234,234,242)\",\"showlakes\":true,\"showland\":true,\"subunitcolor\":\"white\"},\"hoverlabel\":{\"align\":\"left\"},\"hovermode\":\"closest\",\"paper_bgcolor\":\"white\",\"plot_bgcolor\":\"rgb(234,234,242)\",\"polar\":{\"angularaxis\":{\"gridcolor\":\"white\",\"linecolor\":\"white\",\"showgrid\":true,\"ticks\":\"\"},\"bgcolor\":\"rgb(234,234,242)\",\"radialaxis\":{\"gridcolor\":\"white\",\"linecolor\":\"white\",\"showgrid\":true,\"ticks\":\"\"}},\"scene\":{\"xaxis\":{\"backgroundcolor\":\"rgb(234,234,242)\",\"gridcolor\":\"white\",\"gridwidth\":2,\"linecolor\":\"white\",\"showbackground\":true,\"showgrid\":true,\"ticks\":\"\",\"zerolinecolor\":\"white\"},\"yaxis\":{\"backgroundcolor\":\"rgb(234,234,242)\",\"gridcolor\":\"white\",\"gridwidth\":2,\"linecolor\":\"white\",\"showbackground\":true,\"showgrid\":true,\"ticks\":\"\",\"zerolinecolor\":\"white\"},\"zaxis\":{\"backgroundcolor\":\"rgb(234,234,242)\",\"gridcolor\":\"white\",\"gridwidth\":2,\"linecolor\":\"white\",\"showbackground\":true,\"showgrid\":true,\"ticks\":\"\",\"zerolinecolor\":\"white\"}},\"shapedefaults\":{\"fillcolor\":\"rgb(67,103,167)\",\"line\":{\"width\":0},\"opacity\":0.5},\"ternary\":{\"aaxis\":{\"gridcolor\":\"white\",\"linecolor\":\"white\",\"showgrid\":true,\"ticks\":\"\"},\"baxis\":{\"gridcolor\":\"white\",\"linecolor\":\"white\",\"showgrid\":true,\"ticks\":\"\"},\"bgcolor\":\"rgb(234,234,242)\",\"caxis\":{\"gridcolor\":\"white\",\"linecolor\":\"white\",\"showgrid\":true,\"ticks\":\"\"}},\"xaxis\":{\"automargin\":true,\"gridcolor\":\"white\",\"linecolor\":\"white\",\"showgrid\":true,\"ticks\":\"\",\"title\":{\"standoff\":15},\"zerolinecolor\":\"white\"},\"yaxis\":{\"automargin\":true,\"gridcolor\":\"white\",\"linecolor\":\"white\",\"showgrid\":true,\"ticks\":\"\",\"title\":{\"standoff\":15},\"zerolinecolor\":\"white\"}}},\"title\":{\"text\":\"Data Science Salaries Above Annual Average Salary For Years 2020 and 2021\"},\"annotations\":[{\"showarrow\":false,\"text\":\"2020\",\"x\":0.2,\"y\":0.5,\"font\":{\"size\":20,\"color\":\"#72AACA\"}},{\"showarrow\":false,\"text\":\"2021\",\"x\":0.8,\"y\":0.5,\"font\":{\"size\":20,\"color\":\"#C6CD60\"}}]},                        {\"responsive\": true}                    ).then(function(){\n",
       "                            \n",
       "var gd = document.getElementById('b9bd5403-1cc6-483b-9f3e-9c73931b5018');\n",
       "var x = new MutationObserver(function (mutations, observer) {{\n",
       "        var display = window.getComputedStyle(gd).display;\n",
       "        if (!display || display === 'none') {{\n",
       "            console.log([gd, 'removed!']);\n",
       "            Plotly.purge(gd);\n",
       "            observer.disconnect();\n",
       "        }}\n",
       "}});\n",
       "\n",
       "// Listen for the removal of the full notebook cells\n",
       "var notebookContainer = gd.closest('#notebook-container');\n",
       "if (notebookContainer) {{\n",
       "    x.observe(notebookContainer, {childList: true});\n",
       "}}\n",
       "\n",
       "// Listen for the clearing of the current output cell\n",
       "var outputEl = gd.closest('.output');\n",
       "if (outputEl) {{\n",
       "    x.observe(outputEl, {childList: true});\n",
       "}}\n",
       "\n",
       "                        })                };                });            </script>        </div>"
      ]
     },
     "metadata": {},
     "output_type": "display_data"
    }
   ],
   "source": [
    "\n",
    "fig7 = make_subplots(rows=1, cols=2, specs=[[{'type':'domain'}, {'type':'domain'}]])\n",
    "fig7.add_trace(go.Pie(labels=group_sal[group_sal[\"Time\"] == 2020][\"salary_rank\"], name=\"2020 Ratio\",),\n",
    "              1, 1)\n",
    "fig7.add_trace(go.Pie(labels=group_sal[group_sal[\"Time\"] == 2021][\"salary_rank\"], name=\"2021 Ratio\"),\n",
    "              1, 2)\n",
    "\n",
    "# Use `hole` to create a donut-like pie chart\n",
    "fig7.update_traces(hole=.4, hoverinfo=\"label+percent+name\")\n",
    "\n",
    "fig7.update_layout(\n",
    "    title_text=\"Data Science Salaries Above Annual Average Salary For Years 2020 and 2021\",\n",
    "    # Add annotations in the center of the donut pies.\n",
    "    template = \"seaborn\",\n",
    "    annotations=[dict(text='2020', x=0.2, y=0.5, font_size=20, font_color = \"#72AACA\",showarrow=False),\n",
    "                 dict(text='2021', x=0.8, y=0.5, font_size=20, font_color = \"#C6CD60\", showarrow=False)])\n",
    "\n",
    "fig7.show()"
   ]
  },
  {
   "cell_type": "markdown",
   "id": "884a7ea0",
   "metadata": {
    "papermill": {
     "duration": 0.017897,
     "end_time": "2022-08-28T09:59:23.273711",
     "exception": false,
     "start_time": "2022-08-28T09:59:23.255814",
     "status": "completed"
    },
    "tags": []
   },
   "source": [
    "It can be seen that there is a slight increase in terms of salaries being above the domestic average annual salary. However, this can be due to multiple other factors such as:\n",
    "\n",
    "    1. A Higher number of Senior-level and/or Executive-Level respondents to the dataset that has brought up the percentage of \"Above Average\" observations in dataset for 2021, and\n",
    "\n",
    "    2. An increase in demand but a slowly increase in supply for credible and experienced Data Scientist/Data Analyst may be leading to higher salaries advertised to attract ."
   ]
  },
  {
   "cell_type": "markdown",
   "id": "e139af8d",
   "metadata": {
    "papermill": {
     "duration": 0.018158,
     "end_time": "2022-08-28T09:59:23.310598",
     "exception": false,
     "start_time": "2022-08-28T09:59:23.292440",
     "status": "completed"
    },
    "tags": []
   },
   "source": [
    "Next step is to include a slider or dropdown to go through the different countries/continents percentage difference of above and below average salaries for the two years.\n",
    "\n",
    "Hoping to possibly expand this later on as the dataset increases and the domestic average annual salary for 2022 is released much later on."
   ]
  },
  {
   "cell_type": "raw",
   "id": "8e18da39",
   "metadata": {
    "execution": {
     "iopub.execute_input": "2022-08-28T08:47:35.748976Z",
     "iopub.status.busy": "2022-08-28T08:47:35.747967Z",
     "iopub.status.idle": "2022-08-28T08:47:35.814332Z",
     "shell.execute_reply": "2022-08-28T08:47:35.813179Z",
     "shell.execute_reply.started": "2022-08-28T08:47:35.748941Z"
    },
    "papermill": {
     "duration": 0.018705,
     "end_time": "2022-08-28T09:59:23.347562",
     "exception": false,
     "start_time": "2022-08-28T09:59:23.328857",
     "status": "completed"
    },
    "tags": []
   },
   "source": [
    "fig1 = px.scatter(group_sal, x = \"experience_level\", \n",
    "                  y = \"Country\",template = \"ggplot2\",\n",
    "                  color = \"salary_rank\", size = \"Value\",\n",
    "                  title = \"Salary comparison to country average\")\n",
    "\n",
    "fig1.update_xaxes(categoryorder='array', \n",
    "                  categoryarray= [\"Entry-level / Junior\", \"Mid-level / Intermediate\", \"Senior-level / Expert\", \"Executive-level / Director\"])\n",
    "fig1.show()"
   ]
  },
  {
   "cell_type": "code",
   "execution_count": 34,
   "id": "df78e3ca",
   "metadata": {
    "execution": {
     "iopub.execute_input": "2022-08-28T09:59:23.386977Z",
     "iopub.status.busy": "2022-08-28T09:59:23.385859Z",
     "iopub.status.idle": "2022-08-28T09:59:23.410777Z",
     "shell.execute_reply": "2022-08-28T09:59:23.409780Z"
    },
    "papermill": {
     "duration": 0.047199,
     "end_time": "2022-08-28T09:59:23.413225",
     "exception": false,
     "start_time": "2022-08-28T09:59:23.366026",
     "status": "completed"
    },
    "tags": []
   },
   "outputs": [
    {
     "data": {
      "text/html": [
       "<div>\n",
       "<style scoped>\n",
       "    .dataframe tbody tr th:only-of-type {\n",
       "        vertical-align: middle;\n",
       "    }\n",
       "\n",
       "    .dataframe tbody tr th {\n",
       "        vertical-align: top;\n",
       "    }\n",
       "\n",
       "    .dataframe thead th {\n",
       "        text-align: right;\n",
       "    }\n",
       "</style>\n",
       "<table border=\"1\" class=\"dataframe\">\n",
       "  <thead>\n",
       "    <tr style=\"text-align: right;\">\n",
       "      <th></th>\n",
       "      <th>Country</th>\n",
       "      <th>salary_rank</th>\n",
       "      <th>company_size</th>\n",
       "      <th>Time</th>\n",
       "      <th>work_year</th>\n",
       "      <th>salary_in_usd</th>\n",
       "      <th>Value</th>\n",
       "    </tr>\n",
       "  </thead>\n",
       "  <tbody>\n",
       "    <tr>\n",
       "      <th>0</th>\n",
       "      <td>Austria</td>\n",
       "      <td>Above Average</td>\n",
       "      <td>Large</td>\n",
       "      <td>2020</td>\n",
       "      <td>2020.0</td>\n",
       "      <td>74130.00</td>\n",
       "      <td>56807.491932</td>\n",
       "    </tr>\n",
       "    <tr>\n",
       "      <th>1</th>\n",
       "      <td>Austria</td>\n",
       "      <td>Above Average</td>\n",
       "      <td>Medium</td>\n",
       "      <td>2021</td>\n",
       "      <td>2021.0</td>\n",
       "      <td>61467.00</td>\n",
       "      <td>58138.589524</td>\n",
       "    </tr>\n",
       "    <tr>\n",
       "      <th>2</th>\n",
       "      <td>Austria</td>\n",
       "      <td>Above Average</td>\n",
       "      <td>Small</td>\n",
       "      <td>2020</td>\n",
       "      <td>2020.0</td>\n",
       "      <td>91237.00</td>\n",
       "      <td>56807.491932</td>\n",
       "    </tr>\n",
       "    <tr>\n",
       "      <th>3</th>\n",
       "      <td>Belgium</td>\n",
       "      <td>Above Average</td>\n",
       "      <td>Medium</td>\n",
       "      <td>2021</td>\n",
       "      <td>2021.0</td>\n",
       "      <td>85699.00</td>\n",
       "      <td>59601.499049</td>\n",
       "    </tr>\n",
       "    <tr>\n",
       "      <th>4</th>\n",
       "      <td>Canada</td>\n",
       "      <td>Above Average</td>\n",
       "      <td>Large</td>\n",
       "      <td>2020</td>\n",
       "      <td>2020.0</td>\n",
       "      <td>117104.00</td>\n",
       "      <td>56257.713946</td>\n",
       "    </tr>\n",
       "    <tr>\n",
       "      <th>...</th>\n",
       "      <td>...</td>\n",
       "      <td>...</td>\n",
       "      <td>...</td>\n",
       "      <td>...</td>\n",
       "      <td>...</td>\n",
       "      <td>...</td>\n",
       "      <td>...</td>\n",
       "    </tr>\n",
       "    <tr>\n",
       "      <th>77</th>\n",
       "      <td>United States</td>\n",
       "      <td>Below Average</td>\n",
       "      <td>Large</td>\n",
       "      <td>2021</td>\n",
       "      <td>2021.0</td>\n",
       "      <td>50232.25</td>\n",
       "      <td>74737.845354</td>\n",
       "    </tr>\n",
       "    <tr>\n",
       "      <th>78</th>\n",
       "      <td>United States</td>\n",
       "      <td>Below Average</td>\n",
       "      <td>Medium</td>\n",
       "      <td>2020</td>\n",
       "      <td>2020.0</td>\n",
       "      <td>56000.00</td>\n",
       "      <td>72806.754008</td>\n",
       "    </tr>\n",
       "    <tr>\n",
       "      <th>79</th>\n",
       "      <td>United States</td>\n",
       "      <td>Below Average</td>\n",
       "      <td>Medium</td>\n",
       "      <td>2021</td>\n",
       "      <td>2021.0</td>\n",
       "      <td>42600.00</td>\n",
       "      <td>74737.845354</td>\n",
       "    </tr>\n",
       "    <tr>\n",
       "      <th>80</th>\n",
       "      <td>United States</td>\n",
       "      <td>Below Average</td>\n",
       "      <td>Small</td>\n",
       "      <td>2020</td>\n",
       "      <td>2020.0</td>\n",
       "      <td>52880.00</td>\n",
       "      <td>72806.754008</td>\n",
       "    </tr>\n",
       "    <tr>\n",
       "      <th>81</th>\n",
       "      <td>United States</td>\n",
       "      <td>Below Average</td>\n",
       "      <td>Small</td>\n",
       "      <td>2021</td>\n",
       "      <td>2021.0</td>\n",
       "      <td>36535.80</td>\n",
       "      <td>74737.845354</td>\n",
       "    </tr>\n",
       "  </tbody>\n",
       "</table>\n",
       "<p>82 rows × 7 columns</p>\n",
       "</div>"
      ],
      "text/plain": [
       "          Country    salary_rank company_size  Time  work_year  salary_in_usd  \\\n",
       "0         Austria  Above Average        Large  2020     2020.0       74130.00   \n",
       "1         Austria  Above Average       Medium  2021     2021.0       61467.00   \n",
       "2         Austria  Above Average        Small  2020     2020.0       91237.00   \n",
       "3         Belgium  Above Average       Medium  2021     2021.0       85699.00   \n",
       "4          Canada  Above Average        Large  2020     2020.0      117104.00   \n",
       "..            ...            ...          ...   ...        ...            ...   \n",
       "77  United States  Below Average        Large  2021     2021.0       50232.25   \n",
       "78  United States  Below Average       Medium  2020     2020.0       56000.00   \n",
       "79  United States  Below Average       Medium  2021     2021.0       42600.00   \n",
       "80  United States  Below Average        Small  2020     2020.0       52880.00   \n",
       "81  United States  Below Average        Small  2021     2021.0       36535.80   \n",
       "\n",
       "           Value  \n",
       "0   56807.491932  \n",
       "1   58138.589524  \n",
       "2   56807.491932  \n",
       "3   59601.499049  \n",
       "4   56257.713946  \n",
       "..           ...  \n",
       "77  74737.845354  \n",
       "78  72806.754008  \n",
       "79  74737.845354  \n",
       "80  72806.754008  \n",
       "81  74737.845354  \n",
       "\n",
       "[82 rows x 7 columns]"
      ]
     },
     "execution_count": 34,
     "metadata": {},
     "output_type": "execute_result"
    }
   ],
   "source": [
    "group_sal3 = completed_salary2.groupby([ \"Country\", \"salary_rank\", \"company_size\", \"Time\"], as_index = False).mean()\n",
    "group_sal3"
   ]
  },
  {
   "cell_type": "code",
   "execution_count": 35,
   "id": "c2ff8beb",
   "metadata": {
    "execution": {
     "iopub.execute_input": "2022-08-28T09:59:23.453595Z",
     "iopub.status.busy": "2022-08-28T09:59:23.452637Z",
     "iopub.status.idle": "2022-08-28T09:59:23.554183Z",
     "shell.execute_reply": "2022-08-28T09:59:23.553088Z"
    },
    "papermill": {
     "duration": 0.124268,
     "end_time": "2022-08-28T09:59:23.556762",
     "exception": false,
     "start_time": "2022-08-28T09:59:23.432494",
     "status": "completed"
    },
    "tags": []
   },
   "outputs": [
    {
     "data": {
      "text/html": [
       "<div>                            <div id=\"cc7a7523-3508-43f1-975c-702cb17aaf80\" class=\"plotly-graph-div\" style=\"height:525px; width:100%;\"></div>            <script type=\"text/javascript\">                require([\"plotly\"], function(Plotly) {                    window.PLOTLYENV=window.PLOTLYENV || {};                                    if (document.getElementById(\"cc7a7523-3508-43f1-975c-702cb17aaf80\")) {                    Plotly.newPlot(                        \"cc7a7523-3508-43f1-975c-702cb17aaf80\",                        [{\"alignmentgroup\":\"True\",\"hovertemplate\":\"company_size=Large<br>Time=2020<br>salary_in_usd=%{x}<br>Country=%{y}<extra></extra>\",\"legendgroup\":\"\",\"marker\":{\"color\":\"#636efa\",\"pattern\":{\"shape\":\"\"}},\"name\":\"\",\"offsetgroup\":\"\",\"orientation\":\"h\",\"showlegend\":false,\"textposition\":\"auto\",\"x\":[74130.0,117104.0,70139.0,46759.0,79833.0,54742.0,47899.0,35735.0,42000.0,79833.0,112872.0,157800.0,70142.66666666667],\"xaxis\":\"x\",\"y\":[\"Austria\",\"Canada\",\"France\",\"France\",\"Germany\",\"Germany\",\"Greece\",\"Hungary\",\"Netherlands\",\"Spain\",\"United Kingdom\",\"United States\",\"United States\"],\"yaxis\":\"y\",\"type\":\"bar\"},{\"alignmentgroup\":\"True\",\"hovertemplate\":\"company_size=Large<br>Time=2021<br>salary_in_usd=%{x}<br>Country=%{y}<extra></extra>\",\"legendgroup\":\"\",\"marker\":{\"color\":\"#636efa\",\"pattern\":{\"shape\":\"\"}},\"name\":\"\",\"offsetgroup\":\"\",\"orientation\":\"h\",\"showlegend\":false,\"textposition\":\"auto\",\"x\":[135873.5,54238.0,69999.0,88654.0,102596.0,36643.0,87802.66666666667,51064.0,59102.0,69741.0,45391.0,100132.0,28476.0,60757.0,102839.0,24823.0,55000.0,37825.0,5882.0,84831.625,51519.0,180803.92156862744,50232.25],\"xaxis\":\"x2\",\"y\":[\"Canada\",\"Canada\",\"Czech Republic\",\"Denmark\",\"France\",\"France\",\"Germany\",\"Italy\",\"Luxembourg\",\"Netherlands\",\"Netherlands\",\"Poland\",\"Poland\",\"Portugal\",\"Slovenia\",\"Slovenia\",\"Spain\",\"Spain\",\"Switzerland\",\"United Kingdom\",\"United Kingdom\",\"United States\",\"United States\"],\"yaxis\":\"y2\",\"type\":\"bar\"}],                        {\"template\":{\"data\":{\"barpolar\":[{\"marker\":{\"line\":{\"color\":\"rgb(17,17,17)\",\"width\":0.5},\"pattern\":{\"fillmode\":\"overlay\",\"size\":10,\"solidity\":0.2}},\"type\":\"barpolar\"}],\"bar\":[{\"error_x\":{\"color\":\"#f2f5fa\"},\"error_y\":{\"color\":\"#f2f5fa\"},\"marker\":{\"line\":{\"color\":\"rgb(17,17,17)\",\"width\":0.5},\"pattern\":{\"fillmode\":\"overlay\",\"size\":10,\"solidity\":0.2}},\"type\":\"bar\"}],\"carpet\":[{\"aaxis\":{\"endlinecolor\":\"#A2B1C6\",\"gridcolor\":\"#506784\",\"linecolor\":\"#506784\",\"minorgridcolor\":\"#506784\",\"startlinecolor\":\"#A2B1C6\"},\"baxis\":{\"endlinecolor\":\"#A2B1C6\",\"gridcolor\":\"#506784\",\"linecolor\":\"#506784\",\"minorgridcolor\":\"#506784\",\"startlinecolor\":\"#A2B1C6\"},\"type\":\"carpet\"}],\"choropleth\":[{\"colorbar\":{\"outlinewidth\":0,\"ticks\":\"\"},\"type\":\"choropleth\"}],\"contourcarpet\":[{\"colorbar\":{\"outlinewidth\":0,\"ticks\":\"\"},\"type\":\"contourcarpet\"}],\"contour\":[{\"colorbar\":{\"outlinewidth\":0,\"ticks\":\"\"},\"colorscale\":[[0.0,\"#0d0887\"],[0.1111111111111111,\"#46039f\"],[0.2222222222222222,\"#7201a8\"],[0.3333333333333333,\"#9c179e\"],[0.4444444444444444,\"#bd3786\"],[0.5555555555555556,\"#d8576b\"],[0.6666666666666666,\"#ed7953\"],[0.7777777777777778,\"#fb9f3a\"],[0.8888888888888888,\"#fdca26\"],[1.0,\"#f0f921\"]],\"type\":\"contour\"}],\"heatmapgl\":[{\"colorbar\":{\"outlinewidth\":0,\"ticks\":\"\"},\"colorscale\":[[0.0,\"#0d0887\"],[0.1111111111111111,\"#46039f\"],[0.2222222222222222,\"#7201a8\"],[0.3333333333333333,\"#9c179e\"],[0.4444444444444444,\"#bd3786\"],[0.5555555555555556,\"#d8576b\"],[0.6666666666666666,\"#ed7953\"],[0.7777777777777778,\"#fb9f3a\"],[0.8888888888888888,\"#fdca26\"],[1.0,\"#f0f921\"]],\"type\":\"heatmapgl\"}],\"heatmap\":[{\"colorbar\":{\"outlinewidth\":0,\"ticks\":\"\"},\"colorscale\":[[0.0,\"#0d0887\"],[0.1111111111111111,\"#46039f\"],[0.2222222222222222,\"#7201a8\"],[0.3333333333333333,\"#9c179e\"],[0.4444444444444444,\"#bd3786\"],[0.5555555555555556,\"#d8576b\"],[0.6666666666666666,\"#ed7953\"],[0.7777777777777778,\"#fb9f3a\"],[0.8888888888888888,\"#fdca26\"],[1.0,\"#f0f921\"]],\"type\":\"heatmap\"}],\"histogram2dcontour\":[{\"colorbar\":{\"outlinewidth\":0,\"ticks\":\"\"},\"colorscale\":[[0.0,\"#0d0887\"],[0.1111111111111111,\"#46039f\"],[0.2222222222222222,\"#7201a8\"],[0.3333333333333333,\"#9c179e\"],[0.4444444444444444,\"#bd3786\"],[0.5555555555555556,\"#d8576b\"],[0.6666666666666666,\"#ed7953\"],[0.7777777777777778,\"#fb9f3a\"],[0.8888888888888888,\"#fdca26\"],[1.0,\"#f0f921\"]],\"type\":\"histogram2dcontour\"}],\"histogram2d\":[{\"colorbar\":{\"outlinewidth\":0,\"ticks\":\"\"},\"colorscale\":[[0.0,\"#0d0887\"],[0.1111111111111111,\"#46039f\"],[0.2222222222222222,\"#7201a8\"],[0.3333333333333333,\"#9c179e\"],[0.4444444444444444,\"#bd3786\"],[0.5555555555555556,\"#d8576b\"],[0.6666666666666666,\"#ed7953\"],[0.7777777777777778,\"#fb9f3a\"],[0.8888888888888888,\"#fdca26\"],[1.0,\"#f0f921\"]],\"type\":\"histogram2d\"}],\"histogram\":[{\"marker\":{\"pattern\":{\"fillmode\":\"overlay\",\"size\":10,\"solidity\":0.2}},\"type\":\"histogram\"}],\"mesh3d\":[{\"colorbar\":{\"outlinewidth\":0,\"ticks\":\"\"},\"type\":\"mesh3d\"}],\"parcoords\":[{\"line\":{\"colorbar\":{\"outlinewidth\":0,\"ticks\":\"\"}},\"type\":\"parcoords\"}],\"pie\":[{\"automargin\":true,\"type\":\"pie\"}],\"scatter3d\":[{\"line\":{\"colorbar\":{\"outlinewidth\":0,\"ticks\":\"\"}},\"marker\":{\"colorbar\":{\"outlinewidth\":0,\"ticks\":\"\"}},\"type\":\"scatter3d\"}],\"scattercarpet\":[{\"marker\":{\"colorbar\":{\"outlinewidth\":0,\"ticks\":\"\"}},\"type\":\"scattercarpet\"}],\"scattergeo\":[{\"marker\":{\"colorbar\":{\"outlinewidth\":0,\"ticks\":\"\"}},\"type\":\"scattergeo\"}],\"scattergl\":[{\"marker\":{\"line\":{\"color\":\"#283442\"}},\"type\":\"scattergl\"}],\"scattermapbox\":[{\"marker\":{\"colorbar\":{\"outlinewidth\":0,\"ticks\":\"\"}},\"type\":\"scattermapbox\"}],\"scatterpolargl\":[{\"marker\":{\"colorbar\":{\"outlinewidth\":0,\"ticks\":\"\"}},\"type\":\"scatterpolargl\"}],\"scatterpolar\":[{\"marker\":{\"colorbar\":{\"outlinewidth\":0,\"ticks\":\"\"}},\"type\":\"scatterpolar\"}],\"scatter\":[{\"marker\":{\"line\":{\"color\":\"#283442\"}},\"type\":\"scatter\"}],\"scatterternary\":[{\"marker\":{\"colorbar\":{\"outlinewidth\":0,\"ticks\":\"\"}},\"type\":\"scatterternary\"}],\"surface\":[{\"colorbar\":{\"outlinewidth\":0,\"ticks\":\"\"},\"colorscale\":[[0.0,\"#0d0887\"],[0.1111111111111111,\"#46039f\"],[0.2222222222222222,\"#7201a8\"],[0.3333333333333333,\"#9c179e\"],[0.4444444444444444,\"#bd3786\"],[0.5555555555555556,\"#d8576b\"],[0.6666666666666666,\"#ed7953\"],[0.7777777777777778,\"#fb9f3a\"],[0.8888888888888888,\"#fdca26\"],[1.0,\"#f0f921\"]],\"type\":\"surface\"}],\"table\":[{\"cells\":{\"fill\":{\"color\":\"#506784\"},\"line\":{\"color\":\"rgb(17,17,17)\"}},\"header\":{\"fill\":{\"color\":\"#2a3f5f\"},\"line\":{\"color\":\"rgb(17,17,17)\"}},\"type\":\"table\"}]},\"layout\":{\"annotationdefaults\":{\"arrowcolor\":\"#f2f5fa\",\"arrowhead\":0,\"arrowwidth\":1},\"autotypenumbers\":\"strict\",\"coloraxis\":{\"colorbar\":{\"outlinewidth\":0,\"ticks\":\"\"}},\"colorscale\":{\"diverging\":[[0,\"#8e0152\"],[0.1,\"#c51b7d\"],[0.2,\"#de77ae\"],[0.3,\"#f1b6da\"],[0.4,\"#fde0ef\"],[0.5,\"#f7f7f7\"],[0.6,\"#e6f5d0\"],[0.7,\"#b8e186\"],[0.8,\"#7fbc41\"],[0.9,\"#4d9221\"],[1,\"#276419\"]],\"sequential\":[[0.0,\"#0d0887\"],[0.1111111111111111,\"#46039f\"],[0.2222222222222222,\"#7201a8\"],[0.3333333333333333,\"#9c179e\"],[0.4444444444444444,\"#bd3786\"],[0.5555555555555556,\"#d8576b\"],[0.6666666666666666,\"#ed7953\"],[0.7777777777777778,\"#fb9f3a\"],[0.8888888888888888,\"#fdca26\"],[1.0,\"#f0f921\"]],\"sequentialminus\":[[0.0,\"#0d0887\"],[0.1111111111111111,\"#46039f\"],[0.2222222222222222,\"#7201a8\"],[0.3333333333333333,\"#9c179e\"],[0.4444444444444444,\"#bd3786\"],[0.5555555555555556,\"#d8576b\"],[0.6666666666666666,\"#ed7953\"],[0.7777777777777778,\"#fb9f3a\"],[0.8888888888888888,\"#fdca26\"],[1.0,\"#f0f921\"]]},\"colorway\":[\"#636efa\",\"#EF553B\",\"#00cc96\",\"#ab63fa\",\"#FFA15A\",\"#19d3f3\",\"#FF6692\",\"#B6E880\",\"#FF97FF\",\"#FECB52\"],\"font\":{\"color\":\"#f2f5fa\"},\"geo\":{\"bgcolor\":\"rgb(17,17,17)\",\"lakecolor\":\"rgb(17,17,17)\",\"landcolor\":\"rgb(17,17,17)\",\"showlakes\":true,\"showland\":true,\"subunitcolor\":\"#506784\"},\"hoverlabel\":{\"align\":\"left\"},\"hovermode\":\"closest\",\"mapbox\":{\"style\":\"dark\"},\"paper_bgcolor\":\"rgb(17,17,17)\",\"plot_bgcolor\":\"rgb(17,17,17)\",\"polar\":{\"angularaxis\":{\"gridcolor\":\"#506784\",\"linecolor\":\"#506784\",\"ticks\":\"\"},\"bgcolor\":\"rgb(17,17,17)\",\"radialaxis\":{\"gridcolor\":\"#506784\",\"linecolor\":\"#506784\",\"ticks\":\"\"}},\"scene\":{\"xaxis\":{\"backgroundcolor\":\"rgb(17,17,17)\",\"gridcolor\":\"#506784\",\"gridwidth\":2,\"linecolor\":\"#506784\",\"showbackground\":true,\"ticks\":\"\",\"zerolinecolor\":\"#C8D4E3\"},\"yaxis\":{\"backgroundcolor\":\"rgb(17,17,17)\",\"gridcolor\":\"#506784\",\"gridwidth\":2,\"linecolor\":\"#506784\",\"showbackground\":true,\"ticks\":\"\",\"zerolinecolor\":\"#C8D4E3\"},\"zaxis\":{\"backgroundcolor\":\"rgb(17,17,17)\",\"gridcolor\":\"#506784\",\"gridwidth\":2,\"linecolor\":\"#506784\",\"showbackground\":true,\"ticks\":\"\",\"zerolinecolor\":\"#C8D4E3\"}},\"shapedefaults\":{\"line\":{\"color\":\"#f2f5fa\"}},\"sliderdefaults\":{\"bgcolor\":\"#C8D4E3\",\"bordercolor\":\"rgb(17,17,17)\",\"borderwidth\":1,\"tickwidth\":0},\"ternary\":{\"aaxis\":{\"gridcolor\":\"#506784\",\"linecolor\":\"#506784\",\"ticks\":\"\"},\"baxis\":{\"gridcolor\":\"#506784\",\"linecolor\":\"#506784\",\"ticks\":\"\"},\"bgcolor\":\"rgb(17,17,17)\",\"caxis\":{\"gridcolor\":\"#506784\",\"linecolor\":\"#506784\",\"ticks\":\"\"}},\"title\":{\"x\":0.05},\"updatemenudefaults\":{\"bgcolor\":\"#506784\",\"borderwidth\":0},\"xaxis\":{\"automargin\":true,\"gridcolor\":\"#283442\",\"linecolor\":\"#506784\",\"ticks\":\"\",\"title\":{\"standoff\":15},\"zerolinecolor\":\"#283442\",\"zerolinewidth\":2},\"yaxis\":{\"automargin\":true,\"gridcolor\":\"#283442\",\"linecolor\":\"#506784\",\"ticks\":\"\",\"title\":{\"standoff\":15},\"zerolinecolor\":\"#283442\",\"zerolinewidth\":2}}},\"xaxis\":{\"anchor\":\"y\",\"domain\":[0.0,0.49],\"title\":{\"text\":\"salary_in_usd\"}},\"yaxis\":{\"anchor\":\"x\",\"domain\":[0.0,1.0],\"title\":{\"text\":\"Country\"}},\"xaxis2\":{\"anchor\":\"y2\",\"domain\":[0.51,1.0],\"matches\":\"x\",\"title\":{\"text\":\"salary_in_usd\"}},\"yaxis2\":{\"anchor\":\"x2\",\"domain\":[0.0,1.0],\"matches\":\"y\",\"showticklabels\":false},\"annotations\":[{\"font\":{},\"showarrow\":false,\"text\":\"Time=2020\",\"x\":0.245,\"xanchor\":\"center\",\"xref\":\"paper\",\"y\":1.0,\"yanchor\":\"bottom\",\"yref\":\"paper\"},{\"font\":{},\"showarrow\":false,\"text\":\"Time=2021\",\"x\":0.755,\"xanchor\":\"center\",\"xref\":\"paper\",\"y\":1.0,\"yanchor\":\"bottom\",\"yref\":\"paper\"}],\"legend\":{\"tracegroupgap\":0},\"margin\":{\"t\":60},\"barmode\":\"relative\",\"updatemenus\":[{\"buttons\":[{\"args\":[null,{\"frame\":{\"duration\":500,\"redraw\":true},\"mode\":\"immediate\",\"fromcurrent\":true,\"transition\":{\"duration\":500,\"easing\":\"linear\"}}],\"label\":\"&#9654;\",\"method\":\"animate\"},{\"args\":[[null],{\"frame\":{\"duration\":0,\"redraw\":true},\"mode\":\"immediate\",\"fromcurrent\":true,\"transition\":{\"duration\":0,\"easing\":\"linear\"}}],\"label\":\"&#9724;\",\"method\":\"animate\"}],\"direction\":\"left\",\"pad\":{\"r\":10,\"t\":70},\"showactive\":false,\"type\":\"buttons\",\"x\":0.1,\"xanchor\":\"right\",\"y\":0,\"yanchor\":\"top\"}],\"sliders\":[{\"active\":0,\"currentvalue\":{\"prefix\":\"company_size=\"},\"len\":0.9,\"pad\":{\"b\":10,\"t\":60},\"steps\":[{\"args\":[[\"Large\"],{\"frame\":{\"duration\":0,\"redraw\":true},\"mode\":\"immediate\",\"fromcurrent\":true,\"transition\":{\"duration\":0,\"easing\":\"linear\"}}],\"label\":\"Large\",\"method\":\"animate\"},{\"args\":[[\"Medium\"],{\"frame\":{\"duration\":0,\"redraw\":true},\"mode\":\"immediate\",\"fromcurrent\":true,\"transition\":{\"duration\":0,\"easing\":\"linear\"}}],\"label\":\"Medium\",\"method\":\"animate\"},{\"args\":[[\"Small\"],{\"frame\":{\"duration\":0,\"redraw\":true},\"mode\":\"immediate\",\"fromcurrent\":true,\"transition\":{\"duration\":0,\"easing\":\"linear\"}}],\"label\":\"Small\",\"method\":\"animate\"}],\"x\":0.1,\"xanchor\":\"left\",\"y\":0,\"yanchor\":\"top\"}]},                        {\"responsive\": true}                    ).then(function(){\n",
       "                            Plotly.addFrames('cc7a7523-3508-43f1-975c-702cb17aaf80', [{\"data\":[{\"alignmentgroup\":\"True\",\"hovertemplate\":\"company_size=Large<br>Time=2020<br>salary_in_usd=%{x}<br>Country=%{y}<extra></extra>\",\"legendgroup\":\"\",\"marker\":{\"color\":\"#636efa\",\"pattern\":{\"shape\":\"\"}},\"name\":\"\",\"offsetgroup\":\"\",\"orientation\":\"h\",\"showlegend\":false,\"textposition\":\"auto\",\"x\":[74130.0,117104.0,70139.0,46759.0,79833.0,54742.0,47899.0,35735.0,42000.0,79833.0,112872.0,157800.0,70142.66666666667],\"xaxis\":\"x\",\"y\":[\"Austria\",\"Canada\",\"France\",\"France\",\"Germany\",\"Germany\",\"Greece\",\"Hungary\",\"Netherlands\",\"Spain\",\"United Kingdom\",\"United States\",\"United States\"],\"yaxis\":\"y\",\"type\":\"bar\"},{\"alignmentgroup\":\"True\",\"hovertemplate\":\"company_size=Large<br>Time=2021<br>salary_in_usd=%{x}<br>Country=%{y}<extra></extra>\",\"legendgroup\":\"\",\"marker\":{\"color\":\"#636efa\",\"pattern\":{\"shape\":\"\"}},\"name\":\"\",\"offsetgroup\":\"\",\"orientation\":\"h\",\"showlegend\":false,\"textposition\":\"auto\",\"x\":[135873.5,54238.0,69999.0,88654.0,102596.0,36643.0,87802.66666666667,51064.0,59102.0,69741.0,45391.0,100132.0,28476.0,60757.0,102839.0,24823.0,55000.0,37825.0,5882.0,84831.625,51519.0,180803.92156862744,50232.25],\"xaxis\":\"x2\",\"y\":[\"Canada\",\"Canada\",\"Czech Republic\",\"Denmark\",\"France\",\"France\",\"Germany\",\"Italy\",\"Luxembourg\",\"Netherlands\",\"Netherlands\",\"Poland\",\"Poland\",\"Portugal\",\"Slovenia\",\"Slovenia\",\"Spain\",\"Spain\",\"Switzerland\",\"United Kingdom\",\"United Kingdom\",\"United States\",\"United States\"],\"yaxis\":\"y2\",\"type\":\"bar\"}],\"name\":\"Large\"},{\"data\":[{\"alignmentgroup\":\"True\",\"hovertemplate\":\"company_size=Medium<br>Time=2020<br>salary_in_usd=%{x}<br>Country=%{y}<extra></extra>\",\"legendgroup\":\"\",\"marker\":{\"color\":\"#636efa\",\"pattern\":{\"shape\":\"\"}},\"name\":\"\",\"offsetgroup\":\"\",\"orientation\":\"h\",\"showlegend\":false,\"textposition\":\"auto\",\"x\":[39916.0,148261.0,50180.0,38776.0,109024.0,187558.33333333334,56000.0],\"xaxis\":\"x\",\"y\":[\"France\",\"Germany\",\"Portugal\",\"Spain\",\"United Kingdom\",\"United States\",\"United States\"],\"yaxis\":\"y\",\"type\":\"bar\"},{\"alignmentgroup\":\"True\",\"hovertemplate\":\"company_size=Medium<br>Time=2021<br>salary_in_usd=%{x}<br>Country=%{y}<extra></extra>\",\"legendgroup\":\"\",\"marker\":{\"color\":\"#636efa\",\"pattern\":{\"shape\":\"\"}},\"name\":\"\",\"offsetgroup\":\"\",\"orientation\":\"h\",\"showlegend\":false,\"textposition\":\"auto\",\"x\":[61467.0,85699.0,78433.0,62270.25,122933.66666666667,24823.0,40189.0,119059.0,46809.0,10354.0,113476.0,50000.0,127328.33333333333,42600.0],\"xaxis\":\"x2\",\"y\":[\"Austria\",\"Belgium\",\"Canada\",\"France\",\"Germany\",\"Germany\",\"Greece\",\"Israel\",\"Spain\",\"Spain\",\"United Kingdom\",\"United Kingdom\",\"United States\",\"United States\"],\"yaxis\":\"y2\",\"type\":\"bar\"}],\"name\":\"Medium\"},{\"data\":[{\"alignmentgroup\":\"True\",\"hovertemplate\":\"company_size=Small<br>Time=2020<br>salary_in_usd=%{x}<br>Country=%{y}<extra></extra>\",\"legendgroup\":\"\",\"marker\":{\"color\":\"#636efa\",\"pattern\":{\"shape\":\"\"}},\"name\":\"\",\"offsetgroup\":\"\",\"orientation\":\"h\",\"showlegend\":false,\"textposition\":\"auto\",\"x\":[91237.0,45896.0,51321.0,42197.0,61014.5,32617.0,21669.0,150844.5,62726.0,33511.0,125000.0,95502.5,144333.33333333334,52880.0],\"xaxis\":\"x\",\"y\":[\"Austria\",\"Denmark\",\"France\",\"France\",\"Germany\",\"Germany\",\"Italy\",\"Japan\",\"Luxembourg\",\"Mexico\",\"New Zealand\",\"United Kingdom\",\"United States\",\"United States\"],\"yaxis\":\"y\",\"type\":\"bar\"},{\"alignmentgroup\":\"True\",\"hovertemplate\":\"company_size=Small<br>Time=2021<br>salary_in_usd=%{x}<br>Country=%{y}<extra></extra>\",\"legendgroup\":\"\",\"marker\":{\"color\":\"#636efa\",\"pattern\":{\"shape\":\"\"}},\"name\":\"\",\"offsetgroup\":\"\",\"orientation\":\"h\",\"showlegend\":false,\"textposition\":\"auto\",\"x\":[87738.0,28609.0,56738.0,80916.5,25532.0,95768.75,2859.0,58511.5,82005.0,135702.875,36535.8],\"xaxis\":\"x2\",\"y\":[\"Canada\",\"Denmark\",\"France\",\"Germany\",\"Germany\",\"Japan\",\"Mexico\",\"Spain\",\"United Kingdom\",\"United States\",\"United States\"],\"yaxis\":\"y2\",\"type\":\"bar\"}],\"name\":\"Small\"}]);\n",
       "                        }).then(function(){\n",
       "                            \n",
       "var gd = document.getElementById('cc7a7523-3508-43f1-975c-702cb17aaf80');\n",
       "var x = new MutationObserver(function (mutations, observer) {{\n",
       "        var display = window.getComputedStyle(gd).display;\n",
       "        if (!display || display === 'none') {{\n",
       "            console.log([gd, 'removed!']);\n",
       "            Plotly.purge(gd);\n",
       "            observer.disconnect();\n",
       "        }}\n",
       "}});\n",
       "\n",
       "// Listen for the removal of the full notebook cells\n",
       "var notebookContainer = gd.closest('#notebook-container');\n",
       "if (notebookContainer) {{\n",
       "    x.observe(notebookContainer, {childList: true});\n",
       "}}\n",
       "\n",
       "// Listen for the clearing of the current output cell\n",
       "var outputEl = gd.closest('.output');\n",
       "if (outputEl) {{\n",
       "    x.observe(outputEl, {childList: true});\n",
       "}}\n",
       "\n",
       "                        })                };                });            </script>        </div>"
      ]
     },
     "metadata": {},
     "output_type": "display_data"
    }
   ],
   "source": [
    "px.bar(group_sal3, \"salary_in_usd\", y = \"Country\", facet_col = \"Time\", animation_frame = \"company_size\", template = \"plotly_dark\")"
   ]
  },
  {
   "cell_type": "code",
   "execution_count": null,
   "id": "116f5e78",
   "metadata": {
    "papermill": {
     "duration": 0.01924,
     "end_time": "2022-08-28T09:59:23.595522",
     "exception": false,
     "start_time": "2022-08-28T09:59:23.576282",
     "status": "completed"
    },
    "tags": []
   },
   "outputs": [],
   "source": []
  }
 ],
 "metadata": {
  "kernelspec": {
   "display_name": "Python 3",
   "language": "python",
   "name": "python3"
  },
  "language_info": {
   "codemirror_mode": {
    "name": "ipython",
    "version": 3
   },
   "file_extension": ".py",
   "mimetype": "text/x-python",
   "name": "python",
   "nbconvert_exporter": "python",
   "pygments_lexer": "ipython3",
   "version": "3.7.12"
  },
  "papermill": {
   "default_parameters": {},
   "duration": 17.882514,
   "end_time": "2022-08-28T09:59:24.439114",
   "environment_variables": {},
   "exception": null,
   "input_path": "__notebook__.ipynb",
   "output_path": "__notebook__.ipynb",
   "parameters": {},
   "start_time": "2022-08-28T09:59:06.556600",
   "version": "2.3.4"
  }
 },
 "nbformat": 4,
 "nbformat_minor": 5
}
